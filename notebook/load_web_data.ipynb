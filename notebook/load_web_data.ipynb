{
 "cells": [
  {
   "cell_type": "code",
   "execution_count": 1,
   "metadata": {
    "collapsed": true
   },
   "outputs": [],
   "source": [
    "from urllib.request import urlopen\n",
    "from bs4 import BeautifulSoup\n",
    "import pandas as pd\n",
    "import requests"
   ]
  },
  {
   "cell_type": "code",
   "execution_count": 148,
   "metadata": {
    "collapsed": true
   },
   "outputs": [],
   "source": [
    "with open('d:\\__ HKEX __ HKEXnews __.html','r',encoding=\"utf-8\") as f:\n",
    "    html_txt = f.read()"
   ]
  },
  {
   "cell_type": "code",
   "execution_count": 9,
   "metadata": {
    "collapsed": true
   },
   "outputs": [],
   "source": [
    "soup = BeautifulSoup(html_txt,'html.parser')"
   ]
  },
  {
   "cell_type": "code",
   "execution_count": 25,
   "metadata": {},
   "outputs": [
    {
     "name": "stdout",
     "output_type": "stream",
     "text": [
      "{'last_date': '13/06/2018', 'stock_code': '91888', 'stock_name': '中國國旅'}\n"
     ]
    }
   ],
   "source": [
    "temp_html = soup.find(\"table\",{\"id\":\"Table5\"})\n",
    "temp_html = temp_html.find_all('td',{\"class\":\"arial12black\"})\n",
    "\n",
    "first_dict = {}\n",
    "first_dict['last_date'] = temp_html[1].get_text().strip()\n",
    "first_dict['stock_code'] = temp_html[3].get_text().strip()\n",
    "first_dict['stock_name'] = temp_html[5].get_text().strip()\n",
    "\n",
    "print(first_dict)"
   ]
  },
  {
   "cell_type": "code",
   "execution_count": 26,
   "metadata": {},
   "outputs": [
    {
     "name": "stdout",
     "output_type": "stream",
     "text": [
      "{'hold_volumn': '215,446,668', 'people_number': '52', 'hold_precent': '11.03%', 'all_volumn': '1,952,475,544'}\n"
     ]
    }
   ],
   "source": [
    "temp_html = soup.find(\"div\",{\"id\":{\"pnlResultSummary\"}})\n",
    "temp_html = temp_html.find_all(\"span\",{\"class\":\"mobilezoom\"})\n",
    "\n",
    "second_dict = {}\n",
    "second_dict['hold_volumn'] = temp_html[0].get_text().strip()\n",
    "second_dict['people_number'] = temp_html[1].get_text().strip()\n",
    "second_dict['hold_precent'] = temp_html[2].get_text().strip()\n",
    "second_dict['all_volumn'] = temp_html[6].get_text().strip()\n",
    "print(second_dict)"
   ]
  },
  {
   "cell_type": "code",
   "execution_count": 22,
   "metadata": {
    "collapsed": true
   },
   "outputs": [],
   "source": [
    "temp_html = soup.find(\"table\",{\"id\":{\"participantShareholdingList\"}})\n",
    "temp_html = temp_html.find_all('tr')\n",
    "\n",
    "row_number = len(temp_html)\n",
    "col_number = len(temp_html[0].find_all('td'))\n",
    "\n",
    "d = {}\n",
    "for i in range(col_number):\n",
    "    d[i] = []\n",
    "\n",
    "for i in range(1,row_number):\n",
    "    temp_tr = temp_html[i]\n",
    "    temp_td = temp_tr.find_all('td')\n",
    "    \n",
    "    if len(temp_td) != col_number:\n",
    "        continue\n",
    "        \n",
    "    for j in range(col_number):\n",
    "        temp_string = temp_td[j].get_text().strip()\n",
    "        d[j].append(temp_string)\n",
    "\n",
    "last_pd = pd.DataFrame(d)\n",
    "    \n",
    "last_dict = {}\n",
    "for i in range(len(last_pd)):\n",
    "    last_dict[last_pd.iat[i,0]] = last_pd.iat[i,1]\n",
    "\n",
    "new_pd = pd.DataFrame(last_pd[3])\n",
    "new_pd = new_pd.T\n",
    "new_pd.columns = last_pd[0]"
   ]
  },
  {
   "cell_type": "code",
   "execution_count": 24,
   "metadata": {},
   "outputs": [
    {
     "data": {
      "text/html": [
       "<div>\n",
       "<style>\n",
       "    .dataframe thead tr:only-child th {\n",
       "        text-align: right;\n",
       "    }\n",
       "\n",
       "    .dataframe thead th {\n",
       "        text-align: left;\n",
       "    }\n",
       "\n",
       "    .dataframe tbody tr th {\n",
       "        vertical-align: top;\n",
       "    }\n",
       "</style>\n",
       "<table border=\"1\" class=\"dataframe\">\n",
       "  <thead>\n",
       "    <tr style=\"text-align: right;\">\n",
       "      <th></th>\n",
       "      <th>C00019</th>\n",
       "      <th>C00039</th>\n",
       "      <th>C00010</th>\n",
       "      <th>C00100</th>\n",
       "      <th>B01161</th>\n",
       "      <th>B01110</th>\n",
       "      <th>C00093</th>\n",
       "      <th>B01565</th>\n",
       "      <th>B01654</th>\n",
       "      <th>B01491</th>\n",
       "      <th>...</th>\n",
       "      <th>B01372</th>\n",
       "      <th>B01971</th>\n",
       "      <th>B01695</th>\n",
       "      <th>B01825</th>\n",
       "      <th>C00036</th>\n",
       "      <th>B01947</th>\n",
       "      <th>B01353</th>\n",
       "      <th>C00042</th>\n",
       "      <th>B01818</th>\n",
       "      <th>B01967</th>\n",
       "    </tr>\n",
       "  </thead>\n",
       "  <tbody>\n",
       "    <tr>\n",
       "      <th>3</th>\n",
       "      <td>57,653,019</td>\n",
       "      <td>36,854,187</td>\n",
       "      <td>28,569,841</td>\n",
       "      <td>26,046,799</td>\n",
       "      <td>12,900,300</td>\n",
       "      <td>10,594,931</td>\n",
       "      <td>9,752,274</td>\n",
       "      <td>8,684,492</td>\n",
       "      <td>6,362,971</td>\n",
       "      <td>5,401,751</td>\n",
       "      <td>...</td>\n",
       "      <td>5,000</td>\n",
       "      <td>3,200</td>\n",
       "      <td>2,000</td>\n",
       "      <td>2,000</td>\n",
       "      <td>1,800</td>\n",
       "      <td>1,700</td>\n",
       "      <td>1,100</td>\n",
       "      <td>1,000</td>\n",
       "      <td>400</td>\n",
       "      <td>100</td>\n",
       "    </tr>\n",
       "  </tbody>\n",
       "</table>\n",
       "<p>1 rows × 52 columns</p>\n",
       "</div>"
      ],
      "text/plain": [
       "0      C00019      C00039      C00010      C00100      B01161      B01110  \\\n",
       "3  57,653,019  36,854,187  28,569,841  26,046,799  12,900,300  10,594,931   \n",
       "\n",
       "0     C00093     B01565     B01654     B01491  ...   B01372 B01971 B01695  \\\n",
       "3  9,752,274  8,684,492  6,362,971  5,401,751  ...    5,000  3,200  2,000   \n",
       "\n",
       "0 B01825 C00036 B01947 B01353 C00042 B01818 B01967  \n",
       "3  2,000  1,800  1,700  1,100  1,000    400    100  \n",
       "\n",
       "[1 rows x 52 columns]"
      ]
     },
     "execution_count": 24,
     "metadata": {},
     "output_type": "execute_result"
    }
   ],
   "source": [
    "new_pd"
   ]
  },
  {
   "cell_type": "code",
   "execution_count": 81,
   "metadata": {
    "collapsed": true
   },
   "outputs": [],
   "source": [
    "new_pd.index = {first_dict['last_date']}"
   ]
  },
  {
   "cell_type": "code",
   "execution_count": 84,
   "metadata": {
    "collapsed": true
   },
   "outputs": [],
   "source": [
    "merge_pd = new_pd"
   ]
  },
  {
   "cell_type": "code",
   "execution_count": null,
   "metadata": {
    "collapsed": true
   },
   "outputs": [],
   "source": [
    "merge_pd = pd.concat([old_pd,new_pd])\n",
    "name_dict.update(last_dict)\n",
    "\n",
    "store['name_dict'] = name_dict\n",
    "store['old_pd'] = merge_pd\n"
   ]
  },
  {
   "cell_type": "code",
   "execution_count": 28,
   "metadata": {
    "collapsed": true
   },
   "outputs": [],
   "source": [
    "import openpyxl as oxl"
   ]
  },
  {
   "cell_type": "code",
   "execution_count": 37,
   "metadata": {
    "collapsed": true
   },
   "outputs": [],
   "source": [
    "wb = oxl.Workbook()"
   ]
  },
  {
   "cell_type": "code",
   "execution_count": 38,
   "metadata": {
    "collapsed": true
   },
   "outputs": [],
   "source": [
    "ws = wb.create_sheet(index=0,title='oxl-sheet')"
   ]
  },
  {
   "cell_type": "code",
   "execution_count": 39,
   "metadata": {
    "collapsed": true
   },
   "outputs": [],
   "source": [
    "ws.cell(row=1,column=1).value = '持股日期'\n",
    "ws.cell(row=1,column=2).value = first_dict['last_date']\n",
    "\n",
    "ws.cell(row=1,column=3).value = '股票代码'\n",
    "ws.cell(row=1,column=4).value = first_dict['stock_code']\n",
    "\n",
    "ws.cell(row=1,column=5).value = '股票名称'\n",
    "ws.cell(row=1,column=6).value = first_dict['stock_name']"
   ]
  },
  {
   "cell_type": "code",
   "execution_count": 43,
   "metadata": {
    "collapsed": true
   },
   "outputs": [],
   "source": [
    "ws.cell(row=3,column=1).value = '中央结算系统持股量'\n",
    "ws.cell(row=4,column=1).value = second_dict['hold_volumn']\n",
    "\n",
    "ws.cell(row=3,column=2).value = '参与者数目'\n",
    "ws.cell(row=4,column=2).value = second_dict['people_number']\n",
    "\n",
    "ws.cell(row=3,column=3).value = '总数百分比'\n",
    "ws.cell(row=4,column=3).value = second_dict['hold_precent']\n",
    "\n",
    "ws.cell(row=3,column=4).value = '全部持股量'\n",
    "ws.cell(row=4,column=4).value = second_dict['all_volumn']"
   ]
  },
  {
   "cell_type": "code",
   "execution_count": 54,
   "metadata": {
    "collapsed": true
   },
   "outputs": [],
   "source": [
    "columns = merge_pd.columns\n",
    "columns_name = []\n",
    "\n",
    "for i in range(len(columns)):\n",
    "    columns_name.append(last_dict[columns[i]])"
   ]
  },
  {
   "cell_type": "code",
   "execution_count": 66,
   "metadata": {
    "collapsed": true
   },
   "outputs": [],
   "source": [
    "for i in range(len(columns)):\n",
    "    ws.cell(row=7,column=i+3).value = columns_name[i]"
   ]
  },
  {
   "cell_type": "code",
   "execution_count": 67,
   "metadata": {
    "collapsed": true
   },
   "outputs": [],
   "source": [
    "ws.cell(row=8,column=1).value = '日期'\n",
    "ws.cell(row=8,column=2).value = '收盘价'"
   ]
  },
  {
   "cell_type": "code",
   "execution_count": 87,
   "metadata": {
    "collapsed": true
   },
   "outputs": [],
   "source": [
    "index = merge_pd.index"
   ]
  },
  {
   "cell_type": "code",
   "execution_count": 62,
   "metadata": {
    "collapsed": true
   },
   "outputs": [],
   "source": [
    "row_number = len(index)\n",
    "col_number = len(columns)"
   ]
  },
  {
   "cell_type": "code",
   "execution_count": 145,
   "metadata": {
    "collapsed": true
   },
   "outputs": [],
   "source": [
    "for i in range(row_number):\n",
    "    ws.cell(row=i+9,column=1).value = index[i]\n",
    "    ws.cell(row=i+9,column=2).value = close_data[index[i]]"
   ]
  },
  {
   "cell_type": "code",
   "execution_count": 65,
   "metadata": {
    "collapsed": true
   },
   "outputs": [],
   "source": [
    "for i in range(col_number):\n",
    "    ws.cell(row=8,column=i+3).value = columns[i]"
   ]
  },
  {
   "cell_type": "code",
   "execution_count": 78,
   "metadata": {
    "collapsed": true
   },
   "outputs": [],
   "source": [
    "for i in range(row_number):\n",
    "    for j in range(col_number):\n",
    "        ws.cell(row=9+i,column=j+3).value = merge_pd.iat[i,j]"
   ]
  },
  {
   "cell_type": "code",
   "execution_count": 71,
   "metadata": {
    "collapsed": true
   },
   "outputs": [],
   "source": [
    "import tushare as ts"
   ]
  },
  {
   "cell_type": "code",
   "execution_count": 144,
   "metadata": {
    "collapsed": true
   },
   "outputs": [],
   "source": [
    "close_data = OrderedDict()\n",
    "for i in range(row_number):\n",
    "    temp_s = index[i]\n",
    "    temp_str = datetime.datetime.strptime(temp_s,'%d/%m/%Y').date().isoformat()\n",
    "    \n",
    "    if not temp_s in close_data:\n",
    "        temp_df = ts.get_k_data('601888',start=temp_str,end=temp_str,ktype='D')\n",
    "        if temp_df.empty:\n",
    "            close_data[temp_s] = list(close_data.values())[-1]\n",
    "        else:\n",
    "            close_data[temp_s] = temp_df.iat[-1,2]\n",
    "    "
   ]
  },
  {
   "cell_type": "code",
   "execution_count": null,
   "metadata": {
    "collapsed": true
   },
   "outputs": [],
   "source": [
    "for i in range(row_number):\n",
    "    ws.cell(row=i+9,column=2).value = close_data[i]"
   ]
  },
  {
   "cell_type": "code",
   "execution_count": 103,
   "metadata": {
    "collapsed": true
   },
   "outputs": [],
   "source": [
    "temp_str = index[i]"
   ]
  },
  {
   "cell_type": "code",
   "execution_count": 147,
   "metadata": {
    "collapsed": true
   },
   "outputs": [],
   "source": [
    "from collections import OrderedDict"
   ]
  },
  {
   "cell_type": "code",
   "execution_count": 142,
   "metadata": {},
   "outputs": [
    {
     "data": {
      "text/plain": [
       "OrderedDict([('2018-06-13', 66.819999999999993)])"
      ]
     },
     "execution_count": 142,
     "metadata": {},
     "output_type": "execute_result"
    }
   ],
   "source": [
    "close_data"
   ]
  },
  {
   "cell_type": "code",
   "execution_count": 93,
   "metadata": {
    "collapsed": true
   },
   "outputs": [],
   "source": [
    "import datetime"
   ]
  },
  {
   "cell_type": "code",
   "execution_count": 104,
   "metadata": {
    "collapsed": true
   },
   "outputs": [],
   "source": [
    "temp_str = datetime.datetime.strptime(temp_str,'%d/%m/%Y').date().isoformat()"
   ]
  },
  {
   "cell_type": "code",
   "execution_count": 121,
   "metadata": {
    "collapsed": true
   },
   "outputs": [],
   "source": [
    "temp_df = ts.get_k_data('601888',start=temp_str,end=temp_str,ktype='D')"
   ]
  },
  {
   "cell_type": "code",
   "execution_count": 128,
   "metadata": {
    "collapsed": true
   },
   "outputs": [],
   "source": [
    "close_data[temp_str] = temp_df.iat[-1,2]"
   ]
  },
  {
   "cell_type": "code",
   "execution_count": 139,
   "metadata": {},
   "outputs": [
    {
     "data": {
      "text/plain": [
       "66.819999999999993"
      ]
     },
     "execution_count": 139,
     "metadata": {},
     "output_type": "execute_result"
    }
   ],
   "source": [
    "list(close_data.values())[-1]"
   ]
  },
  {
   "cell_type": "code",
   "execution_count": 109,
   "metadata": {},
   "outputs": [
    {
     "data": {
      "text/plain": [
       "66.819999999999993"
      ]
     },
     "execution_count": 109,
     "metadata": {},
     "output_type": "execute_result"
    }
   ],
   "source": [
    "temp_df.iat[-1,2]"
   ]
  },
  {
   "cell_type": "code",
   "execution_count": 146,
   "metadata": {
    "collapsed": true
   },
   "outputs": [],
   "source": [
    "wb.save('test.xlsx')"
   ]
  },
  {
   "cell_type": "code",
   "execution_count": 5,
   "metadata": {
    "collapsed": true
   },
   "outputs": [],
   "source": [
    "r = requests.get('https://api.github.com/events')"
   ]
  },
  {
   "cell_type": "code",
   "execution_count": 6,
   "metadata": {},
   "outputs": [
    {
     "data": {
      "text/plain": [
       "200"
      ]
     },
     "execution_count": 6,
     "metadata": {},
     "output_type": "execute_result"
    }
   ],
   "source": [
    "r.status_code"
   ]
  },
  {
   "cell_type": "code",
   "execution_count": 57,
   "metadata": {},
   "outputs": [],
   "source": [
    "params = {'ddlShareholdingDay': 20, 'ddlShareholdingMonth': 6,'ddlShareholdingYear':2018,'txtStockCode':91888}"
   ]
  },
  {
   "cell_type": "code",
   "execution_count": 67,
   "metadata": {
    "collapsed": true
   },
   "outputs": [],
   "source": [
    "params = {'ddlShareholdingDay': '20', 'ddlShareholdingMonth': '6','ddlShareholdingYear':'2018','txtStockCode':'91888'}"
   ]
  },
  {
   "cell_type": "code",
   "execution_count": 68,
   "metadata": {
    "collapsed": true
   },
   "outputs": [],
   "source": [
    "r = requests.post(\"http://www.hkexnews.hk/sdw/search/searchsdw_c.aspx\", data=params)"
   ]
  },
  {
   "cell_type": "code",
   "execution_count": 72,
   "metadata": {
    "collapsed": true
   },
   "outputs": [],
   "source": [
    "r = requests.get(\"http://www.hkexnews.hk/sdw/search/searchsdw_c.aspx\", params=params)"
   ]
  },
  {
   "cell_type": "code",
   "execution_count": 73,
   "metadata": {},
   "outputs": [
    {
     "data": {
      "text/plain": [
       "'http://www.hkexnews.hk/sdw/search/searchsdw_c.aspx?ddlShareholdingDay=20&ddlShareholdingMonth=6&ddlShareholdingYear=2018&txtStockCode=91888'"
      ]
     },
     "execution_count": 73,
     "metadata": {},
     "output_type": "execute_result"
    }
   ],
   "source": [
    "r.url"
   ]
  },
  {
   "cell_type": "code",
   "execution_count": 74,
   "metadata": {},
   "outputs": [
    {
     "data": {
      "text/plain": [
       "<Response [200]>"
      ]
     },
     "execution_count": 74,
     "metadata": {},
     "output_type": "execute_result"
    }
   ],
   "source": [
    "r"
   ]
  },
  {
   "cell_type": "code",
   "execution_count": 75,
   "metadata": {},
   "outputs": [
    {
     "data": {
      "text/plain": [
       "'\\r\\n<!DOCTYPE html PUBLIC \"-//W3C//DTD XHTML 1.0 Transitional//EN\" \"http://www.w3.org/TR/xhtml1/DTD/xhtml1-transitional.dtd\">\\r\\n<html xmlns=\"http://www.w3.org/1999/xhtml\">\\r\\n<head><title>\\r\\n\\t:: HKEX :: HKEXnews ::\\r\\n</title><link href=\"css/hkex_css.css\" rel=\"stylesheet\" type=\"text/css\" />\\r\\n    <script type=\"text/javascript\" src=\"/script/hkex_scripts.js\"></script>\\r\\n    <script type=\"text/javascript\" src=\"/script/hkex_common_c.js\"></script>\\r\\n    <script type=\"text/javascript\" src=\"/script/hkex_setting_c.js\"></script>\\r\\n    <script type=\"text/javascript\" src=\"js/search_form_var_chi.js?v=20150720\"></script>\\r\\n    <script type=\"text/javascript\" src=\"js/search_form.js?v=20150720\"></script>\\r\\n    <script type=\"text/javascript\">\\r\\n        function PopUpStockList() {\\r\\n            shareholdingDate = $(\"select[id$=\\'ddlShareholdingYear\\']\").val() + $(\"select[id$=\\'ddlShareholdingMonth\\']\").val() + $(\"select[id$=\\'ddlShareholdingDay\\']\").val();\\r\\n            window.open(\\'stocklist_c.aspx?SortBy=StockCode&ShareholdingDate=\\' + shareholdingDate, \\'\\', \\'directories=no,menubar=no,scrollbars=yes,status=no,toolbar=no,height=400,width=400\\');\\r\\n            return false;\\r\\n        }\\r\\n        function PopUpParticipantList() {\\r\\n            shareholdingDate = $(\"select[id$=\\'ddlShareholdingYear\\']\").val() + $(\"select[id$=\\'ddlShareholdingMonth\\']\").val() + $(\"select[id$=\\'ddlShareholdingDay\\']\").val();\\r\\n            window.open(\\'partlist_c.aspx?SortBy=PartID&ShareholdingDate=\\' + shareholdingDate, \\'\\', \\'directories=no,menubar=no,scrollbars=yes,status=no,toolbar=no,height=400,width=400\\');\\r\\n            return false;\\r\\n        }\\r\\n        function Re_sort(sortBy) {\\r\\n            $(\"input[id=\\'sortBy\\']\").val(sortBy);\\r\\n            $(\"input[id=\\'btnSearch\\']\").click();\\r\\n        }\\r\\n        var checkShareholdingDate = true;\\r\\n    </script>\\r\\n</head>\\r\\n<body class=\"body1\" style=\"margin: 0px; background-color: #FFFFFF; color: #333333;\"\\r\\n    link=\"#333333\" vlink=\"#336699\">\\r\\n    <script type=\"text/javascript\" src=\"/script/hkex_head_utf_c.js\"></script>\\r\\n    <form name=\"form1\" method=\"post\" action=\"./searchsdw_c.aspx?ddlShareholdingDay=20&amp;ddlShareholdingMonth=6&amp;ddlShareholdingYear=2018&amp;txtStockCode=91888\" id=\"form1\" style=\"text-align: left;\">\\r\\n<input type=\"hidden\" name=\"__VIEWSTATE\" id=\"__VIEWSTATE\" value=\"+wE+eSXFo3B4rMQErPo+NDJ46MuatLLiGicgz6wnPrldc+s33LrwegcyacT6y7dHXdrodys/5mKgZMccK8dyIXtt0MwWXNItrEPbT2GZ55qu76eSgS/CxM6VSQvGQRahkUbQlUWtUsodoB2qbihzY5IowLkCIL+zyOR83HQYDHoeIh0avqxYUGA6EWk711V+mVB5dQ==\" />\\r\\n\\r\\n<input type=\"hidden\" name=\"__VIEWSTATEGENERATOR\" id=\"__VIEWSTATEGENERATOR\" value=\"3B50BBBD\" />\\r\\n<input type=\"hidden\" name=\"__EVENTVALIDATION\" id=\"__EVENTVALIDATION\" value=\"0dWc0pOqqNYUsS5Z1nWDvtMuvHOXhEda6+RmbYSGqnH76KspwBPEEjLlwsiPcpXcxRCDHJ4oNebDZ95xan3Lhf2f/dmynb9SDTr7yHv/6MpCl2Fs5KrjS5zxpfsTrosz98H4f0yVaGozg7tQ6jaYp2yBejgNDCM7XYfFzae4bUfvQ8TyOQl28KjEiTtpD/1BG1sJdymBLBL2WtaObQxQIy4dx1nncpn2DslppAMgJxitwviAdBdyl6U11QMBUJUi8g3GG+Fiy5N1InVVAD+5Jgz62BLwlXijN7eL6n20i3b6qeKJP09vcuWgKuzZrErXfXMBgcJVWhyELnK8pASfsSXK4RN0c1AOhEBhKC/en2/ry/R9ZyNGlVVO3qO+YrjcN0uNccL+dqAGq2Dfgl/Xo1KtL72TnjVxPoYeNih4SCX29odhnoMQV0g1YoZDZjzvn8tKxNfWTnYUYFyPU3ELpJSNsSWMJPRT/x2ljuL0trCEMJsQfelTa1vsOfGgVEZV5i35ZBMY+jVZv+j2m/0Nwsr5L/Rg0uTiTEebmfM7THDgE+61D5P4s3zr2cxC1w+TaCTxeal4wCuJ4eIZnIO2FmZEzEyViBpyLY7S3Ms/L8m+LIGJSCepW8tcVl6h8tyu3sWoEY0IbIbAsBnMKBNIBizwgSTYlE4epR+qJr7vUxvvA3aS2pYngVBB0FJ8Xfqq7lhrquD4s7bElKhkWEYxkTPfMjmiS6mFZf8kkL6MtXFnAVUH3cojTWVW0rrABTGMdAIofubXVqpHFTWqmbqBoN5kdYfXVYvPxJbYxYf5OHsGWbFjPsfoAiJgll14XXCiLfpB2oOkv7ACCM5pLvNimOxDO9MxTMnINsYeLnCTEHmOTm3VSW1lB2joBW4q+cG1Qvz/DFTbzqSCOtXmuKLbll+pQfhyicNdS444EVMheeLHgVDhfx7P7NZh3fRnNCdjDzgi2hs8NVR1ry8dn+4j6lDusTW+5eaaydSJMEG0aFj5lVGvuyWt+xNCG+JZRDWZdBJ4EyP9QpD60zRSAPcSEKhDgA6okjElIaBfv4Bkr1EWsJXGMHBffAG2Insk27BCu0WTkwAjawNScDuZsv8dkd+qmHPbmXKWdThYE+ZWURN3JGVJdTvT1soqY2r53XhKwEUIXNaJiuhDkcqfRQEugmK9xlIOdnuRX5cyjqwqBAXisbhG56pSxQV219JqSe6+kRiZk8ZTgfO5K1erJG922dZCuY3J1htRFOfL5c0uKa5LhIShvtmzidvqXI8bGe2EVUAYwg==\" />\\r\\n        <input type=\"hidden\" name=\"today\" id=\"today\" value=\"20180621\" />\\r\\n        <input type=\"hidden\" name=\"sortBy\" id=\"sortBy\" />\\r\\n        <input type=\"hidden\" name=\"selPartID\" id=\"selPartID\" />\\r\\n        <input type=\"hidden\" name=\"alertMsg\" id=\"alertMsg\" />\\r\\n        <div id=\"pnlDisclaimer\">\\r\\n\\t\\r\\n            <table border=\"0\" width=\"100%\" cellspacing=\"0\" cellpadding=\"0\">\\r\\n                <tr>\\r\\n                    <td class=\"table_header\">\\r\\n                        <table width=\"100%\" border=\"0\" cellpadding=\"0\" cellspacing=\"0\">\\r\\n                            <tr>\\r\\n                                <td width=\"8\" align=\"left\" valign=\"top\">\\r\\n                                    <img src=\"../../image/spacer.gif\" alt=\"\" width=\"10\" height=\"10\" />\\r\\n                                </td>\\r\\n                                <td width=\"100%\">\\r\\n                                    <table width=\"100%\" border=\"0\" cellpadding=\"5\" cellspacing=\"0\">\\r\\n                                        <tr>\\r\\n                                            <!-- page title label: CCASS shareholding information Search -->\\r\\n                                            <td nowrap=\"nowrap\">\\r\\n                                                <span class=\"arial12black\"><strong>\\r\\n                                                    中央結算系統持股紀錄查詢服務</strong></span>\\r\\n                                            </td>\\r\\n                                            <td style=\"text-align: right;\" nowrap=\"nowrap\" class=\"arial11black\">\\r\\n                                                請注意本<a href=\"files/Disclaimer%20(C).doc\"\\r\\n                                                    target=\"_blank\">免責聲明</a>。\\r\\n                                            </td>\\r\\n                                        </tr>\\r\\n                                    </table>\\r\\n                                </td>\\r\\n                            </tr>\\r\\n                        </table>\\r\\n                    </td>\\r\\n                </tr>\\r\\n                <tr>\\r\\n                    <td>\\r\\n                        <table width=\"100%\" border=\"0\" cellpadding=\"0\" cellspacing=\"0\">\\r\\n                            <tr>\\r\\n                                <td width=\"8\" align=\"left\" valign=\"top\">\\r\\n                                    <img src=\"../../image/spacer.gif\" alt=\"\" width=\"10\" height=\"10\" />\\r\\n                                </td>\\r\\n                                <td width=\"100%\">\\r\\n                                    <table width=\"100%\" border=\"0\" cellpadding=\"5\" cellspacing=\"0\">\\r\\n                                        <tr>\\r\\n                                            <!-- Explanatory note -->\\r\\n                                            <td>\\r\\n                                                <span class=\"arial12black\">\\r\\n                                                    閣下可査詢過去十二個月的中央結算系統持股紀錄，按閣下選擇的股份及持股日期所顯示的資料乃中央結算系統參與者於該日日終的持股量。如果所選擇的持股日期是星期日或香港公共假期，則會顯示最後一個非星期日或香港公共假期的持股紀錄。\\r\\n<br/><br/>\\r\\n如欲查詢，請選擇持股日期及輸入股份代號或股份名稱；如欲查詢某指定中央結算系統參與者於某日持有某股份的數量，亦可一併輸入該中央結算系統參與者的編號或名稱。\\r\\n<br/><br/>\\r\\n閣下亦可透過 <A HREF=\"\"mailto:psh@hkex.com.hk\"\"><U>psh@hkex.com.hk</U></A> 遞交書面申請以索取過去七年的中央結算系統持股記錄，有關資料將會透過光碟或其他方式發放，並需收取費用。</span>\\r\\n                                            </td>\\r\\n                                        </tr>\\r\\n                                    </table>\\r\\n                                </td>\\r\\n                            </tr>\\r\\n                            <tr>\\r\\n                                <td colspan=\"2\" style=\"background-color: #000000; width: 100%; height: 1px; padding: 0px;\"></td>\\r\\n                            </tr>\\r\\n                        </table>\\r\\n                    </td>\\r\\n                </tr>\\r\\n                <tr>\\r\\n                    <td></td>\\r\\n                </tr>\\r\\n            </table>\\r\\n        \\r\\n</div>\\r\\n        <div id=\"pnlSearch\">\\r\\n\\t\\r\\n            <table width=\"100%\" border=\"0\" cellpadding=\"0\" cellspacing=\"0\" class=\"table_header\">\\r\\n                <tr>\\r\\n                    <td height=\"8\" align=\"left\" valign=\"bottom\" bgcolor=\"#FFFFFF\">\\r\\n                        <!-- Outter Cells  -->\\r\\n                        <table width=\"100%\" border=\"0\" cellpadding=\"0\" cellspacing=\"0\">\\r\\n                            <tr>\\r\\n                                <!-- 1st blink row -->\\r\\n                                <td colspan=\"4\" align=\"left\" valign=\"top\">\\r\\n                                    <img src=\"../../../image/spacer.gif\" width=\"10\" height=\"10\" />\\r\\n                                </td>\\r\\n                            </tr>\\r\\n                            <tr>\\r\\n                                <!-- Shareholding date -->\\r\\n                                <td align=\"left\" valign=\"top\">\\r\\n                                    <img src=\"../../../image/spacer.gif\" width=\"10\" height=\"10\" />\\r\\n                                </td>\\r\\n                                <td align=\"left\">\\r\\n                                    <table border=\"0\" cellspacing=\"0\" cellpadding=\"5\">\\r\\n                                        <tr>\\r\\n                                            <td style=\"text-align: right;\" nowrap=\"nowrap\" class=\"arial12black\">\\r\\n                                                持股日期\\r\\n                                            </td>\\r\\n                                        </tr>\\r\\n                                    </table>\\r\\n                                </td>\\r\\n                                <td width=\"100%\" align=\"left\" valign=\"top\" nowrap=\"nowrap\" class=\"arial12black\">\\r\\n                                    <select name=\"ddlShareholdingDay\" id=\"ddlShareholdingDay\" class=\"arial12black\">\\r\\n\\t\\t<option value=\"01\">01</option>\\r\\n\\t\\t<option value=\"02\">02</option>\\r\\n\\t\\t<option value=\"03\">03</option>\\r\\n\\t\\t<option value=\"04\">04</option>\\r\\n\\t\\t<option value=\"05\">05</option>\\r\\n\\t\\t<option value=\"06\">06</option>\\r\\n\\t\\t<option value=\"07\">07</option>\\r\\n\\t\\t<option value=\"08\">08</option>\\r\\n\\t\\t<option value=\"09\">09</option>\\r\\n\\t\\t<option value=\"10\">10</option>\\r\\n\\t\\t<option value=\"11\">11</option>\\r\\n\\t\\t<option value=\"12\">12</option>\\r\\n\\t\\t<option value=\"13\">13</option>\\r\\n\\t\\t<option value=\"14\">14</option>\\r\\n\\t\\t<option value=\"15\">15</option>\\r\\n\\t\\t<option value=\"16\">16</option>\\r\\n\\t\\t<option value=\"17\">17</option>\\r\\n\\t\\t<option value=\"18\">18</option>\\r\\n\\t\\t<option value=\"19\">19</option>\\r\\n\\t\\t<option selected=\"selected\" value=\"20\">20</option>\\r\\n\\t\\t<option value=\"21\">21</option>\\r\\n\\t\\t<option value=\"22\">22</option>\\r\\n\\t\\t<option value=\"23\">23</option>\\r\\n\\t\\t<option value=\"24\">24</option>\\r\\n\\t\\t<option value=\"25\">25</option>\\r\\n\\t\\t<option value=\"26\">26</option>\\r\\n\\t\\t<option value=\"27\">27</option>\\r\\n\\t\\t<option value=\"28\">28</option>\\r\\n\\t\\t<option value=\"29\">29</option>\\r\\n\\t\\t<option value=\"30\">30</option>\\r\\n\\t\\t<option value=\"31\">31</option>\\r\\n\\r\\n\\t</select>\\r\\n                                    <select name=\"ddlShareholdingMonth\" id=\"ddlShareholdingMonth\" class=\"arial12black\">\\r\\n\\t\\t<option value=\"01\">01</option>\\r\\n\\t\\t<option value=\"02\">02</option>\\r\\n\\t\\t<option value=\"03\">03</option>\\r\\n\\t\\t<option value=\"04\">04</option>\\r\\n\\t\\t<option value=\"05\">05</option>\\r\\n\\t\\t<option selected=\"selected\" value=\"06\">06</option>\\r\\n\\t\\t<option value=\"07\">07</option>\\r\\n\\t\\t<option value=\"08\">08</option>\\r\\n\\t\\t<option value=\"09\">09</option>\\r\\n\\t\\t<option value=\"10\">10</option>\\r\\n\\t\\t<option value=\"11\">11</option>\\r\\n\\t\\t<option value=\"12\">12</option>\\r\\n\\r\\n\\t</select>\\r\\n                                    <select name=\"ddlShareholdingYear\" id=\"ddlShareholdingYear\" class=\"arial12black\">\\r\\n\\t\\t<option selected=\"selected\" value=\"2018\">2018</option>\\r\\n\\t\\t<option value=\"2017\">2017</option>\\r\\n\\r\\n\\t</select>\\r\\n                                </td>\\r\\n                                <td>\\r\\n                                    <img src=\"../../../image/spacer.gif\" width=\"10\" height=\"10\" />\\r\\n                                </td>\\r\\n                            </tr>\\r\\n                            <tr>\\r\\n                                <!-- stock code -->\\r\\n                                <td align=\"left\" valign=\"top\">\\r\\n                                    <img src=\"../../../image/spacer.gif\" width=\"10\" height=\"10\" />\\r\\n                                </td>\\r\\n                                <td align=\"left\">\\r\\n                                    <table border=\"0\" cellspacing=\"0\" cellpadding=\"5\">\\r\\n                                        <tr>\\r\\n                                            <td style=\"text-align: right;\" nowrap=\"nowrap\" class=\"arial12black\">\\r\\n                                                股份代號\\r\\n                                            </td>\\r\\n                                        </tr>\\r\\n                                    </table>\\r\\n                                </td>\\r\\n                                <td width=\"100%\" align=\"left\" valign=\"top\">\\r\\n                                    <table border=\"0\" cellspacing=\"0\" cellpadding=\"2\">\\r\\n                                        <tr>\\r\\n                                            <td nowrap=\"nowrap\">\\r\\n                                                <input name=\"txtStockCode\" type=\"text\" maxlength=\"5\" id=\"txtStockCode\" class=\"arial12black\" size=\"10\" />\\r\\n                                            </td>\\r\\n                                            <td nowrap=\"nowrap\">\\r\\n                                                <a style=\"cursor: pointer;\" onclick=\\'Javascript:PopUpStockList();\\'><span class=\"arial11grey\"\\r\\n                                                    onmouseover=\\'this.style.textDecoration=\"underline\"\\' onmouseout=\\'this.style.textDecoration=\"none\"\\'>\\r\\n                                                    股份名單</span></a>\\r\\n                                            </td>\\r\\n                                        </tr>\\r\\n                                    </table>\\r\\n                                </td>\\r\\n                                <td>\\r\\n                                    <img src=\"../../../image/spacer.gif\" width=\"10\" height=\"10\" />\\r\\n                                </td>\\r\\n                            </tr>\\r\\n                            <tr>\\r\\n                                <!-- Stock name -->\\r\\n                                <td align=\"left\" valign=\"top\">\\r\\n                                    <img src=\"../../../image/spacer.gif\" width=\"10\" height=\"10\" />\\r\\n                                </td>\\r\\n                                <td align=\"left\">\\r\\n                                    <table border=\"0\" cellspacing=\"0\" cellpadding=\"5\">\\r\\n                                        <tr>\\r\\n                                            <td style=\"text-align: right;\" nowrap=\"nowrap\" class=\"arial12black\">\\r\\n                                                股份名稱\\r\\n                                            </td>\\r\\n                                        </tr>\\r\\n                                    </table>\\r\\n                                </td>\\r\\n                                <td width=\"100%\" align=\"left\" valign=\"top\">\\r\\n                                    <table border=\"0\" cellspacing=\"0\" cellpadding=\"2\">\\r\\n                                        <tr>\\r\\n                                            <td nowrap=\"nowrap\">\\r\\n                                                <input name=\"txtStockName\" type=\"text\" maxlength=\"80\" id=\"txtStockName\" class=\"arial12black\" size=\"60\" />\\r\\n                                                \\r\\n                                            </td>\\r\\n                                        </tr>\\r\\n                                    </table>\\r\\n                                </td>\\r\\n                                <td>\\r\\n                                    <img src=\"../../../image/spacer.gif\" width=\"10\" height=\"10\" />\\r\\n                                </td>\\r\\n                            </tr>\\r\\n                            <tr>\\r\\n                                <!-- Partip. ID -->\\r\\n                                <td align=\"left\" valign=\"top\">\\r\\n                                    <img src=\"../../../image/spacer.gif\" width=\"10\" height=\"10\" />\\r\\n                                </td>\\r\\n                                <td align=\"left\">\\r\\n                                    <table border=\"0\" cellspacing=\"0\" cellpadding=\"5\">\\r\\n                                        <tr>\\r\\n                                            <td style=\"text-align: right;\" nowrap=\"nowrap\" class=\"arial12black\">\\r\\n                                                中央結算系統參與者編號\\r\\n                                            </td>\\r\\n                                        </tr>\\r\\n                                    </table>\\r\\n                                </td>\\r\\n                                <td width=\"100%\" align=\"left\" valign=\"top\">\\r\\n                                    <table border=\"0\" cellspacing=\"0\" cellpadding=\"2\">\\r\\n                                        <tr>\\r\\n                                            <td nowrap=\"nowrap\">\\r\\n                                                <input name=\"txtParticipantID\" type=\"text\" maxlength=\"6\" id=\"txtParticipantID\" class=\"arial12black\" size=\"10\" />\\r\\n                                            </td>\\r\\n                                            <td nowrap=\"nowrap\">\\r\\n                                                <a style=\"cursor: pointer;\" onclick=\\'Javascript:PopUpParticipantList();\\'><span class=\"arial11grey\"\\r\\n                                                    onmouseover=\\'this.style.textDecoration=\"underline\"\\' onmouseout=\\'this.style.textDecoration=\"none\"\\'>\\r\\n                                                    中央結算系統參與者名錄(中介人)</span></a>\\r\\n                                            </td>\\r\\n                                        </tr>\\r\\n                                    </table>\\r\\n                                </td>\\r\\n                                <td>\\r\\n                                    <img src=\"../../../image/spacer.gif\" width=\"10\" height=\"10\" />\\r\\n                                </td>\\r\\n                            </tr>\\r\\n                            <tr>\\r\\n                                <!-- Partip. Name -->\\r\\n                                <td align=\"left\" valign=\"top\">\\r\\n                                    <img src=\"../../../image/spacer.gif\" width=\"10\" height=\"10\" />\\r\\n                                </td>\\r\\n                                <td align=\"left\">\\r\\n                                    <table border=\"0\" cellspacing=\"0\" cellpadding=\"5\">\\r\\n                                        <tr>\\r\\n                                            <td style=\"text-align: right;\" nowrap=\"nowrap\" class=\"arial12black\">\\r\\n                                                中央結算系統參與者名稱\\r\\n                                            </td>\\r\\n                                        </tr>\\r\\n                                    </table>\\r\\n                                </td>\\r\\n                                <td width=\"100%\" align=\"left\" valign=\"top\">\\r\\n                                    <table border=\"0\" cellspacing=\"0\" cellpadding=\"2\">\\r\\n                                        <tr>\\r\\n                                            <td nowrap=\"nowrap\">\\r\\n                                                <input name=\"txtParticipantName\" type=\"text\" maxlength=\"80\" id=\"txtParticipantName\" class=\"arial12black\" size=\"60\" />\\r\\n                                                \\r\\n                                            </td>\\r\\n                                        </tr>\\r\\n                                    </table>\\r\\n                                </td>\\r\\n                                <td>\\r\\n                                    <img src=\"../../../image/spacer.gif\" width=\"10\" height=\"10\" />\\r\\n                                </td>\\r\\n                            </tr>\\r\\n                            <tr>\\r\\n                                <!-- blank row-->\\r\\n                                <td height=\"1\" colspan=\"4\" align=\"left\" valign=\"top\">\\r\\n                                    <img src=\"../../../image/spacer.gif\" width=\"10\" height=\"10\" />\\r\\n                                </td>\\r\\n                            </tr>\\r\\n                            <tr>\\r\\n                                <!-- button row  -->\\r\\n                                <td height=\"1\" align=\"left\" valign=\"top\">&nbsp;\\r\\n                                </td>\\r\\n                                <td height=\"1\" align=\"left\" valign=\"top\">&nbsp;\\r\\n                                </td>\\r\\n                                <td height=\"1\" align=\"left\" valign=\"top\">\\r\\n                                    <input type=\"image\" name=\"btnSearch\" id=\"btnSearch\" src=\"../../../image/search_c.gif\" alt=\"Search\" onclick=\"if(!preprocessMainForm(document.form1)) return false;\" border=\"0\" />\\r\\n                                    <a href=\"javascript:location.href=location.href;\">\\r\\n                                        <img src=\"../../../image/clear_c.gif\" border=\"0\" alt=\"clear\" /></a>\\r\\n                                </td>\\r\\n                                <td height=\"1\" align=\"left\" valign=\"top\">&nbsp;\\r\\n                                </td>\\r\\n                            </tr>\\r\\n                        </table>\\r\\n                        <!-- end Outter Cells  -->\\r\\n                    </td>\\r\\n                </tr>\\r\\n            </table>\\r\\n        \\r\\n</div>\\r\\n        \\r\\n    </form>\\r\\n    <script type=\"text/javascript\" src=\"/script/hkex_foot.js\"></script>\\r\\n</body>\\r\\n</html>\\r\\n'"
      ]
     },
     "execution_count": 75,
     "metadata": {},
     "output_type": "execute_result"
    }
   ],
   "source": [
    "r.text"
   ]
  },
  {
   "cell_type": "code",
   "execution_count": 46,
   "metadata": {
    "collapsed": true
   },
   "outputs": [],
   "source": [
    "payload = {'key1': 'value1', 'key2': 'value2'}"
   ]
  },
  {
   "cell_type": "code",
   "execution_count": 47,
   "metadata": {
    "collapsed": true
   },
   "outputs": [],
   "source": [
    "r = requests.get('http://httpbin.org/get', params=payload)"
   ]
  },
  {
   "cell_type": "code",
   "execution_count": 48,
   "metadata": {},
   "outputs": [
    {
     "name": "stdout",
     "output_type": "stream",
     "text": [
      "http://httpbin.org/get?key1=value1&key2=value2\n"
     ]
    }
   ],
   "source": [
    "print(r.url)"
   ]
  },
  {
   "cell_type": "code",
   "execution_count": 66,
   "metadata": {},
   "outputs": [
    {
     "name": "stdout",
     "output_type": "stream",
     "text": [
      "{\"args\":{},\"data\":\"\",\"files\":{},\"form\":{\"key1\":\"value1\",\"key2\":\"value2\"},\"headers\":{\"Accept\":\"*/*\",\"Accept-Encoding\":\"gzip, deflate\",\"Connection\":\"close\",\"Content-Length\":\"23\",\"Content-Type\":\"application/x-www-form-urlencoded\",\"Host\":\"httpbin.org\",\"User-Agent\":\"python-requests/2.14.2\"},\"json\":null,\"origin\":\"180.159.39.35\",\"url\":\"http://httpbin.org/post\"}\n",
      "\n"
     ]
    }
   ],
   "source": [
    "url = 'http://httpbin.org/post'\n",
    "d = {'key1': 'value1', 'key2': 'value2'}\n",
    "r = requests.post(url, data=d)\n",
    "print(r.text)"
   ]
  }
 ],
 "metadata": {
  "kernelspec": {
   "display_name": "Python 3",
   "language": "python",
   "name": "python3"
  },
  "language_info": {
   "codemirror_mode": {
    "name": "ipython",
    "version": 3
   },
   "file_extension": ".py",
   "mimetype": "text/x-python",
   "name": "python",
   "nbconvert_exporter": "python",
   "pygments_lexer": "ipython3",
   "version": "3.6.1"
  }
 },
 "nbformat": 4,
 "nbformat_minor": 2
}
