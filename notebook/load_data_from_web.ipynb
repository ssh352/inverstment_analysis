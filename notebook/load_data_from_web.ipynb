{
 "cells": [
  {
   "cell_type": "code",
   "execution_count": 1,
   "metadata": {
    "collapsed": true
   },
   "outputs": [],
   "source": [
    "import requests\n",
    "import pandas as pd\n",
    "from bs4 import BeautifulSoup\n",
    "import tushare as ts\n",
    "import openpyxl as oxl\n",
    "import os\n",
    "from collections import OrderedDict\n",
    "import datetime\n",
    "import json\n",
    "\n",
    "\n",
    "def load_from_local():\n",
    "    \n",
    "    with open('__ HKEX __ HKEXnews __.html','r',encoding=\"utf-8\") as f:\n",
    "        return f.read()\n",
    "\n",
    "def get_first_part():\n",
    "\n",
    "    temp_html = soup.find(\"table\",{\"id\":\"Table5\"})\n",
    "    temp_html = temp_html.find_all('td',{\"class\":\"arial12black\"})\n",
    "\n",
    "    first_dict = {}\n",
    "    temp_string = temp_html[1].get_text().strip()\n",
    "    temp_string = datetime.datetime.strptime(temp_string,\"%d/%m/%Y\")\n",
    "    temp_string = temp_string.strftime(\"%Y-%m-%d\")\n",
    "    first_dict['last_date'] = temp_string\n",
    "    first_dict['stock_code'] = temp_html[3].get_text().strip()\n",
    "    first_dict['stock_name'] = temp_html[5].get_text().strip()\n",
    "\n",
    "    return first_dict\n",
    "\n",
    "def get_second_part():\n",
    "\n",
    "    temp_html = soup.find(\"div\",{\"id\":{\"pnlResultSummary\"}})\n",
    "    temp_html = temp_html.find_all(\"span\",{\"class\":\"mobilezoom\"})\n",
    "\n",
    "    second_dict = {}\n",
    "    second_dict['hold_volumn'] = temp_html[0].get_text().strip()\n",
    "    second_dict['people_number'] = temp_html[1].get_text().strip()\n",
    "    second_dict['hold_precent'] = temp_html[2].get_text().strip()\n",
    "    second_dict['all_volumn'] = temp_html[6].get_text().strip()\n",
    "\n",
    "    return second_dict\n",
    "\n",
    "def get_third_part(first_dict):\n",
    "\n",
    "    temp_html = soup.find(\"table\",{\"id\":{\"participantShareholdingList\"}})\n",
    "    temp_html = temp_html.find_all('tr')\n",
    "\n",
    "    row_number = len(temp_html)\n",
    "    col_number = len(temp_html[0].find_all('td'))\n",
    "\n",
    "    d = {}\n",
    "    for i in range(col_number):\n",
    "        d[i] = []\n",
    "\n",
    "    for i in range(1,row_number):\n",
    "        temp_tr = temp_html[i]\n",
    "        temp_td = temp_tr.find_all('td')\n",
    "    \n",
    "        if len(temp_td) !=col_number:\n",
    "            continue\n",
    "        \n",
    "        for j in range(col_number):\n",
    "            temp_string = temp_td[j].get_text().strip()\n",
    "            d[j].append(temp_string)\n",
    "\n",
    "    last_pd = pd.DataFrame(d)\n",
    "    \n",
    "    last_dict = {}\n",
    "    for i in range(len(last_pd)):\n",
    "        last_dict[last_pd.iat[i,0]] = last_pd.iat[i,1]\n",
    "\n",
    "    name_dict.update(last_dict)\n",
    "\n",
    "    new_pd = pd.DataFrame(last_pd[3])\n",
    "    new_pd = new_pd.T\n",
    "    new_pd.columns = last_pd[0]\n",
    "\n",
    "    last_date = first_dict['last_date']\n",
    "    time_span = pd.Timestamp(last_date)\n",
    "    new_pd.index = [time_span]\n",
    "\n",
    "    temp_string = datetime.datetime.strptime(last_date,'%Y-%m-%d')\n",
    "    end_date = temp_string.date()\n",
    "    start_date = end_date - datetime.timedelta(10)\n",
    "\n",
    "    temp_df = ts.get_k_data('601888',start=start_date.isoformat(),end=end_date.isoformat())\n",
    "\n",
    "    if temp_df.empty:\n",
    "        #  close_data[last_date] = list(close_data.values())[-1]\n",
    "        close_data[str(time_span)] = 0 \n",
    "    else:\n",
    "        close_data[str(time_span)] = temp_df.iat[-1,2]\n",
    "\n",
    "    return new_pd\n",
    "\n",
    "def save_to_excel(first_dict,second_dict,merge_pd):\n",
    "\n",
    "    wb = oxl.Workbook()\n",
    "    ws = wb.create_sheet(index=0,title='oxl-sheet')\n",
    "    \n",
    "    ws.cell(row=1,column=1).value = '持股日期'\n",
    "    ws.cell(row=1,column=2).value = first_dict['last_date']\n",
    "    ws.cell(row=1,column=3).value = '股票代码'\n",
    "    ws.cell(row=1,column=4).value = first_dict['stock_code']\n",
    "    ws.cell(row=1,column=5).value = '股票名称'\n",
    "    ws.cell(row=1,column=6).value = first_dict['stock_name']\n",
    "\n",
    "    ws.cell(row=3,column=1).value = '中央结算系统持股量'\n",
    "    ws.cell(row=4,column=1).value = second_dict['hold_volumn']\n",
    "    ws.cell(row=3,column=2).value = '参与者数目'\n",
    "    ws.cell(row=4,column=2).value = second_dict['people_number']\n",
    "    ws.cell(row=3,column=3).value = '总数百分比'\n",
    "    ws.cell(row=4,column=3).value = second_dict['hold_precent']\n",
    "    ws.cell(row=3,column=4).value = '全部持股量'\n",
    "    ws.cell(row=4,column=4).value = second_dict['all_volumn']\n",
    "\n",
    "    columns = merge_pd.columns\n",
    "    index = merge_pd.index\n",
    "    \n",
    "    row_number = len(index)\n",
    "    col_number = len(columns)\n",
    "\n",
    "    ws.cell(row=8,column=1).value = '日期'\n",
    "    ws.cell(row=8,column=2).value = '收盘价'\n",
    "\n",
    "    for i in range(row_number):\n",
    "        ws.cell(row=i+9,column=1).value = str(index[i])[0:10]\n",
    "        ws.cell(row=i+9,column=2).value = close_data.get(str(index[i]),0)\n",
    "\n",
    "    for i in range(col_number):\n",
    "        ws.cell(row=8,column=i+3).value = columns[i]\n",
    "        ws.cell(row=7,column=i+3).value = name_dict[columns[i]] \n",
    "\n",
    "    for i in range(row_number):\n",
    "        for j in range(col_number):\n",
    "            ws.cell(row=9+i,column=j+3).value = merge_pd.iat[i,j]\n",
    "\n",
    "    wb.save('test.xlsx')\n",
    "    print(\"数据已写入excel中!\")\n",
    "\n",
    "def plot_10(merge_pd):\n",
    "    '''\n",
    "    画前10大持仓股的曲线图\n",
    "    '''\n",
    "    temp_pd = merge_pd.sort_values(merge_pd.index[0],axis=1,ascendind=False)\n",
    "    \n",
    "    number = min(10,len(merge_pd))\n",
    "    \n",
    "    for i in range(number):\n",
    "        pass\n",
    "\n",
    "\n",
    "def save_to_config():\n",
    "\n",
    "    first_dict = get_first_part()\n",
    "    last_date = first_dict['last_date']\n",
    "\n",
    "    if str(pd.Timestamp(last_date)) in close_data:\n",
    "        print(\"该日期数据已经存在!\")\n",
    "        save_to_excel(config_dict['first_dict'],config_dict['second_dict'],pd.read_json(config_dict['old_pd'])) \n",
    "        return\n",
    "\n",
    "    second_dict = get_second_part()\n",
    "    third_pd = get_third_part(first_dict)\n",
    "    merge_pd = third_pd.append(old_pd)\n",
    "    merge_pd = merge_pd.sort_index(ascending=False)\n",
    "\n",
    "    config_dict['name_dict'] = name_dict\n",
    "    config_dict['close_data'] = close_data\n",
    "    config_dict[last_date] = [first_dict,second_dict,third_pd.to_json()]\n",
    "    config_dict['old_pd'] = merge_pd.to_json()\n",
    "    config_dict['first_dict'] = first_dict\n",
    "    config_dict['second_dict'] = second_dict\n",
    "    config_dict['third_pd'] = third_pd.to_json()\n",
    "\n",
    "    save_to_excel(first_dict,second_dict,merge_pd)\n",
    "    \n",
    "    with open('config.json','w',encoding='utf-8') as f:\n",
    "        json.dump(config_dict,f)\n",
    "\n",
    "    print('数据更新至%s!' % merge_pd.index[0])\n"
   ]
  },
  {
   "cell_type": "code",
   "execution_count": 26,
   "metadata": {
    "collapsed": true
   },
   "outputs": [],
   "source": [
    "URL = r'http://www.hkexnews.hk/sdw/search/searchsdw_c.aspx'"
   ]
  },
  {
   "cell_type": "code",
   "execution_count": 27,
   "metadata": {
    "collapsed": true
   },
   "outputs": [],
   "source": [
    "s=requests.Session()"
   ]
  },
  {
   "cell_type": "code",
   "execution_count": 28,
   "metadata": {
    "collapsed": true
   },
   "outputs": [],
   "source": [
    "r=s.get(URL)"
   ]
  },
  {
   "cell_type": "code",
   "execution_count": 6,
   "metadata": {},
   "outputs": [
    {
     "data": {
      "text/plain": [
       "<Response [200]>"
      ]
     },
     "execution_count": 6,
     "metadata": {},
     "output_type": "execute_result"
    }
   ],
   "source": [
    "r"
   ]
  },
  {
   "cell_type": "code",
   "execution_count": 18,
   "metadata": {},
   "outputs": [
    {
     "data": {
      "text/plain": [
       "'\\r\\n<!DOCTYPE html PUBLIC \"-//W3C//DTD XHTML 1.0 Transitional//EN\" \"http://www.w3.org/TR/xhtml1/DTD/xhtml1-transitional.dtd\">\\r\\n<html xmlns=\"http://www.w3.org/1999/xhtml\">\\r\\n<head><title>\\r\\n\\t:: HKEX :: HKEXnews ::\\r\\n</title><link href=\"css/hkex_css.css\" rel=\"stylesheet\" type=\"text/css\" />\\r\\n    <script type=\"text/javascript\" src=\"/script/hkex_scripts.js\"></script>\\r\\n    <script type=\"text/javascript\" src=\"/script/hkex_common_c.js\"></script>\\r\\n    <script type=\"text/javascript\" src=\"/script/hkex_setting_c.js\"></script>\\r\\n    <script type=\"text/javascript\" src=\"js/search_form_var_chi.js?v=20150720\"></script>\\r\\n    <script type=\"text/javascript\" src=\"js/search_form.js?v=20150720\"></script>\\r\\n    <script type=\"text/javascript\">\\r\\n        function PopUpStockList() {\\r\\n            shareholdingDate = $(\"select[id$=\\'ddlShareholdingYear\\']\").val() + $(\"select[id$=\\'ddlShareholdingMonth\\']\").val() + $(\"select[id$=\\'ddlShareholdingDay\\']\").val();\\r\\n            window.open(\\'stocklist_c.aspx?SortBy=StockCode&ShareholdingDate=\\' + shareholdingDate, \\'\\', \\'directories=no,menubar=no,scrollbars=yes,status=no,toolbar=no,height=400,width=400\\');\\r\\n            return false;\\r\\n        }\\r\\n        function PopUpParticipantList() {\\r\\n            shareholdingDate = $(\"select[id$=\\'ddlShareholdingYear\\']\").val() + $(\"select[id$=\\'ddlShareholdingMonth\\']\").val() + $(\"select[id$=\\'ddlShareholdingDay\\']\").val();\\r\\n            window.open(\\'partlist_c.aspx?SortBy=PartID&ShareholdingDate=\\' + shareholdingDate, \\'\\', \\'directories=no,menubar=no,scrollbars=yes,status=no,toolbar=no,height=400,width=400\\');\\r\\n            return false;\\r\\n        }\\r\\n        function Re_sort(sortBy) {\\r\\n            $(\"input[id=\\'sortBy\\']\").val(sortBy);\\r\\n            $(\"input[id=\\'btnSearch\\']\").click();\\r\\n        }\\r\\n        var checkShareholdingDate = true;\\r\\n    </script>\\r\\n</head>\\r\\n<body class=\"body1\" style=\"margin: 0px; background-color: #FFFFFF; color: #333333;\"\\r\\n    link=\"#333333\" vlink=\"#336699\">\\r\\n    <script type=\"text/javascript\" src=\"/script/hkex_head_utf_c.js\"></script>\\r\\n    <form name=\"form1\" method=\"post\" action=\"./searchsdw_c.aspx\" id=\"form1\" style=\"text-align: left;\">\\r\\n<input type=\"hidden\" name=\"__VIEWSTATE\" id=\"__VIEWSTATE\" value=\"8rZq0Nr/r4g3FRrp4uwHdIuqj7i4ZWuZTOIsFheKWAmBOdzpejOjGIfvalY1pP0k7L/HWQLNn3b1OemyH/S8yrkT7Z+d0ngwvwFpaHcDfPuP+p0mJJNSiuZXwLoJQG4Mj1NiDcdZbiTyPkGn43d/rZyNqMAJXZw7+9DeY7mGqsHZLGEVDjc/rKXGCiBPZ56j/sGZkg==\" />\\r\\n\\r\\n<input type=\"hidden\" name=\"__VIEWSTATEGENERATOR\" id=\"__VIEWSTATEGENERATOR\" value=\"3B50BBBD\" />\\r\\n<input type=\"hidden\" name=\"__EVENTVALIDATION\" id=\"__EVENTVALIDATION\" value=\"+LVrNrDKJYr/CZCtYFySGgyGQppl2QKoGVrLd12W5vN2xPuq5pjrxI5xeheygXH70OQIvfHecjr9mDkzGs5djQRALNidvNh3zUvfsoZ9WcvgTIfs69XomAdRErwqGV3Smra+ktq7u1sHaMpWsNOTylOlcngmMckcdL/bd1aE0L28v4UvS3Aq3HW0tZL7g1ZUa8N9UYNljwVvVd8ld8z2OZnf5qBjQ7Z/jaLKNPAbqtxZ5YMNulBEaHyonjuDuy2e9ng9/g6ow5hwBGuhcyCh/0OeBUIfy/v1IY8rprpkQd8jVwRus1oHe1OdHUl0bTddhD31Z7DIrLkTyTRj1b6uQvx0llCnXpLlKVF/nNvucf5Q2lSQoJKdl1+uBYJ1wFSssPoiL4qbFXbjJDPExagwCzLQ07Eic+Ny3Y0vaR5T2FshLeOsZNoU2oHs+H5WBWBWwGzwZHu5J9DSh69pINdR5mLH15wkj8n4uC+mTKfFEYPJNGNHGNGAHlIB0Qni/p9Yi08q8Ws4o28DrPSoXPR/oeJNeJXcXNOgwkmN/BNZxYqPr0XvGGwE4O+fVaDG0b9VGbsf4zP0o1esUBSJ8x+ssQzEw5TEoLz6uiFIHXNcMZNqYjNwf9m4RvXy+mz8aeLieIFUjJM6ucD8Sm+fPzlaWWhdsxPpuN1TYYsmjukveNJ1R5MmF9KChUAiq5vNQkvaOpQ33jCXE0y2lS7ujAvCwOf11d629Y929heV1F6nVyXzMeRAIv2kWnd6C4tFkdFqJVWCbM44HzATbciBVoEAftXpOBh+0vIYyFf7L726HgkEOKaBAmK3LsU1r6b9+oIYTzF98AIUPu6i43NI9vexweogSNtLP+kQ4XtFmJKmTtNUqKZO+tzcX6jnFvGFhyuHP7m04k13jfOeLMixBOAQLuh60E5P2G9w3/des0oz6OHI8Ef6POKPhwXqlcZmU1HkL3sORXUJuBshkjGBOcsvtN82CARRCgLfrY8IA+0wYdDlzzCZFEwVn13ErZDFdSEm9pV6GyfmsYn/cUkYyGjP6m4veDxrwpljDHBMpR9IqLhsQVCYxu4MVWkzD/DnijSpspqdEc6HTPryDARcBUe1ya6/4a/OEC8AizT9ZeXOyQq8jKAbrldZfAe+AMWpHhgXe5uI7p3G0Qbfh7MwZaC0lC1lrZdwYxzcUN7RopDsUVKBF8KKC/DktPFpo3HTwdgMySA300ofBWabus63TefJDToeEVtiV7Oe2ou9hN+tMi4s/ogu52b2Su+yqisb3M8QGwQpBg==\" />\\r\\n        <input type=\"hidden\" name=\"today\" id=\"today\" value=\"20180622\" />\\r\\n        <input type=\"hidden\" name=\"sortBy\" id=\"sortBy\" />\\r\\n        <input type=\"hidden\" name=\"selPartID\" id=\"selPartID\" />\\r\\n        <input type=\"hidden\" name=\"alertMsg\" id=\"alertMsg\" />\\r\\n        <div id=\"pnlDisclaimer\">\\r\\n\\t\\r\\n            <table border=\"0\" width=\"100%\" cellspacing=\"0\" cellpadding=\"0\">\\r\\n                <tr>\\r\\n                    <td class=\"table_header\">\\r\\n                        <table width=\"100%\" border=\"0\" cellpadding=\"0\" cellspacing=\"0\">\\r\\n                            <tr>\\r\\n                                <td width=\"8\" align=\"left\" valign=\"top\">\\r\\n                                    <img src=\"../../image/spacer.gif\" alt=\"\" width=\"10\" height=\"10\" />\\r\\n                                </td>\\r\\n                                <td width=\"100%\">\\r\\n                                    <table width=\"100%\" border=\"0\" cellpadding=\"5\" cellspacing=\"0\">\\r\\n                                        <tr>\\r\\n                                            <!-- page title label: CCASS shareholding information Search -->\\r\\n                                            <td nowrap=\"nowrap\">\\r\\n                                                <span class=\"arial12black\"><strong>\\r\\n                                                    中央結算系統持股紀錄查詢服務</strong></span>\\r\\n                                            </td>\\r\\n                                            <td style=\"text-align: right;\" nowrap=\"nowrap\" class=\"arial11black\">\\r\\n                                                請注意本<a href=\"files/Disclaimer%20(C).doc\"\\r\\n                                                    target=\"_blank\">免責聲明</a>。\\r\\n                                            </td>\\r\\n                                        </tr>\\r\\n                                    </table>\\r\\n                                </td>\\r\\n                            </tr>\\r\\n                        </table>\\r\\n                    </td>\\r\\n                </tr>\\r\\n                <tr>\\r\\n                    <td>\\r\\n                        <table width=\"100%\" border=\"0\" cellpadding=\"0\" cellspacing=\"0\">\\r\\n                            <tr>\\r\\n                                <td width=\"8\" align=\"left\" valign=\"top\">\\r\\n                                    <img src=\"../../image/spacer.gif\" alt=\"\" width=\"10\" height=\"10\" />\\r\\n                                </td>\\r\\n                                <td width=\"100%\">\\r\\n                                    <table width=\"100%\" border=\"0\" cellpadding=\"5\" cellspacing=\"0\">\\r\\n                                        <tr>\\r\\n                                            <!-- Explanatory note -->\\r\\n                                            <td>\\r\\n                                                <span class=\"arial12black\">\\r\\n                                                    閣下可査詢過去十二個月的中央結算系統持股紀錄，按閣下選擇的股份及持股日期所顯示的資料乃中央結算系統參與者於該日日終的持股量。如果所選擇的持股日期是星期日或香港公共假期，則會顯示最後一個非星期日或香港公共假期的持股紀錄。\\r\\n<br/><br/>\\r\\n如欲查詢，請選擇持股日期及輸入股份代號或股份名稱；如欲查詢某指定中央結算系統參與者於某日持有某股份的數量，亦可一併輸入該中央結算系統參與者的編號或名稱。\\r\\n<br/><br/>\\r\\n閣下亦可透過 <A HREF=\"\"mailto:psh@hkex.com.hk\"\"><U>psh@hkex.com.hk</U></A> 遞交書面申請以索取過去七年的中央結算系統持股記錄，有關資料將會透過光碟或其他方式發放，並需收取費用。</span>\\r\\n                                            </td>\\r\\n                                        </tr>\\r\\n                                    </table>\\r\\n                                </td>\\r\\n                            </tr>\\r\\n                            <tr>\\r\\n                                <td colspan=\"2\" style=\"background-color: #000000; width: 100%; height: 1px; padding: 0px;\"></td>\\r\\n                            </tr>\\r\\n                        </table>\\r\\n                    </td>\\r\\n                </tr>\\r\\n                <tr>\\r\\n                    <td></td>\\r\\n                </tr>\\r\\n            </table>\\r\\n        \\r\\n</div>\\r\\n        <div id=\"pnlSearch\">\\r\\n\\t\\r\\n            <table width=\"100%\" border=\"0\" cellpadding=\"0\" cellspacing=\"0\" class=\"table_header\">\\r\\n                <tr>\\r\\n                    <td height=\"8\" align=\"left\" valign=\"bottom\" bgcolor=\"#FFFFFF\">\\r\\n                        <!-- Outter Cells  -->\\r\\n                        <table width=\"100%\" border=\"0\" cellpadding=\"0\" cellspacing=\"0\">\\r\\n                            <tr>\\r\\n                                <!-- 1st blink row -->\\r\\n                                <td colspan=\"4\" align=\"left\" valign=\"top\">\\r\\n                                    <img src=\"../../../image/spacer.gif\" width=\"10\" height=\"10\" />\\r\\n                                </td>\\r\\n                            </tr>\\r\\n                            <tr>\\r\\n                                <!-- Shareholding date -->\\r\\n                                <td align=\"left\" valign=\"top\">\\r\\n                                    <img src=\"../../../image/spacer.gif\" width=\"10\" height=\"10\" />\\r\\n                                </td>\\r\\n                                <td align=\"left\">\\r\\n                                    <table border=\"0\" cellspacing=\"0\" cellpadding=\"5\">\\r\\n                                        <tr>\\r\\n                                            <td style=\"text-align: right;\" nowrap=\"nowrap\" class=\"arial12black\">\\r\\n                                                持股日期\\r\\n                                            </td>\\r\\n                                        </tr>\\r\\n                                    </table>\\r\\n                                </td>\\r\\n                                <td width=\"100%\" align=\"left\" valign=\"top\" nowrap=\"nowrap\" class=\"arial12black\">\\r\\n                                    <select name=\"ddlShareholdingDay\" id=\"ddlShareholdingDay\" class=\"arial12black\">\\r\\n\\t\\t<option value=\"01\">01</option>\\r\\n\\t\\t<option value=\"02\">02</option>\\r\\n\\t\\t<option value=\"03\">03</option>\\r\\n\\t\\t<option value=\"04\">04</option>\\r\\n\\t\\t<option value=\"05\">05</option>\\r\\n\\t\\t<option value=\"06\">06</option>\\r\\n\\t\\t<option value=\"07\">07</option>\\r\\n\\t\\t<option value=\"08\">08</option>\\r\\n\\t\\t<option value=\"09\">09</option>\\r\\n\\t\\t<option value=\"10\">10</option>\\r\\n\\t\\t<option value=\"11\">11</option>\\r\\n\\t\\t<option value=\"12\">12</option>\\r\\n\\t\\t<option value=\"13\">13</option>\\r\\n\\t\\t<option value=\"14\">14</option>\\r\\n\\t\\t<option value=\"15\">15</option>\\r\\n\\t\\t<option value=\"16\">16</option>\\r\\n\\t\\t<option value=\"17\">17</option>\\r\\n\\t\\t<option value=\"18\">18</option>\\r\\n\\t\\t<option value=\"19\">19</option>\\r\\n\\t\\t<option value=\"20\">20</option>\\r\\n\\t\\t<option selected=\"selected\" value=\"21\">21</option>\\r\\n\\t\\t<option value=\"22\">22</option>\\r\\n\\t\\t<option value=\"23\">23</option>\\r\\n\\t\\t<option value=\"24\">24</option>\\r\\n\\t\\t<option value=\"25\">25</option>\\r\\n\\t\\t<option value=\"26\">26</option>\\r\\n\\t\\t<option value=\"27\">27</option>\\r\\n\\t\\t<option value=\"28\">28</option>\\r\\n\\t\\t<option value=\"29\">29</option>\\r\\n\\t\\t<option value=\"30\">30</option>\\r\\n\\t\\t<option value=\"31\">31</option>\\r\\n\\r\\n\\t</select>\\r\\n                                    <select name=\"ddlShareholdingMonth\" id=\"ddlShareholdingMonth\" class=\"arial12black\">\\r\\n\\t\\t<option value=\"01\">01</option>\\r\\n\\t\\t<option value=\"02\">02</option>\\r\\n\\t\\t<option value=\"03\">03</option>\\r\\n\\t\\t<option value=\"04\">04</option>\\r\\n\\t\\t<option value=\"05\">05</option>\\r\\n\\t\\t<option selected=\"selected\" value=\"06\">06</option>\\r\\n\\t\\t<option value=\"07\">07</option>\\r\\n\\t\\t<option value=\"08\">08</option>\\r\\n\\t\\t<option value=\"09\">09</option>\\r\\n\\t\\t<option value=\"10\">10</option>\\r\\n\\t\\t<option value=\"11\">11</option>\\r\\n\\t\\t<option value=\"12\">12</option>\\r\\n\\r\\n\\t</select>\\r\\n                                    <select name=\"ddlShareholdingYear\" id=\"ddlShareholdingYear\" class=\"arial12black\">\\r\\n\\t\\t<option selected=\"selected\" value=\"2018\">2018</option>\\r\\n\\t\\t<option value=\"2017\">2017</option>\\r\\n\\r\\n\\t</select>\\r\\n                                </td>\\r\\n                                <td>\\r\\n                                    <img src=\"../../../image/spacer.gif\" width=\"10\" height=\"10\" />\\r\\n                                </td>\\r\\n                            </tr>\\r\\n                            <tr>\\r\\n                                <!-- stock code -->\\r\\n                                <td align=\"left\" valign=\"top\">\\r\\n                                    <img src=\"../../../image/spacer.gif\" width=\"10\" height=\"10\" />\\r\\n                                </td>\\r\\n                                <td align=\"left\">\\r\\n                                    <table border=\"0\" cellspacing=\"0\" cellpadding=\"5\">\\r\\n                                        <tr>\\r\\n                                            <td style=\"text-align: right;\" nowrap=\"nowrap\" class=\"arial12black\">\\r\\n                                                股份代號\\r\\n                                            </td>\\r\\n                                        </tr>\\r\\n                                    </table>\\r\\n                                </td>\\r\\n                                <td width=\"100%\" align=\"left\" valign=\"top\">\\r\\n                                    <table border=\"0\" cellspacing=\"0\" cellpadding=\"2\">\\r\\n                                        <tr>\\r\\n                                            <td nowrap=\"nowrap\">\\r\\n                                                <input name=\"txtStockCode\" type=\"text\" value=\"91888\" maxlength=\"5\" id=\"txtStockCode\" class=\"arial12black\" size=\"10\" />\\r\\n                                            </td>\\r\\n                                            <td nowrap=\"nowrap\">\\r\\n                                                <a style=\"cursor: pointer;\" onclick=\\'Javascript:PopUpStockList();\\'><span class=\"arial11grey\"\\r\\n                                                    onmouseover=\\'this.style.textDecoration=\"underline\"\\' onmouseout=\\'this.style.textDecoration=\"none\"\\'>\\r\\n                                                    股份名單</span></a>\\r\\n                                            </td>\\r\\n                                        </tr>\\r\\n                                    </table>\\r\\n                                </td>\\r\\n                                <td>\\r\\n                                    <img src=\"../../../image/spacer.gif\" width=\"10\" height=\"10\" />\\r\\n                                </td>\\r\\n                            </tr>\\r\\n                            <tr>\\r\\n                                <!-- Stock name -->\\r\\n                                <td align=\"left\" valign=\"top\">\\r\\n                                    <img src=\"../../../image/spacer.gif\" width=\"10\" height=\"10\" />\\r\\n                                </td>\\r\\n                                <td align=\"left\">\\r\\n                                    <table border=\"0\" cellspacing=\"0\" cellpadding=\"5\">\\r\\n                                        <tr>\\r\\n                                            <td style=\"text-align: right;\" nowrap=\"nowrap\" class=\"arial12black\">\\r\\n                                                股份名稱\\r\\n                                            </td>\\r\\n                                        </tr>\\r\\n                                    </table>\\r\\n                                </td>\\r\\n                                <td width=\"100%\" align=\"left\" valign=\"top\">\\r\\n                                    <table border=\"0\" cellspacing=\"0\" cellpadding=\"2\">\\r\\n                                        <tr>\\r\\n                                            <td nowrap=\"nowrap\">\\r\\n                                                <input name=\"txtStockName\" type=\"text\" maxlength=\"80\" id=\"txtStockName\" class=\"arial12black\" size=\"60\" />\\r\\n                                                \\r\\n                                            </td>\\r\\n                                        </tr>\\r\\n                                    </table>\\r\\n                                </td>\\r\\n                                <td>\\r\\n                                    <img src=\"../../../image/spacer.gif\" width=\"10\" height=\"10\" />\\r\\n                                </td>\\r\\n                            </tr>\\r\\n                            <tr>\\r\\n                                <!-- Partip. ID -->\\r\\n                                <td align=\"left\" valign=\"top\">\\r\\n                                    <img src=\"../../../image/spacer.gif\" width=\"10\" height=\"10\" />\\r\\n                                </td>\\r\\n                                <td align=\"left\">\\r\\n                                    <table border=\"0\" cellspacing=\"0\" cellpadding=\"5\">\\r\\n                                        <tr>\\r\\n                                            <td style=\"text-align: right;\" nowrap=\"nowrap\" class=\"arial12black\">\\r\\n                                                中央結算系統參與者編號\\r\\n                                            </td>\\r\\n                                        </tr>\\r\\n                                    </table>\\r\\n                                </td>\\r\\n                                <td width=\"100%\" align=\"left\" valign=\"top\">\\r\\n                                    <table border=\"0\" cellspacing=\"0\" cellpadding=\"2\">\\r\\n                                        <tr>\\r\\n                                            <td nowrap=\"nowrap\">\\r\\n                                                <input name=\"txtParticipantID\" type=\"text\" maxlength=\"6\" id=\"txtParticipantID\" class=\"arial12black\" size=\"10\" />\\r\\n                                            </td>\\r\\n                                            <td nowrap=\"nowrap\">\\r\\n                                                <a style=\"cursor: pointer;\" onclick=\\'Javascript:PopUpParticipantList();\\'><span class=\"arial11grey\"\\r\\n                                                    onmouseover=\\'this.style.textDecoration=\"underline\"\\' onmouseout=\\'this.style.textDecoration=\"none\"\\'>\\r\\n                                                    中央結算系統參與者名錄(中介人)</span></a>\\r\\n                                            </td>\\r\\n                                        </tr>\\r\\n                                    </table>\\r\\n                                </td>\\r\\n                                <td>\\r\\n                                    <img src=\"../../../image/spacer.gif\" width=\"10\" height=\"10\" />\\r\\n                                </td>\\r\\n                            </tr>\\r\\n                            <tr>\\r\\n                                <!-- Partip. Name -->\\r\\n                                <td align=\"left\" valign=\"top\">\\r\\n                                    <img src=\"../../../image/spacer.gif\" width=\"10\" height=\"10\" />\\r\\n                                </td>\\r\\n                                <td align=\"left\">\\r\\n                                    <table border=\"0\" cellspacing=\"0\" cellpadding=\"5\">\\r\\n                                        <tr>\\r\\n                                            <td style=\"text-align: right;\" nowrap=\"nowrap\" class=\"arial12black\">\\r\\n                                                中央結算系統參與者名稱\\r\\n                                            </td>\\r\\n                                        </tr>\\r\\n                                    </table>\\r\\n                                </td>\\r\\n                                <td width=\"100%\" align=\"left\" valign=\"top\">\\r\\n                                    <table border=\"0\" cellspacing=\"0\" cellpadding=\"2\">\\r\\n                                        <tr>\\r\\n                                            <td nowrap=\"nowrap\">\\r\\n                                                <input name=\"txtParticipantName\" type=\"text\" maxlength=\"80\" id=\"txtParticipantName\" class=\"arial12black\" size=\"60\" />\\r\\n                                                \\r\\n                                            </td>\\r\\n                                        </tr>\\r\\n                                    </table>\\r\\n                                </td>\\r\\n                                <td>\\r\\n                                    <img src=\"../../../image/spacer.gif\" width=\"10\" height=\"10\" />\\r\\n                                </td>\\r\\n                            </tr>\\r\\n                            <tr>\\r\\n                                <!-- blank row-->\\r\\n                                <td height=\"1\" colspan=\"4\" align=\"left\" valign=\"top\">\\r\\n                                    <img src=\"../../../image/spacer.gif\" width=\"10\" height=\"10\" />\\r\\n                                </td>\\r\\n                            </tr>\\r\\n                            <tr>\\r\\n                                <!-- button row  -->\\r\\n                                <td height=\"1\" align=\"left\" valign=\"top\">&nbsp;\\r\\n                                </td>\\r\\n                                <td height=\"1\" align=\"left\" valign=\"top\">&nbsp;\\r\\n                                </td>\\r\\n                                <td height=\"1\" align=\"left\" valign=\"top\">\\r\\n                                    <input type=\"image\" name=\"btnSearch\" id=\"btnSearch\" src=\"../../../image/search_c.gif\" alt=\"Search\" onclick=\"if(!preprocessMainForm(document.form1)) return false;\" border=\"0\" />\\r\\n                                    <a href=\"javascript:location.href=location.href;\">\\r\\n                                        <img src=\"../../../image/clear_c.gif\" border=\"0\" alt=\"clear\" /></a>\\r\\n                                </td>\\r\\n                                <td height=\"1\" align=\"left\" valign=\"top\">&nbsp;\\r\\n                                </td>\\r\\n                            </tr>\\r\\n                        </table>\\r\\n                        <!-- end Outter Cells  -->\\r\\n                    </td>\\r\\n                </tr>\\r\\n            </table>\\r\\n        \\r\\n</div>\\r\\n        \\r\\n    </form>\\r\\n    <script type=\"text/javascript\" src=\"/script/hkex_foot.js\"></script>\\r\\n</body>\\r\\n</html>\\r\\n'"
      ]
     },
     "execution_count": 18,
     "metadata": {},
     "output_type": "execute_result"
    }
   ],
   "source": [
    "r.text"
   ]
  },
  {
   "cell_type": "code",
   "execution_count": 9,
   "metadata": {
    "collapsed": true
   },
   "outputs": [],
   "source": [
    "soup=BeautifulSoup(r.content,'html.parser')"
   ]
  },
  {
   "cell_type": "code",
   "execution_count": 10,
   "metadata": {},
   "outputs": [
    {
     "name": "stdout",
     "output_type": "stream",
     "text": [
      "Ckzs+VaFUEDBzZtKQjL8H1DdOd0DKk5HSQ32/tzS8gH+TO1W2S8tjyZf6hmXM7avS2T/u2jdQlJ5D4T/t0hkQaQlfrd8hQKfLvJKZTYFV9m/kkOQVXsunk3uLA6HnJSrYgJAaXQdxh6mR7NrKIXPi+WK3sSA2FiV36I//ZNpgbyoOW6Cd6NncSNgKzmpxEciVxxErw==\n"
     ]
    }
   ],
   "source": [
    "VIEWSTATE=soup.find(id=\"__VIEWSTATE\")['value']\n",
    "print(VIEWSTATE)"
   ]
  },
  {
   "cell_type": "code",
   "execution_count": 11,
   "metadata": {},
   "outputs": [
    {
     "name": "stdout",
     "output_type": "stream",
     "text": [
      "3B50BBBD\n"
     ]
    }
   ],
   "source": [
    "VIEWSTATEGENERATOR=soup.find(id=\"__VIEWSTATEGENERATOR\")['value']\n",
    "print(VIEWSTATEGENERATOR)"
   ]
  },
  {
   "cell_type": "code",
   "execution_count": 12,
   "metadata": {},
   "outputs": [
    {
     "name": "stdout",
     "output_type": "stream",
     "text": [
      "EDddx7fxnrdp/107CfB06ZyVcpdsQh9RV/LJjPEi4kbot5/97UrfaR99PeyxiM0tTpGLNDIJOMduS3rr1uXADZL/I2jcKp2Sj3Mw4wy1o0XeVqPB+Ph1C8fhhgd8YsPk4GZnMDLxjMhsp29QaVP7k4kgI427pwByQ4jjfdTmtMVNMDW4Ip435K0JLZTw0EauEs7LL627OdvXycUt/qQDkxj3drqss2VFubwySNJUsGfq7+nJmfikzGY2kyzMkC21ZtlCTUZBRtI/eHCl1WLrI/PPw3gKGf98ZuCRX2Wkg4FPsclYQhpCJEVKstDgaTzvDjy2RovMl2XKnR+nasAkeJUtCjx3AV4icTybEjerLsC5bsaRh+bR9UwQim4oQgqgV7Y4dOlrMrW0xCJjAmXOAEQ/V2+5ur8+kcQDLxkD3OiVCSLeasSxnqujO0cjNpe+IkKom0hI+C/j8mN5K4u/e+b5O/SI+a9yuHJfm6ONpNNPmP2aqiW3Dx0diudOvUfsRFC1dS7RTejDbrDPhCiHsIYGJF6CodoqNBjJjAZAoe8Tjsmif4eUn3c/VWKDUC9b8ZjYfjmWEn3TIyhb7Oiq8tKsZtlVhqWh716Rpi5o1uFyztFtd7lBF9DsHh1dv0kGxDbksZj3pI/hgWy2k80vpVilcqaawVmNZqR+PPA/UT97dUANMB6njkPxbwP8p2xRTyQDWZB1z9XAbgBBlPtmdp2RZUH37OWrC44938bj0dJyG3YyRQ2VsdZfGWuU9vgC4S11UlVlqh/+1woZytJmPOgUUd2La1v3fOAmgOTr1AHvZjIUesJVmQPtYpNW6wuIWPIh8ybAg1Ph560omCqiZVswSANAvcJKMEhO3hCUhcapl4Bq1Sh5kCv4p2YCtTuP9i5HRbn/kfLnBhE+bfila3hbMp2roKj8kk0uKeASpfeXbnZgvIbr713fEUnTj9LjcTZ2WLJ0dvLE/xgoLNaoOQyx1wyPyh61Yur4Dkiha9FMqvEvET4fErlBidW2NNcZ36uS2G+UBZxf/aMnXKgnRdSOTIXwmb6dPb76zWKz7cJRIzAzpMndmY58oeH/qq0amhRS91IfEq7fqOY7OyJOmy5KAuczJN3JjxJA0rS43jwjk4d6G5nWr/zy7HrBmm+it1wRVhNXHymT+JsOxQqDt6rRdeFiIs/cY4I2Ycq6o8K4EHeQ/4QzL1jLw/2beUFEYhaV7wddOGAtY9F3u3PG2FX46gYBNkzWsb+QzUpfa1ckOBPsgIx/gbEAXwa/Dv5LyrJ6zQ==\n"
     ]
    }
   ],
   "source": [
    "EVENTVALIDATION=soup.find(id=\"__EVENTVALIDATION\")['value']\n",
    "print(EVENTVALIDATION)"
   ]
  },
  {
   "cell_type": "code",
   "execution_count": 13,
   "metadata": {
    "collapsed": true
   },
   "outputs": [],
   "source": [
    "login_data={\n",
    "\"__VIEWSTATE\":VIEWSTATE,\n",
    "\"__VIEWSTATEGENERATOR\":VIEWSTATEGENERATOR,\n",
    "\"__EVENTVALIDATION\":EVENTVALIDATION,\n",
    "\"ddlShareholdingDay\":'21',\n",
    "\"ddlShareholdingMonth\":'06',\n",
    "\"ddlShareholdingYear\":\"2018\",\n",
    "'txtStockCode':'91888'\n",
    "           }\n"
   ]
  },
  {
   "cell_type": "code",
   "execution_count": 14,
   "metadata": {
    "collapsed": true
   },
   "outputs": [],
   "source": [
    "r=s.post(URL, data=login_data)"
   ]
  },
  {
   "cell_type": "code",
   "execution_count": 16,
   "metadata": {},
   "outputs": [
    {
     "name": "stdout",
     "output_type": "stream",
     "text": [
      "http://www.hkexnews.hk/sdw/search/searchsdw_c.aspx\n"
     ]
    }
   ],
   "source": [
    "print(r.url)"
   ]
  },
  {
   "cell_type": "code",
   "execution_count": 2,
   "metadata": {
    "collapsed": true
   },
   "outputs": [],
   "source": [
    "from selenium import webdriver\n",
    "from selenium.webdriver.common.by import By\n",
    "from selenium.webdriver.support.ui import WebDriverWait\n",
    "from selenium.webdriver.support import expected_conditions as EC\n",
    "from selenium.webdriver.support.ui import Select"
   ]
  },
  {
   "cell_type": "code",
   "execution_count": 35,
   "metadata": {},
   "outputs": [
    {
     "name": "stdout",
     "output_type": "stream",
     "text": [
      "Here is some important text you want to retrieve!\n",
      "A button to click!\n"
     ]
    }
   ],
   "source": [
    "print(driver.find_element_by_id(\"content\").text)"
   ]
  },
  {
   "cell_type": "code",
   "execution_count": 31,
   "metadata": {
    "collapsed": true
   },
   "outputs": [],
   "source": [
    "driver.close()"
   ]
  },
  {
   "cell_type": "code",
   "execution_count": 3,
   "metadata": {
    "collapsed": true
   },
   "outputs": [],
   "source": [
    "browser = webdriver.Chrome()"
   ]
  },
  {
   "cell_type": "code",
   "execution_count": 13,
   "metadata": {},
   "outputs": [],
   "source": [
    "browser.get(\"http://www.hkexnews.hk/sdw/search/searchsdw_c.aspx\")"
   ]
  },
  {
   "cell_type": "code",
   "execution_count": 11,
   "metadata": {
    "collapsed": true
   },
   "outputs": [],
   "source": [
    "from selenium.webdriver.common.keys import Keys"
   ]
  },
  {
   "cell_type": "code",
   "execution_count": 15,
   "metadata": {},
   "outputs": [],
   "source": [
    "element = browser.find_element_by_id(\"ddlShareholdingDay\")"
   ]
  },
  {
   "cell_type": "code",
   "execution_count": 16,
   "metadata": {
    "collapsed": true
   },
   "outputs": [],
   "source": [
    "element.send_keys(\"15\")"
   ]
  },
  {
   "cell_type": "code",
   "execution_count": 17,
   "metadata": {},
   "outputs": [
    {
     "data": {
      "text/plain": [
       "<selenium.webdriver.remote.webelement.WebElement (session=\"4927b9dee3910b452742e0e3db6445fd\", element=\"0.857161784554014-1\")>"
      ]
     },
     "execution_count": 17,
     "metadata": {},
     "output_type": "execute_result"
    }
   ],
   "source": [
    "element"
   ]
  },
  {
   "cell_type": "code",
   "execution_count": 18,
   "metadata": {
    "collapsed": true
   },
   "outputs": [],
   "source": [
    "element = browser.find_element_by_xpath(\"//select[@name='ddlShareholdingDay']\")"
   ]
  },
  {
   "cell_type": "code",
   "execution_count": 20,
   "metadata": {
    "collapsed": true
   },
   "outputs": [],
   "source": [
    "all_options = element.find_elements_by_tag_name(\"option\")"
   ]
  },
  {
   "cell_type": "code",
   "execution_count": 31,
   "metadata": {
    "collapsed": true
   },
   "outputs": [],
   "source": [
    "browser.find_element_by_id(\"btnSearch\").click()"
   ]
  },
  {
   "cell_type": "code",
   "execution_count": 35,
   "metadata": {},
   "outputs": [],
   "source": [
    "html_txt = browser.page_source"
   ]
  },
  {
   "cell_type": "code",
   "execution_count": 36,
   "metadata": {
    "collapsed": true
   },
   "outputs": [],
   "source": [
    "soup = BeautifulSoup(html_txt,'html.parser')"
   ]
  },
  {
   "cell_type": "code",
   "execution_count": 37,
   "metadata": {},
   "outputs": [
    {
     "name": "stdout",
     "output_type": "stream",
     "text": [
      "{'last_date': '2018-06-20', 'stock_code': '91888', 'stock_name': '中國國旅'}\n"
     ]
    }
   ],
   "source": [
    "first_part = get_first_part()\n",
    "print(first_part)"
   ]
  },
  {
   "cell_type": "code",
   "execution_count": 40,
   "metadata": {
    "collapsed": true
   },
   "outputs": [],
   "source": [
    "browser.get(\"http://www.hkexnews.hk/sdw/search/searchsdw_c.aspx\")"
   ]
  },
  {
   "cell_type": "code",
   "execution_count": 43,
   "metadata": {
    "collapsed": true
   },
   "outputs": [],
   "source": [
    "browser.back()"
   ]
  },
  {
   "cell_type": "code",
   "execution_count": 83,
   "metadata": {
    "collapsed": true
   },
   "outputs": [],
   "source": [
    "browser = webdriver.Chrome()\n",
    "browser.get(\"http://www.hkexnews.hk/sdw/search/searchsdw_c.aspx\")"
   ]
  },
  {
   "cell_type": "code",
   "execution_count": 44,
   "metadata": {
    "collapsed": true
   },
   "outputs": [],
   "source": [
    "begin_date = ''\n",
    "end_date = ''"
   ]
  },
  {
   "cell_type": "code",
   "execution_count": 88,
   "metadata": {},
   "outputs": [
    {
     "data": {
      "text/plain": [
       "'20'"
      ]
     },
     "execution_count": 88,
     "metadata": {},
     "output_type": "execute_result"
    }
   ],
   "source": [
    "i[8:10]"
   ]
  },
  {
   "cell_type": "code",
   "execution_count": 92,
   "metadata": {
    "collapsed": true
   },
   "outputs": [],
   "source": [
    "temp5 = temp4[-10:-1]"
   ]
  },
  {
   "cell_type": "code",
   "execution_count": 93,
   "metadata": {},
   "outputs": [
    {
     "data": {
      "text/plain": [
       "10031    2018-06-06\n",
       "10032    2018-06-07\n",
       "10033    2018-06-08\n",
       "10036    2018-06-11\n",
       "10037    2018-06-12\n",
       "10038    2018-06-13\n",
       "10039    2018-06-14\n",
       "10040    2018-06-15\n",
       "10044    2018-06-19\n",
       "Name: calendarDate, dtype: object"
      ]
     },
     "execution_count": 93,
     "metadata": {},
     "output_type": "execute_result"
    }
   ],
   "source": [
    "temp5"
   ]
  },
  {
   "cell_type": "code",
   "execution_count": 95,
   "metadata": {},
   "outputs": [
    {
     "data": {
      "text/plain": [
       "'2018-06-06'"
      ]
     },
     "execution_count": 95,
     "metadata": {},
     "output_type": "execute_result"
    }
   ],
   "source": [
    "temp_time"
   ]
  },
  {
   "cell_type": "code",
   "execution_count": 97,
   "metadata": {},
   "outputs": [
    {
     "name": "stdout",
     "output_type": "stream",
     "text": [
      "{'last_date': '2018-06-06', 'stock_code': '91888', 'stock_name': '中國國旅'}\n",
      "{'last_date': '2018-06-07', 'stock_code': '91888', 'stock_name': '中國國旅'}\n",
      "{'last_date': '2018-06-08', 'stock_code': '91888', 'stock_name': '中國國旅'}\n",
      "{'last_date': '2018-06-11', 'stock_code': '91888', 'stock_name': '中國國旅'}\n",
      "{'last_date': '2018-06-12', 'stock_code': '91888', 'stock_name': '中國國旅'}\n",
      "{'last_date': '2018-06-13', 'stock_code': '91888', 'stock_name': '中國國旅'}\n",
      "{'last_date': '2018-06-14', 'stock_code': '91888', 'stock_name': '中國國旅'}\n",
      "{'last_date': '2018-06-15', 'stock_code': '91888', 'stock_name': '中國國旅'}\n",
      "{'last_date': '2018-06-19', 'stock_code': '91888', 'stock_name': '中國國旅'}\n"
     ]
    }
   ],
   "source": [
    "for temp_time in temp5:\n",
    "    \n",
    "    select = Select(browser.find_element_by_name('ddlShareholdingMonth'))\n",
    "    select.select_by_value(temp_time[5:7])\n",
    "\n",
    "    select = Select(browser.find_element_by_name('ddlShareholdingDay'))\n",
    "    select.select_by_value(temp_time[8:10])\n",
    "\n",
    "    select = Select(browser.find_element_by_name('ddlShareholdingYear'))\n",
    "    select.select_by_value(temp_time[0:4])\n",
    "\n",
    "    element = browser.find_element_by_id(\"txtStockCode\")\n",
    "    element.send_keys(\"91888\")\n",
    "\n",
    "    browser.find_element_by_id(\"btnSearch\").click()\n",
    "\n",
    "    html_txt = browser.page_source\n",
    "\n",
    "    soup = BeautifulSoup(html_txt,'html.parser')\n",
    "    \n",
    "    print(get_first_part())\n",
    "\n",
    "    browser.back()"
   ]
  },
  {
   "cell_type": "code",
   "execution_count": 45,
   "metadata": {
    "collapsed": true
   },
   "outputs": [],
   "source": [
    "import tushare as ts"
   ]
  },
  {
   "cell_type": "code",
   "execution_count": 46,
   "metadata": {
    "collapsed": true
   },
   "outputs": [],
   "source": [
    "temp = ts.trade_cal()"
   ]
  },
  {
   "cell_type": "code",
   "execution_count": 104,
   "metadata": {},
   "outputs": [],
   "source": [
    "begin_date = '2018-01-01'\n",
    "end_date = '2018-06-20'"
   ]
  },
  {
   "cell_type": "code",
   "execution_count": 98,
   "metadata": {},
   "outputs": [],
   "source": [
    "s1 = '20180612'"
   ]
  },
  {
   "cell_type": "code",
   "execution_count": 105,
   "metadata": {
    "collapsed": true
   },
   "outputs": [],
   "source": [
    "    trade_cal = temp\n",
    "    trade_cal = trade_cal[trade_cal['calendarDate'] >= begin_date]\n",
    "    trade_cal = trade_cal[trade_cal['calendarDate'] <= end_date]\n",
    "    trade_cal = trade_cal[trade_cal['isOpen'] == 1]\n",
    "    trade_cal = trade_cal['calendarDate']"
   ]
  },
  {
   "cell_type": "code",
   "execution_count": 106,
   "metadata": {},
   "outputs": [
    {
     "data": {
      "text/plain": [
       "9876     2018-01-02\n",
       "9877     2018-01-03\n",
       "9878     2018-01-04\n",
       "9879     2018-01-05\n",
       "9882     2018-01-08\n",
       "9883     2018-01-09\n",
       "9884     2018-01-10\n",
       "9885     2018-01-11\n",
       "9886     2018-01-12\n",
       "9889     2018-01-15\n",
       "9890     2018-01-16\n",
       "9891     2018-01-17\n",
       "9892     2018-01-18\n",
       "9893     2018-01-19\n",
       "9896     2018-01-22\n",
       "9897     2018-01-23\n",
       "9898     2018-01-24\n",
       "9899     2018-01-25\n",
       "9900     2018-01-26\n",
       "9903     2018-01-29\n",
       "9904     2018-01-30\n",
       "9905     2018-01-31\n",
       "9906     2018-02-01\n",
       "9907     2018-02-02\n",
       "9910     2018-02-05\n",
       "9911     2018-02-06\n",
       "9912     2018-02-07\n",
       "9913     2018-02-08\n",
       "9914     2018-02-09\n",
       "9917     2018-02-12\n",
       "            ...    \n",
       "10003    2018-05-09\n",
       "10004    2018-05-10\n",
       "10005    2018-05-11\n",
       "10008    2018-05-14\n",
       "10009    2018-05-15\n",
       "10010    2018-05-16\n",
       "10011    2018-05-17\n",
       "10012    2018-05-18\n",
       "10015    2018-05-21\n",
       "10016    2018-05-22\n",
       "10017    2018-05-23\n",
       "10018    2018-05-24\n",
       "10019    2018-05-25\n",
       "10022    2018-05-28\n",
       "10023    2018-05-29\n",
       "10024    2018-05-30\n",
       "10025    2018-05-31\n",
       "10026    2018-06-01\n",
       "10029    2018-06-04\n",
       "10030    2018-06-05\n",
       "10031    2018-06-06\n",
       "10032    2018-06-07\n",
       "10033    2018-06-08\n",
       "10036    2018-06-11\n",
       "10037    2018-06-12\n",
       "10038    2018-06-13\n",
       "10039    2018-06-14\n",
       "10040    2018-06-15\n",
       "10044    2018-06-19\n",
       "10045    2018-06-20\n",
       "Name: calendarDate, Length: 112, dtype: object"
      ]
     },
     "execution_count": 106,
     "metadata": {},
     "output_type": "execute_result"
    }
   ],
   "source": [
    "trade_cal"
   ]
  },
  {
   "cell_type": "code",
   "execution_count": 101,
   "metadata": {},
   "outputs": [
    {
     "data": {
      "text/plain": [
       "'12'"
      ]
     },
     "execution_count": 101,
     "metadata": {},
     "output_type": "execute_result"
    }
   ],
   "source": [
    "s1[6:8]"
   ]
  },
  {
   "cell_type": "code",
   "execution_count": 61,
   "metadata": {
    "collapsed": true
   },
   "outputs": [],
   "source": [
    "temp2 = temp1[temp1['calendarDate'] <= end_date]"
   ]
  },
  {
   "cell_type": "code",
   "execution_count": 63,
   "metadata": {},
   "outputs": [],
   "source": [
    "temp3 = temp2[temp2['isOpen'] == 1]"
   ]
  },
  {
   "cell_type": "code",
   "execution_count": 67,
   "metadata": {},
   "outputs": [],
   "source": [
    "temp4=temp3['calendarDate']"
   ]
  },
  {
   "cell_type": "code",
   "execution_count": 75,
   "metadata": {},
   "outputs": [],
   "source": [
    "time1 = temp4.iat[0]"
   ]
  },
  {
   "cell_type": "code",
   "execution_count": 76,
   "metadata": {
    "collapsed": true
   },
   "outputs": [],
   "source": [
    "import datetime"
   ]
  },
  {
   "cell_type": "code",
   "execution_count": 77,
   "metadata": {
    "collapsed": true
   },
   "outputs": [],
   "source": [
    "time2 = datetime.datetime.strptime(time1,'%Y-%m-%d')"
   ]
  },
  {
   "cell_type": "code",
   "execution_count": 82,
   "metadata": {},
   "outputs": [
    {
     "name": "stdout",
     "output_type": "stream",
     "text": [
      "2017-01-03\n",
      "2017-01-04\n",
      "2017-01-05\n",
      "2017-01-06\n",
      "2017-01-09\n",
      "2017-01-10\n",
      "2017-01-11\n",
      "2017-01-12\n",
      "2017-01-13\n",
      "2017-01-16\n",
      "2017-01-17\n",
      "2017-01-18\n",
      "2017-01-19\n",
      "2017-01-20\n",
      "2017-01-23\n",
      "2017-01-24\n",
      "2017-01-25\n",
      "2017-01-26\n",
      "2017-02-03\n",
      "2017-02-06\n",
      "2017-02-07\n",
      "2017-02-08\n",
      "2017-02-09\n",
      "2017-02-10\n",
      "2017-02-13\n",
      "2017-02-14\n",
      "2017-02-15\n",
      "2017-02-16\n",
      "2017-02-17\n",
      "2017-02-20\n",
      "2017-02-21\n",
      "2017-02-22\n",
      "2017-02-23\n",
      "2017-02-24\n",
      "2017-02-27\n",
      "2017-02-28\n",
      "2017-03-01\n",
      "2017-03-02\n",
      "2017-03-03\n",
      "2017-03-06\n",
      "2017-03-07\n",
      "2017-03-08\n",
      "2017-03-09\n",
      "2017-03-10\n",
      "2017-03-13\n",
      "2017-03-14\n",
      "2017-03-15\n",
      "2017-03-16\n",
      "2017-03-17\n",
      "2017-03-20\n",
      "2017-03-21\n",
      "2017-03-22\n",
      "2017-03-23\n",
      "2017-03-24\n",
      "2017-03-27\n",
      "2017-03-28\n",
      "2017-03-29\n",
      "2017-03-30\n",
      "2017-03-31\n",
      "2017-04-05\n",
      "2017-04-06\n",
      "2017-04-07\n",
      "2017-04-10\n",
      "2017-04-11\n",
      "2017-04-12\n",
      "2017-04-13\n",
      "2017-04-14\n",
      "2017-04-17\n",
      "2017-04-18\n",
      "2017-04-19\n",
      "2017-04-20\n",
      "2017-04-21\n",
      "2017-04-24\n",
      "2017-04-25\n",
      "2017-04-26\n",
      "2017-04-27\n",
      "2017-04-28\n",
      "2017-05-02\n",
      "2017-05-03\n",
      "2017-05-04\n",
      "2017-05-05\n",
      "2017-05-08\n",
      "2017-05-09\n",
      "2017-05-10\n",
      "2017-05-11\n",
      "2017-05-12\n",
      "2017-05-15\n",
      "2017-05-16\n",
      "2017-05-17\n",
      "2017-05-18\n",
      "2017-05-19\n",
      "2017-05-22\n",
      "2017-05-23\n",
      "2017-05-24\n",
      "2017-05-25\n",
      "2017-05-26\n",
      "2017-05-31\n",
      "2017-06-01\n",
      "2017-06-02\n",
      "2017-06-05\n",
      "2017-06-06\n",
      "2017-06-07\n",
      "2017-06-08\n",
      "2017-06-09\n",
      "2017-06-12\n",
      "2017-06-13\n",
      "2017-06-14\n",
      "2017-06-15\n",
      "2017-06-16\n",
      "2017-06-19\n",
      "2017-06-20\n",
      "2017-06-21\n",
      "2017-06-22\n",
      "2017-06-23\n",
      "2017-06-26\n",
      "2017-06-27\n",
      "2017-06-28\n",
      "2017-06-29\n",
      "2017-06-30\n",
      "2017-07-03\n",
      "2017-07-04\n",
      "2017-07-05\n",
      "2017-07-06\n",
      "2017-07-07\n",
      "2017-07-10\n",
      "2017-07-11\n",
      "2017-07-12\n",
      "2017-07-13\n",
      "2017-07-14\n",
      "2017-07-17\n",
      "2017-07-18\n",
      "2017-07-19\n",
      "2017-07-20\n",
      "2017-07-21\n",
      "2017-07-24\n",
      "2017-07-25\n",
      "2017-07-26\n",
      "2017-07-27\n",
      "2017-07-28\n",
      "2017-07-31\n",
      "2017-08-01\n",
      "2017-08-02\n",
      "2017-08-03\n",
      "2017-08-04\n",
      "2017-08-07\n",
      "2017-08-08\n",
      "2017-08-09\n",
      "2017-08-10\n",
      "2017-08-11\n",
      "2017-08-14\n",
      "2017-08-15\n",
      "2017-08-16\n",
      "2017-08-17\n",
      "2017-08-18\n",
      "2017-08-21\n",
      "2017-08-22\n",
      "2017-08-23\n",
      "2017-08-24\n",
      "2017-08-25\n",
      "2017-08-28\n",
      "2017-08-29\n",
      "2017-08-30\n",
      "2017-08-31\n",
      "2017-09-01\n",
      "2017-09-04\n",
      "2017-09-05\n",
      "2017-09-06\n",
      "2017-09-07\n",
      "2017-09-08\n",
      "2017-09-11\n",
      "2017-09-12\n",
      "2017-09-13\n",
      "2017-09-14\n",
      "2017-09-15\n",
      "2017-09-18\n",
      "2017-09-19\n",
      "2017-09-20\n",
      "2017-09-21\n",
      "2017-09-22\n",
      "2017-09-25\n",
      "2017-09-26\n",
      "2017-09-27\n",
      "2017-09-28\n",
      "2017-09-29\n",
      "2017-10-09\n",
      "2017-10-10\n",
      "2017-10-11\n",
      "2017-10-12\n",
      "2017-10-13\n",
      "2017-10-16\n",
      "2017-10-17\n",
      "2017-10-18\n",
      "2017-10-19\n",
      "2017-10-20\n",
      "2017-10-23\n",
      "2017-10-24\n",
      "2017-10-25\n",
      "2017-10-26\n",
      "2017-10-27\n",
      "2017-10-30\n",
      "2017-10-31\n",
      "2017-11-01\n",
      "2017-11-02\n",
      "2017-11-03\n",
      "2017-11-06\n",
      "2017-11-07\n",
      "2017-11-08\n",
      "2017-11-09\n",
      "2017-11-10\n",
      "2017-11-13\n",
      "2017-11-14\n",
      "2017-11-15\n",
      "2017-11-16\n",
      "2017-11-17\n",
      "2017-11-20\n",
      "2017-11-21\n",
      "2017-11-22\n",
      "2017-11-23\n",
      "2017-11-24\n",
      "2017-11-27\n",
      "2017-11-28\n",
      "2017-11-29\n",
      "2017-11-30\n",
      "2017-12-01\n",
      "2017-12-04\n",
      "2017-12-05\n",
      "2017-12-06\n",
      "2017-12-07\n",
      "2017-12-08\n",
      "2017-12-11\n",
      "2017-12-12\n",
      "2017-12-13\n",
      "2017-12-14\n",
      "2017-12-15\n",
      "2017-12-18\n",
      "2017-12-19\n",
      "2017-12-20\n",
      "2017-12-21\n",
      "2017-12-22\n",
      "2017-12-25\n",
      "2017-12-26\n",
      "2017-12-27\n",
      "2017-12-28\n",
      "2017-12-29\n",
      "2018-01-02\n",
      "2018-01-03\n",
      "2018-01-04\n",
      "2018-01-05\n",
      "2018-01-08\n",
      "2018-01-09\n",
      "2018-01-10\n",
      "2018-01-11\n",
      "2018-01-12\n",
      "2018-01-15\n",
      "2018-01-16\n",
      "2018-01-17\n",
      "2018-01-18\n",
      "2018-01-19\n",
      "2018-01-22\n",
      "2018-01-23\n",
      "2018-01-24\n",
      "2018-01-25\n",
      "2018-01-26\n",
      "2018-01-29\n",
      "2018-01-30\n",
      "2018-01-31\n",
      "2018-02-01\n",
      "2018-02-02\n",
      "2018-02-05\n",
      "2018-02-06\n",
      "2018-02-07\n",
      "2018-02-08\n",
      "2018-02-09\n",
      "2018-02-12\n",
      "2018-02-13\n",
      "2018-02-14\n",
      "2018-02-22\n",
      "2018-02-23\n",
      "2018-02-26\n",
      "2018-02-27\n",
      "2018-02-28\n",
      "2018-03-01\n",
      "2018-03-02\n",
      "2018-03-05\n",
      "2018-03-06\n",
      "2018-03-07\n",
      "2018-03-08\n",
      "2018-03-09\n",
      "2018-03-12\n",
      "2018-03-13\n",
      "2018-03-14\n",
      "2018-03-15\n",
      "2018-03-16\n",
      "2018-03-19\n",
      "2018-03-20\n",
      "2018-03-21\n",
      "2018-03-22\n",
      "2018-03-23\n",
      "2018-03-26\n",
      "2018-03-27\n",
      "2018-03-28\n",
      "2018-03-29\n",
      "2018-03-30\n",
      "2018-04-02\n",
      "2018-04-03\n",
      "2018-04-04\n",
      "2018-04-09\n",
      "2018-04-10\n",
      "2018-04-11\n",
      "2018-04-12\n",
      "2018-04-13\n",
      "2018-04-16\n",
      "2018-04-17\n",
      "2018-04-18\n",
      "2018-04-19\n",
      "2018-04-20\n",
      "2018-04-23\n",
      "2018-04-24\n",
      "2018-04-25\n",
      "2018-04-26\n",
      "2018-04-27\n",
      "2018-05-02\n",
      "2018-05-03\n",
      "2018-05-04\n",
      "2018-05-07\n",
      "2018-05-08\n",
      "2018-05-09\n",
      "2018-05-10\n",
      "2018-05-11\n",
      "2018-05-14\n",
      "2018-05-15\n",
      "2018-05-16\n",
      "2018-05-17\n",
      "2018-05-18\n",
      "2018-05-21\n",
      "2018-05-22\n",
      "2018-05-23\n",
      "2018-05-24\n",
      "2018-05-25\n",
      "2018-05-28\n",
      "2018-05-29\n",
      "2018-05-30\n",
      "2018-05-31\n",
      "2018-06-01\n",
      "2018-06-04\n",
      "2018-06-05\n",
      "2018-06-06\n",
      "2018-06-07\n",
      "2018-06-08\n",
      "2018-06-11\n",
      "2018-06-12\n",
      "2018-06-13\n",
      "2018-06-14\n",
      "2018-06-15\n",
      "2018-06-19\n",
      "2018-06-20\n"
     ]
    }
   ],
   "source": [
    "for i in temp4:\n",
    "    print(i)"
   ]
  }
 ],
 "metadata": {
  "kernelspec": {
   "display_name": "Python 3",
   "language": "python",
   "name": "python3"
  },
  "language_info": {
   "codemirror_mode": {
    "name": "ipython",
    "version": 3
   },
   "file_extension": ".py",
   "mimetype": "text/x-python",
   "name": "python",
   "nbconvert_exporter": "python",
   "pygments_lexer": "ipython3",
   "version": "3.6.1"
  }
 },
 "nbformat": 4,
 "nbformat_minor": 2
}
