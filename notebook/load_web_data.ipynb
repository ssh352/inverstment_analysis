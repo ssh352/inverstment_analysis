{
 "cells": [
  {
   "cell_type": "code",
   "execution_count": 19,
   "metadata": {},
   "outputs": [],
   "source": [
    "from urllib.request import urlopen\n",
    "from bs4 import BeautifulSoup\n",
    "import pandas as pd"
   ]
  },
  {
   "cell_type": "code",
   "execution_count": 148,
   "metadata": {
    "collapsed": true
   },
   "outputs": [],
   "source": [
    "with open('d:\\__ HKEX __ HKEXnews __.html','r',encoding=\"utf-8\") as f:\n",
    "    html_txt = f.read()"
   ]
  },
  {
   "cell_type": "code",
   "execution_count": 9,
   "metadata": {},
   "outputs": [],
   "source": [
    "soup = BeautifulSoup(html_txt,'html.parser')"
   ]
  },
  {
   "cell_type": "code",
   "execution_count": 25,
   "metadata": {},
   "outputs": [
    {
     "name": "stdout",
     "output_type": "stream",
     "text": [
      "{'last_date': '13/06/2018', 'stock_code': '91888', 'stock_name': '中國國旅'}\n"
     ]
    }
   ],
   "source": [
    "temp_html = soup.find(\"table\",{\"id\":\"Table5\"})\n",
    "temp_html = temp_html.find_all('td',{\"class\":\"arial12black\"})\n",
    "\n",
    "first_dict = {}\n",
    "first_dict['last_date'] = temp_html[1].get_text().strip()\n",
    "first_dict['stock_code'] = temp_html[3].get_text().strip()\n",
    "first_dict['stock_name'] = temp_html[5].get_text().strip()\n",
    "\n",
    "print(first_dict)"
   ]
  },
  {
   "cell_type": "code",
   "execution_count": 26,
   "metadata": {},
   "outputs": [
    {
     "name": "stdout",
     "output_type": "stream",
     "text": [
      "{'hold_volumn': '215,446,668', 'people_number': '52', 'hold_precent': '11.03%', 'all_volumn': '1,952,475,544'}\n"
     ]
    }
   ],
   "source": [
    "temp_html = soup.find(\"div\",{\"id\":{\"pnlResultSummary\"}})\n",
    "temp_html = temp_html.find_all(\"span\",{\"class\":\"mobilezoom\"})\n",
    "\n",
    "second_dict = {}\n",
    "second_dict['hold_volumn'] = temp_html[0].get_text().strip()\n",
    "second_dict['people_number'] = temp_html[1].get_text().strip()\n",
    "second_dict['hold_precent'] = temp_html[2].get_text().strip()\n",
    "second_dict['all_volumn'] = temp_html[6].get_text().strip()\n",
    "print(second_dict)"
   ]
  },
  {
   "cell_type": "code",
   "execution_count": 22,
   "metadata": {},
   "outputs": [],
   "source": [
    "temp_html = soup.find(\"table\",{\"id\":{\"participantShareholdingList\"}})\n",
    "temp_html = temp_html.find_all('tr')\n",
    "\n",
    "row_number = len(temp_html)\n",
    "col_number = len(temp_html[0].find_all('td'))\n",
    "\n",
    "d = {}\n",
    "for i in range(col_number):\n",
    "    d[i] = []\n",
    "\n",
    "for i in range(1,row_number):\n",
    "    temp_tr = temp_html[i]\n",
    "    temp_td = temp_tr.find_all('td')\n",
    "    \n",
    "    if len(temp_td) != col_number:\n",
    "        continue\n",
    "        \n",
    "    for j in range(col_number):\n",
    "        temp_string = temp_td[j].get_text().strip()\n",
    "        d[j].append(temp_string)\n",
    "\n",
    "last_pd = pd.DataFrame(d)\n",
    "    \n",
    "last_dict = {}\n",
    "for i in range(len(last_pd)):\n",
    "    last_dict[last_pd.iat[i,0]] = last_pd.iat[i,1]\n",
    "\n",
    "new_pd = pd.DataFrame(last_pd[3])\n",
    "new_pd = new_pd.T\n",
    "new_pd.columns = last_pd[0]"
   ]
  },
  {
   "cell_type": "code",
   "execution_count": 24,
   "metadata": {},
   "outputs": [
    {
     "data": {
      "text/html": [
       "<div>\n",
       "<style>\n",
       "    .dataframe thead tr:only-child th {\n",
       "        text-align: right;\n",
       "    }\n",
       "\n",
       "    .dataframe thead th {\n",
       "        text-align: left;\n",
       "    }\n",
       "\n",
       "    .dataframe tbody tr th {\n",
       "        vertical-align: top;\n",
       "    }\n",
       "</style>\n",
       "<table border=\"1\" class=\"dataframe\">\n",
       "  <thead>\n",
       "    <tr style=\"text-align: right;\">\n",
       "      <th></th>\n",
       "      <th>C00019</th>\n",
       "      <th>C00039</th>\n",
       "      <th>C00010</th>\n",
       "      <th>C00100</th>\n",
       "      <th>B01161</th>\n",
       "      <th>B01110</th>\n",
       "      <th>C00093</th>\n",
       "      <th>B01565</th>\n",
       "      <th>B01654</th>\n",
       "      <th>B01491</th>\n",
       "      <th>...</th>\n",
       "      <th>B01372</th>\n",
       "      <th>B01971</th>\n",
       "      <th>B01695</th>\n",
       "      <th>B01825</th>\n",
       "      <th>C00036</th>\n",
       "      <th>B01947</th>\n",
       "      <th>B01353</th>\n",
       "      <th>C00042</th>\n",
       "      <th>B01818</th>\n",
       "      <th>B01967</th>\n",
       "    </tr>\n",
       "  </thead>\n",
       "  <tbody>\n",
       "    <tr>\n",
       "      <th>3</th>\n",
       "      <td>57,653,019</td>\n",
       "      <td>36,854,187</td>\n",
       "      <td>28,569,841</td>\n",
       "      <td>26,046,799</td>\n",
       "      <td>12,900,300</td>\n",
       "      <td>10,594,931</td>\n",
       "      <td>9,752,274</td>\n",
       "      <td>8,684,492</td>\n",
       "      <td>6,362,971</td>\n",
       "      <td>5,401,751</td>\n",
       "      <td>...</td>\n",
       "      <td>5,000</td>\n",
       "      <td>3,200</td>\n",
       "      <td>2,000</td>\n",
       "      <td>2,000</td>\n",
       "      <td>1,800</td>\n",
       "      <td>1,700</td>\n",
       "      <td>1,100</td>\n",
       "      <td>1,000</td>\n",
       "      <td>400</td>\n",
       "      <td>100</td>\n",
       "    </tr>\n",
       "  </tbody>\n",
       "</table>\n",
       "<p>1 rows × 52 columns</p>\n",
       "</div>"
      ],
      "text/plain": [
       "0      C00019      C00039      C00010      C00100      B01161      B01110  \\\n",
       "3  57,653,019  36,854,187  28,569,841  26,046,799  12,900,300  10,594,931   \n",
       "\n",
       "0     C00093     B01565     B01654     B01491  ...   B01372 B01971 B01695  \\\n",
       "3  9,752,274  8,684,492  6,362,971  5,401,751  ...    5,000  3,200  2,000   \n",
       "\n",
       "0 B01825 C00036 B01947 B01353 C00042 B01818 B01967  \n",
       "3  2,000  1,800  1,700  1,100  1,000    400    100  \n",
       "\n",
       "[1 rows x 52 columns]"
      ]
     },
     "execution_count": 24,
     "metadata": {},
     "output_type": "execute_result"
    }
   ],
   "source": [
    "new_pd"
   ]
  },
  {
   "cell_type": "code",
   "execution_count": 81,
   "metadata": {},
   "outputs": [],
   "source": [
    "new_pd.index = {first_dict['last_date']}"
   ]
  },
  {
   "cell_type": "code",
   "execution_count": 84,
   "metadata": {
    "collapsed": true
   },
   "outputs": [],
   "source": [
    "merge_pd = new_pd"
   ]
  },
  {
   "cell_type": "code",
   "execution_count": null,
   "metadata": {
    "collapsed": true
   },
   "outputs": [],
   "source": [
    "merge_pd = pd.concat([old_pd,new_pd])\n",
    "name_dict.update(last_dict)\n",
    "\n",
    "store['name_dict'] = name_dict\n",
    "store['old_pd'] = merge_pd\n"
   ]
  },
  {
   "cell_type": "code",
   "execution_count": 28,
   "metadata": {
    "collapsed": true
   },
   "outputs": [],
   "source": [
    "import openpyxl as oxl"
   ]
  },
  {
   "cell_type": "code",
   "execution_count": 37,
   "metadata": {
    "collapsed": true
   },
   "outputs": [],
   "source": [
    "wb = oxl.Workbook()"
   ]
  },
  {
   "cell_type": "code",
   "execution_count": 38,
   "metadata": {
    "collapsed": true
   },
   "outputs": [],
   "source": [
    "ws = wb.create_sheet(index=0,title='oxl-sheet')"
   ]
  },
  {
   "cell_type": "code",
   "execution_count": 39,
   "metadata": {},
   "outputs": [],
   "source": [
    "ws.cell(row=1,column=1).value = '持股日期'\n",
    "ws.cell(row=1,column=2).value = first_dict['last_date']\n",
    "\n",
    "ws.cell(row=1,column=3).value = '股票代码'\n",
    "ws.cell(row=1,column=4).value = first_dict['stock_code']\n",
    "\n",
    "ws.cell(row=1,column=5).value = '股票名称'\n",
    "ws.cell(row=1,column=6).value = first_dict['stock_name']"
   ]
  },
  {
   "cell_type": "code",
   "execution_count": 43,
   "metadata": {
    "collapsed": true
   },
   "outputs": [],
   "source": [
    "ws.cell(row=3,column=1).value = '中央结算系统持股量'\n",
    "ws.cell(row=4,column=1).value = second_dict['hold_volumn']\n",
    "\n",
    "ws.cell(row=3,column=2).value = '参与者数目'\n",
    "ws.cell(row=4,column=2).value = second_dict['people_number']\n",
    "\n",
    "ws.cell(row=3,column=3).value = '总数百分比'\n",
    "ws.cell(row=4,column=3).value = second_dict['hold_precent']\n",
    "\n",
    "ws.cell(row=3,column=4).value = '全部持股量'\n",
    "ws.cell(row=4,column=4).value = second_dict['all_volumn']"
   ]
  },
  {
   "cell_type": "code",
   "execution_count": 54,
   "metadata": {},
   "outputs": [],
   "source": [
    "columns = merge_pd.columns\n",
    "columns_name = []\n",
    "\n",
    "for i in range(len(columns)):\n",
    "    columns_name.append(last_dict[columns[i]])"
   ]
  },
  {
   "cell_type": "code",
   "execution_count": 66,
   "metadata": {},
   "outputs": [],
   "source": [
    "for i in range(len(columns)):\n",
    "    ws.cell(row=7,column=i+3).value = columns_name[i]"
   ]
  },
  {
   "cell_type": "code",
   "execution_count": 67,
   "metadata": {
    "collapsed": true
   },
   "outputs": [],
   "source": [
    "ws.cell(row=8,column=1).value = '日期'\n",
    "ws.cell(row=8,column=2).value = '收盘价'"
   ]
  },
  {
   "cell_type": "code",
   "execution_count": 87,
   "metadata": {},
   "outputs": [],
   "source": [
    "index = merge_pd.index"
   ]
  },
  {
   "cell_type": "code",
   "execution_count": 62,
   "metadata": {
    "collapsed": true
   },
   "outputs": [],
   "source": [
    "row_number = len(index)\n",
    "col_number = len(columns)"
   ]
  },
  {
   "cell_type": "code",
   "execution_count": 145,
   "metadata": {},
   "outputs": [],
   "source": [
    "for i in range(row_number):\n",
    "    ws.cell(row=i+9,column=1).value = index[i]\n",
    "    ws.cell(row=i+9,column=2).value = close_data[index[i]]"
   ]
  },
  {
   "cell_type": "code",
   "execution_count": 65,
   "metadata": {
    "collapsed": true
   },
   "outputs": [],
   "source": [
    "for i in range(col_number):\n",
    "    ws.cell(row=8,column=i+3).value = columns[i]"
   ]
  },
  {
   "cell_type": "code",
   "execution_count": 78,
   "metadata": {
    "collapsed": true
   },
   "outputs": [],
   "source": [
    "for i in range(row_number):\n",
    "    for j in range(col_number):\n",
    "        ws.cell(row=9+i,column=j+3).value = merge_pd.iat[i,j]"
   ]
  },
  {
   "cell_type": "code",
   "execution_count": 71,
   "metadata": {
    "collapsed": true
   },
   "outputs": [],
   "source": [
    "import tushare as ts"
   ]
  },
  {
   "cell_type": "code",
   "execution_count": 144,
   "metadata": {},
   "outputs": [],
   "source": [
    "close_data = OrderedDict()\n",
    "for i in range(row_number):\n",
    "    temp_s = index[i]\n",
    "    temp_str = datetime.datetime.strptime(temp_s,'%d/%m/%Y').date().isoformat()\n",
    "    \n",
    "    if not temp_s in close_data:\n",
    "        temp_df = ts.get_k_data('601888',start=temp_str,end=temp_str,ktype='D')\n",
    "        if temp_df.empty:\n",
    "            close_data[temp_s] = list(close_data.values())[-1]\n",
    "        else:\n",
    "            close_data[temp_s] = temp_df.iat[-1,2]\n",
    "    "
   ]
  },
  {
   "cell_type": "code",
   "execution_count": null,
   "metadata": {
    "collapsed": true
   },
   "outputs": [],
   "source": [
    "for i in range(row_number):\n",
    "    ws.cell(row=i+9,column=2).value = close_data[i]"
   ]
  },
  {
   "cell_type": "code",
   "execution_count": 103,
   "metadata": {
    "collapsed": true
   },
   "outputs": [],
   "source": [
    "temp_str = index[i]"
   ]
  },
  {
   "cell_type": "code",
   "execution_count": 147,
   "metadata": {},
   "outputs": [],
   "source": [
    "from collections import OrderedDict"
   ]
  },
  {
   "cell_type": "code",
   "execution_count": 142,
   "metadata": {},
   "outputs": [
    {
     "data": {
      "text/plain": [
       "OrderedDict([('2018-06-13', 66.819999999999993)])"
      ]
     },
     "execution_count": 142,
     "metadata": {},
     "output_type": "execute_result"
    }
   ],
   "source": [
    "close_data"
   ]
  },
  {
   "cell_type": "code",
   "execution_count": 93,
   "metadata": {},
   "outputs": [],
   "source": [
    "import datetime"
   ]
  },
  {
   "cell_type": "code",
   "execution_count": 104,
   "metadata": {},
   "outputs": [],
   "source": [
    "temp_str = datetime.datetime.strptime(temp_str,'%d/%m/%Y').date().isoformat()"
   ]
  },
  {
   "cell_type": "code",
   "execution_count": 121,
   "metadata": {},
   "outputs": [],
   "source": [
    "temp_df = ts.get_k_data('601888',start=temp_str,end=temp_str,ktype='D')"
   ]
  },
  {
   "cell_type": "code",
   "execution_count": 128,
   "metadata": {},
   "outputs": [],
   "source": [
    "close_data[temp_str] = temp_df.iat[-1,2]"
   ]
  },
  {
   "cell_type": "code",
   "execution_count": 139,
   "metadata": {},
   "outputs": [
    {
     "data": {
      "text/plain": [
       "66.819999999999993"
      ]
     },
     "execution_count": 139,
     "metadata": {},
     "output_type": "execute_result"
    }
   ],
   "source": [
    "list(close_data.values())[-1]"
   ]
  },
  {
   "cell_type": "code",
   "execution_count": 109,
   "metadata": {},
   "outputs": [
    {
     "data": {
      "text/plain": [
       "66.819999999999993"
      ]
     },
     "execution_count": 109,
     "metadata": {},
     "output_type": "execute_result"
    }
   ],
   "source": [
    "temp_df.iat[-1,2]"
   ]
  },
  {
   "cell_type": "code",
   "execution_count": 146,
   "metadata": {},
   "outputs": [],
   "source": [
    "wb.save('test.xlsx')"
   ]
  }
 ],
 "metadata": {
  "kernelspec": {
   "display_name": "Python 3",
   "language": "python",
   "name": "python3"
  },
  "language_info": {
   "codemirror_mode": {
    "name": "ipython",
    "version": 3
   },
   "file_extension": ".py",
   "mimetype": "text/x-python",
   "name": "python",
   "nbconvert_exporter": "python",
   "pygments_lexer": "ipython3",
   "version": "3.6.1"
  }
 },
 "nbformat": 4,
 "nbformat_minor": 2
}
