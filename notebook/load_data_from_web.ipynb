{
 "cells": [
  {
   "cell_type": "code",
   "execution_count": 1,
   "metadata": {
    "collapsed": true
   },
   "outputs": [],
   "source": [
    "#!/usr/bin/env python\n",
    "# coding:utf-8\n",
    "\n",
    "\"\"\"\n",
    "function: \n",
    "@author: zkang kai\n",
    "@contact: 474918208@qq.com\n",
    "\"\"\"\n",
    "\n",
    "import requests\n",
    "import pandas as pd\n",
    "from bs4 import BeautifulSoup\n",
    "import tushare as ts\n",
    "import openpyxl as oxl\n",
    "import os\n",
    "from collections import OrderedDict\n",
    "import datetime\n",
    "import json\n",
    "import wx\n",
    "import wx.richtext as rt\n",
    "from selenium import webdriver\n",
    "from selenium.webdriver.common.by import By\n",
    "from selenium.webdriver.support.ui import WebDriverWait\n",
    "from selenium.webdriver.support import expected_conditions as EC\n",
    "from selenium.webdriver.support.ui import Select\n",
    "import matplotlib.pyplot as plt\n",
    "import numpy as np\n",
    "\n",
    "url = r\"http://www.hkexnews.hk/sdw/search/searchsdw_c.aspx\"\n",
    "\n",
    "def update(event):\n",
    "    '''\n",
    "    更新数据\n",
    "    '''\n",
    "    name_dict = config_dict.get('name_dict',{})\n",
    "    first_all_data = config_dict['first_all_data']\n",
    "    first_all_data = pd.read_json(first_all_data)\n",
    "    second_all_data = config_dict['second_all_data']\n",
    "    second_all_data = pd.read_json(second_all_data)\n",
    "\n",
    "    begin_date = ui_begin_date.GetValue()\n",
    "    end_date = ui_end_date.GetValue()\n",
    "\n",
    "    if len(begin_date) != 8 and len(end_date) != 8:\n",
    "        contents.SetValue(\"日期格式不对,请参照:20180101填写\")\n",
    "        return None\n",
    "\n",
    "    begin_date = begin_date[0:4] + '-' + begin_date[4:6] + '-' + begin_date[6:8]\n",
    "    end_date = end_date[0:4] + '-' + end_date[4:6] + '-' + end_date[6:8]\n",
    "\n",
    "    already_begin_date = config_dict.get('already_begin_date',begin_date)\n",
    "    already_end_date = config_dict.get('already_end_date',end_date)\n",
    "\n",
    "    trade_cal = config_dict['trade_cal']\n",
    "    trade_cal = pd.read_json(trade_cal)\n",
    "    trade_cal = trade_cal.sort_index()\n",
    "    trade_cal = trade_cal[trade_cal['calendarDate'] >= begin_date]\n",
    "    trade_cal = trade_cal[trade_cal['calendarDate'] <= end_date]\n",
    "    trade_cal = trade_cal[trade_cal['isOpen'] == 1]\n",
    "    trade_cal = trade_cal['calendarDate']\n",
    "\n",
    "    browser = webdriver.Chrome()\n",
    "    browser.get(url)\n",
    "\n",
    "    for temp_time in trade_cal:\n",
    "\n",
    "        if temp_time in config_dict:\n",
    "            continue\n",
    "    \n",
    "        select = Select(browser.find_element_by_name('ddlShareholdingMonth'))\n",
    "        select.select_by_value(temp_time[5:7])\n",
    "\n",
    "        select = Select(browser.find_element_by_name('ddlShareholdingDay'))\n",
    "        select.select_by_value(temp_time[8:10])\n",
    "\n",
    "        select = Select(browser.find_element_by_name('ddlShareholdingYear'))\n",
    "        select.select_by_value(temp_time[0:4])\n",
    "\n",
    "        element = browser.find_element_by_id(\"txtStockCode\")\n",
    "        element.send_keys(\"91888\")\n",
    "\n",
    "        browser.find_element_by_id(\"btnSearch\").click()\n",
    "\n",
    "        html_txt = browser.page_source\n",
    "\n",
    "        soup = BeautifulSoup(html_txt,'html.parser')\n",
    "\n",
    "        first_part = get_first_part(soup,temp_time)\n",
    "        second_part = get_second_part(soup,temp_time)\n",
    "        first_all_data = first_part.append(first_all_data) \n",
    "        second_all_data = second_part.append(second_all_data) \n",
    "\n",
    "        config_dict[temp_time] = [first_part.to_json(),second_part.to_json()] \n",
    "        browser.back() \n",
    "\n",
    "    \n",
    "    browser.close()\n",
    "    first_all_data = first_all_data.sort_index(ascending=False)\n",
    "    second_all_data = second_all_data.sort_index(ascending=False)\n",
    "    second_all_data = second_all_data.fillna(0)\n",
    "\n",
    "    already_begin_date = first_all_data.index[-1].date().isoformat()\n",
    "    already_end_date = first_all_data.index[0].date().isoformat()\n",
    "    close_data = ts.get_k_data('601888',start=already_begin_date,end=already_end_date)\n",
    "\n",
    "    config_dict['name_dict'] = name_dict\n",
    "    config_dict['close_data'] = close_data.to_json()\n",
    "    config_dict['already_begin_date'] = already_begin_date \n",
    "    config_dict['already_end_date'] = already_end_date\n",
    "    config_dict['first_all_data'] = first_all_data.to_json()\n",
    "    config_dict['second_all_data'] = second_all_data.to_json()\n",
    "\n",
    "    with open('config.json','w',encoding='utf-8') as f:\n",
    "        json.dump(config_dict,f)\n",
    "\n",
    "    contents.SetValue('更新数据区间为:%s至%s!' % (already_begin_date,already_end_date))\n",
    "\n",
    "def load_from_local():\n",
    "    \n",
    "    with open('__ HKEX __ HKEXnews __.html','r',encoding=\"utf-8\") as f:\n",
    "        return f.read()\n",
    "\n",
    "def get_first_part(soup,temp_time):\n",
    "\n",
    "    temp_html = soup.find(\"table\",{\"id\":\"Table5\"})\n",
    "    temp_html = temp_html.find_all('td',{\"class\":\"arial12black\"})\n",
    "\n",
    "    first_dict = {}\n",
    "    temp_string = temp_html[1].get_text().strip()\n",
    "    temp_string = datetime.datetime.strptime(temp_string,\"%d/%m/%Y\")\n",
    "    temp_string = temp_string.strftime(\"%Y-%m-%d\")\n",
    "    #  first_dict['last_date'] = temp_string\n",
    "    first_dict['stock_code'] = temp_html[3].get_text().strip()\n",
    "    first_dict['stock_name'] = temp_html[5].get_text().strip()\n",
    "\n",
    "    temp_html = soup.find(\"div\",{\"id\":{\"pnlResultSummary\"}})\n",
    "    temp_html = temp_html.find_all(\"span\",{\"class\":\"mobilezoom\"})\n",
    "\n",
    "    first_dict = {}\n",
    "    first_dict['hold_volumn'] = temp_html[0].get_text().strip()\n",
    "    first_dict['people_number'] = temp_html[1].get_text().strip()\n",
    "    first_dict['hold_precent'] = temp_html[2].get_text().strip()\n",
    "    first_dict['all_volumn'] = temp_html[6].get_text().strip()\n",
    "\n",
    "    return pd.DataFrame(first_dict,index=[pd.Timestamp(temp_time)])\n",
    "\n",
    "def get_second_part(soup,temp_time):\n",
    "\n",
    "    name_dict = config_dict.get('name_dict',{})\n",
    "    temp_html = soup.find(\"table\",{\"id\":{\"participantShareholdingList\"}})\n",
    "    temp_html = temp_html.find_all('tr')\n",
    "\n",
    "    row_number = len(temp_html)\n",
    "    col_number = len(temp_html[0].find_all('td'))\n",
    "\n",
    "    d = {}\n",
    "    for i in range(col_number):\n",
    "        d[i] = []\n",
    "\n",
    "    for i in range(1,row_number):\n",
    "        temp_tr = temp_html[i]\n",
    "        temp_td = temp_tr.find_all('td')\n",
    "    \n",
    "        if len(temp_td) !=col_number:\n",
    "            continue\n",
    "        \n",
    "        for j in range(col_number):\n",
    "            temp_string = temp_td[j].get_text().strip()\n",
    "            d[j].append(temp_string)\n",
    "\n",
    "    last_pd = pd.DataFrame(d)\n",
    "    \n",
    "    last_dict = {}\n",
    "    for i in range(len(last_pd)):\n",
    "        last_dict[last_pd.iat[i,0]] = last_pd.iat[i,1]\n",
    "\n",
    "    name_dict.update(last_dict)\n",
    "\n",
    "    new_pd = pd.DataFrame(last_pd[3])\n",
    "    new_pd = new_pd.T\n",
    "    new_pd.columns = last_pd[0]\n",
    "    new_pd.index = [pd.Timestamp(temp_time)]\n",
    "\n",
    "    return new_pd\n",
    "\n",
    "def write_to_excel(event):\n",
    "    '''\n",
    "    把数据写入excle中\n",
    "    '''\n",
    "    name_dict = config_dict.get('name_dict',{})\n",
    "    first_all_data = config_dict['first_all_data']\n",
    "    first_all_data = pd.read_json(first_all_data)\n",
    "    \n",
    "    second_all_data = config_dict['second_all_data']\n",
    "    second_all_data = pd.read_json(second_all_data)\n",
    "\n",
    "    close_data = config_dict['close_data']\n",
    "    close_data = pd.read_json(close_data)\n",
    "    close_data = close_data['close']\n",
    "\n",
    "    hold_volumn = first_all_data['hold_volumn']\n",
    "    people_number = first_all_data['people_number']\n",
    "    hold_precent = first_all_data['hold_precent']\n",
    "    all_volumn = first_all_data['all_volumn']\n",
    "\n",
    "    first_all_data = first_all_data.sort_index(ascending=False)\n",
    "    second_all_data = second_all_data.sort_index(ascending=False)\n",
    "    close_data = close_data.sort_index(ascending=False)\n",
    "\n",
    "    wb = oxl.Workbook()\n",
    "    ws = wb.create_sheet(index=0,title='oxl-sheet')\n",
    "\n",
    "    columns = second_all_data.columns\n",
    "    index = first_all_data.index\n",
    "    row_number = len(index)\n",
    "    col_number = len(columns)\n",
    "    \n",
    "    ws.cell(row=2,column=1).value = '日期'\n",
    "    ws.cell(row=2,column=2).value = '收盘价'\n",
    "    #  ws.cell(row=2,column=3).value = '股票代码'\n",
    "    #  ws.cell(row=2,column=4).value = '股票名称'\n",
    "    ws.cell(row=2,column=3).value = '中央结算系统持股量'\n",
    "    ws.cell(row=2,column=4).value = '参与者数目'\n",
    "    ws.cell(row=2,column=5).value = '总数百分比'\n",
    "    ws.cell(row=2,column=6).value = '全部持股量'\n",
    "    \n",
    "    for i in range(row_number):\n",
    "        ws.cell(row=i+3,column=1).value = index[i].date().isoformat()\n",
    "        ws.cell(row=i+3,column=2).value = close_data.iat[i]\n",
    "        ws.cell(row=i+3,column=3).value = hold_volumn.iat[i]\n",
    "        ws.cell(row=i+3,column=4).value = people_number.iat[i]\n",
    "        ws.cell(row=i+3,column=5).value = hold_precent.iat[i]\n",
    "        ws.cell(row=i+3,column=6).value = all_volumn.iat[i]\n",
    "\n",
    "    for i in range(col_number):\n",
    "        ws.cell(row=2,column=i+7).value = columns[i]\n",
    "        ws.cell(row=1,column=i+7).value = name_dict[columns[i]] \n",
    "\n",
    "    for i in range(row_number):\n",
    "        for j in range(col_number):\n",
    "            ws.cell(row=3+i,column=j+7).value = second_all_data.iat[i,j]\n",
    "\n",
    "    wb.save('test.xlsx')\n",
    "    contents.SetValue(r\"数据已写入excel中!\")\n",
    "\n",
    "def get_close_data():\n",
    "    '''\n",
    "    获取收盘价数据\n",
    "    '''\n",
    "\n",
    "    close_data = config_dict['close_data']\n",
    "    close_data = pd.read_json(close_data)\n",
    "    close_data.index = close_data['date']\n",
    "    #  close_data = close_data.sort_index()\n",
    "    return close_data['close']\n",
    "\n",
    "def get_second_all_data():\n",
    "    '''\n",
    "    获取第二部分数据\n",
    "    '''\n",
    "    second_all_data = config_dict['second_all_data']\n",
    "    second_all_data = pd.read_json(second_all_data)\n",
    "    #  second_all_data = second_all_data.sort_index()\n",
    "    \n",
    "    return second_all_data\n",
    "\n",
    "def get_first_all_data():\n",
    "    '''\n",
    "    获取第一部分数据\n",
    "    '''\n",
    "\n",
    "    first_all_data = config_dict['first_all_data']\n",
    "    first_all_data = pd.read_json(first_all_data)\n",
    "    #  first_all_data = first_all_data.sort_index()\n",
    "    return first_all_data\n",
    "\n",
    "\n",
    "def plot_10(event):\n",
    "    '''\n",
    "    画前10大持仓股的曲线图\n",
    "    '''\n",
    "    close_data = get_close_data()\n",
    "    second_all_data = get_second_all_data()\n",
    "\n",
    "    for i in range(len(second_all_data.columns)):\n",
    "        if np.issubdtype(second_all_data.iloc[:,i],np.object_):\n",
    "            second_all_data.iloc[:,i] = pd.to_numeric(second_all_data.iloc[:,i].str.replace(',', ''))\n",
    "\n",
    "    close_data = close_data.sort_index()\n",
    "    second_all_data = second_all_data.sort_index()\n",
    "    second_all_data = second_all_data.sort_values(second_all_data.index[-1],axis=1,ascending=False)\n",
    "\n",
    "    for i in range(10):\n",
    "        temp_col = second_all_data.iloc[:,i]\n",
    "        fig, ax1 = plt.subplots()\n",
    "        #plt.plot(l2,lw=1.5, label='close')\n",
    "        temp_col.plot(lw=1.5,label='volumn')\n",
    "        plt.grid(True)\n",
    "        plt.legend(loc=2)\n",
    "        plt.axis('tight')\n",
    "        plt.xlabel('index')\n",
    "        plt.ylabel('volumn')\n",
    "\n",
    "        ax2 = ax1.twinx()\n",
    "        plt.plot(close_data, 'g',lw=1.5, label='close')\n",
    "        plt.legend(loc=1)\n",
    "        plt.ylabel('close')\n",
    "        plt.title(temp_col.name)\n",
    "        plt.savefig(str(i)+'.png')\n",
    "    \n",
    "    contents.SetValue(r\"画图成功!\")\n",
    "\n",
    "def init():\n",
    "    '''\n",
    "    初始化数据变量\n",
    "    '''\n",
    "    if os.path.exists('config.json'):\n",
    "        with open('config.json','r',encoding='utf-8') as f:\n",
    "            config_dict = json.load(f)\n",
    "            contents.SetValue(r\"当前数据区间为:%s至%s\" % (config_dict['already_begin_date'],config_dict['already_end_date']))\n",
    "            ui_begin_date.SetValue(config_dict['already_begin_date'])\n",
    "            ui_end_date.SetValue(config_dict['already_end_date'])\n",
    "    else:\n",
    "        config_dict = {}\n",
    "        config_dict['trade_cal'] = ts.trade_cal().to_json()\n",
    "        config_dict['name_dict'] = {}\n",
    "        first_all_data = pd.DataFrame()\n",
    "        config_dict['first_all_data'] = first_all_data.to_json()\n",
    "        second_all_data = pd.DataFrame()\n",
    "        config_dict['second_all_data'] = second_all_data.to_json()\n",
    "        contents.SetValue(r\"当前未拥有任何数据\")\n",
    "\n",
    "    return config_dict\n"
   ]
  },
  {
   "cell_type": "code",
   "execution_count": null,
   "metadata": {
    "collapsed": true
   },
   "outputs": [],
   "source": [
    "if __name__ == '__main__':\n",
    "\n",
    "    app = wx.App()\n",
    "\n",
    "    win = wx.Frame(None,title=\"simple editor\",size=(430,200))\n",
    "\n",
    "    begin_button = wx.Button(win,label='更新数据',pos=(160,10),size=(60,45))\n",
    "    begin_button.Bind(wx.EVT_BUTTON,update)\n",
    "    save_button = wx.Button(win,label='写入excle',pos=(240,10),size=(60,45))\n",
    "    save_button.Bind(wx.EVT_BUTTON,write_to_excel)\n",
    "    plot_button = wx.Button(win,label='画图',pos=(320,10),size=(60,45))\n",
    "    plot_button.Bind(wx.EVT_BUTTON,plot_10)\n",
    "\n",
    "    ui_label1 = wx.StaticText(win, label = \"起始日期\", pos = (5,5)) \n",
    "    ui_label2 = wx.StaticText(win, label = \"终止日期\", pos = (5,35)) \n",
    "\n",
    "    ui_begin_date = wx.TextCtrl(win,pos=(60,5),size=(90,25))\n",
    "    ui_end_date = wx.TextCtrl(win,pos=(60,35),size=(90,25))\n",
    "\n",
    "    contents = wx.TextCtrl(win,pos=(5,70),size=(390,80),style=rt.RE_READONLY)\n",
    "    config_dict = init()\n",
    "\n",
    "    win.Show()\n",
    "    app.MainLoop()"
   ]
  },
  {
   "cell_type": "code",
   "execution_count": 19,
   "metadata": {},
   "outputs": [],
   "source": [
    "with open('../web/config.json','r',encoding='utf-8') as f:\n",
    "        config_dict = json.load(f)"
   ]
  },
  {
   "cell_type": "code",
   "execution_count": 12,
   "metadata": {
    "collapsed": true
   },
   "outputs": [],
   "source": [
    "today_date = datetime.date.today()"
   ]
  },
  {
   "cell_type": "code",
   "execution_count": 13,
   "metadata": {
    "collapsed": true
   },
   "outputs": [],
   "source": [
    "min_date = datetime.date(today_date.year-1,today_date.month,today_date.day)"
   ]
  },
  {
   "cell_type": "code",
   "execution_count": 14,
   "metadata": {
    "collapsed": true
   },
   "outputs": [],
   "source": [
    "max_date = today_date - datetime.timedelta(1)"
   ]
  },
  {
   "cell_type": "code",
   "execution_count": null,
   "metadata": {
    "collapsed": true
   },
   "outputs": [],
   "source": [
    "    trade_cal = config_dict['trade_cal']\n",
    "    trade_cal = pd.read_json(trade_cal)\n",
    "    trade_cal = trade_cal.sort_index()\n",
    "    trade_cal = trade_cal[trade_cal['calendarDate'] >= begin_date]\n",
    "    trade_cal = trade_cal[trade_cal['calendarDate'] <= end_date]\n",
    "    trade_cal = trade_cal[trade_cal['isOpen'] == 1]\n",
    "    trade_cal = trade_cal['calendarDate']"
   ]
  },
  {
   "cell_type": "code",
   "execution_count": 27,
   "metadata": {},
   "outputs": [
    {
     "data": {
      "text/plain": [
       "datetime.datetime(2018, 6, 22, 0, 0)"
      ]
     },
     "execution_count": 27,
     "metadata": {},
     "output_type": "execute_result"
    }
   ],
   "source": [
    "datetime.datetime.strptime('2018-06-22','%Y-%m-%d')"
   ]
  },
  {
   "cell_type": "code",
   "execution_count": 25,
   "metadata": {},
   "outputs": [
    {
     "data": {
      "text/plain": [
       "0       1990-12-19\n",
       "1       1990-12-20\n",
       "2       1990-12-21\n",
       "3       1990-12-22\n",
       "4       1990-12-23\n",
       "5       1990-12-24\n",
       "6       1990-12-25\n",
       "7       1990-12-26\n",
       "8       1990-12-27\n",
       "9       1990-12-28\n",
       "10      1990-12-29\n",
       "11      1990-12-30\n",
       "12      1990-12-31\n",
       "13      1991-01-01\n",
       "14      1991-01-02\n",
       "15      1991-01-03\n",
       "16      1991-01-04\n",
       "17      1991-01-05\n",
       "18      1991-01-06\n",
       "19      1991-01-07\n",
       "20      1991-01-08\n",
       "21      1991-01-09\n",
       "22      1991-01-10\n",
       "23      1991-01-11\n",
       "24      1991-01-12\n",
       "25      1991-01-13\n",
       "26      1991-01-14\n",
       "27      1991-01-15\n",
       "28      1991-01-16\n",
       "29      1991-01-17\n",
       "           ...    \n",
       "10210   2018-12-02\n",
       "10211   2018-12-03\n",
       "10212   2018-12-04\n",
       "10213   2018-12-05\n",
       "10214   2018-12-06\n",
       "10215   2018-12-07\n",
       "10216   2018-12-08\n",
       "10217   2018-12-09\n",
       "10218   2018-12-10\n",
       "10219   2018-12-11\n",
       "10220   2018-12-12\n",
       "10221   2018-12-13\n",
       "10222   2018-12-14\n",
       "10223   2018-12-15\n",
       "10224   2018-12-16\n",
       "10225   2018-12-17\n",
       "10226   2018-12-18\n",
       "10227   2018-12-19\n",
       "10228   2018-12-20\n",
       "10229   2018-12-21\n",
       "10230   2018-12-22\n",
       "10231   2018-12-23\n",
       "10232   2018-12-24\n",
       "10233   2018-12-25\n",
       "10234   2018-12-26\n",
       "10235   2018-12-27\n",
       "10236   2018-12-28\n",
       "10237   2018-12-29\n",
       "10238   2018-12-30\n",
       "10239   2018-12-31\n",
       "Name: calendarDate, Length: 10240, dtype: datetime64[ns]"
      ]
     },
     "execution_count": 25,
     "metadata": {},
     "output_type": "execute_result"
    }
   ],
   "source": [
    "pd.to_datetime(trade_cal['calendarDate'])"
   ]
  },
  {
   "cell_type": "code",
   "execution_count": 23,
   "metadata": {},
   "outputs": [
    {
     "data": {
      "text/html": [
       "<div>\n",
       "<style>\n",
       "    .dataframe thead tr:only-child th {\n",
       "        text-align: right;\n",
       "    }\n",
       "\n",
       "    .dataframe thead th {\n",
       "        text-align: left;\n",
       "    }\n",
       "\n",
       "    .dataframe tbody tr th {\n",
       "        vertical-align: top;\n",
       "    }\n",
       "</style>\n",
       "<table border=\"1\" class=\"dataframe\">\n",
       "  <thead>\n",
       "    <tr style=\"text-align: right;\">\n",
       "      <th></th>\n",
       "      <th>calendarDate</th>\n",
       "      <th>isOpen</th>\n",
       "    </tr>\n",
       "  </thead>\n",
       "  <tbody>\n",
       "    <tr>\n",
       "      <th>0</th>\n",
       "      <td>1990-12-19</td>\n",
       "      <td>1</td>\n",
       "    </tr>\n",
       "    <tr>\n",
       "      <th>1</th>\n",
       "      <td>1990-12-20</td>\n",
       "      <td>1</td>\n",
       "    </tr>\n",
       "    <tr>\n",
       "      <th>2</th>\n",
       "      <td>1990-12-21</td>\n",
       "      <td>1</td>\n",
       "    </tr>\n",
       "    <tr>\n",
       "      <th>3</th>\n",
       "      <td>1990-12-22</td>\n",
       "      <td>0</td>\n",
       "    </tr>\n",
       "    <tr>\n",
       "      <th>4</th>\n",
       "      <td>1990-12-23</td>\n",
       "      <td>0</td>\n",
       "    </tr>\n",
       "    <tr>\n",
       "      <th>5</th>\n",
       "      <td>1990-12-24</td>\n",
       "      <td>1</td>\n",
       "    </tr>\n",
       "    <tr>\n",
       "      <th>6</th>\n",
       "      <td>1990-12-25</td>\n",
       "      <td>1</td>\n",
       "    </tr>\n",
       "    <tr>\n",
       "      <th>7</th>\n",
       "      <td>1990-12-26</td>\n",
       "      <td>1</td>\n",
       "    </tr>\n",
       "    <tr>\n",
       "      <th>8</th>\n",
       "      <td>1990-12-27</td>\n",
       "      <td>1</td>\n",
       "    </tr>\n",
       "    <tr>\n",
       "      <th>9</th>\n",
       "      <td>1990-12-28</td>\n",
       "      <td>1</td>\n",
       "    </tr>\n",
       "    <tr>\n",
       "      <th>10</th>\n",
       "      <td>1990-12-29</td>\n",
       "      <td>0</td>\n",
       "    </tr>\n",
       "    <tr>\n",
       "      <th>11</th>\n",
       "      <td>1990-12-30</td>\n",
       "      <td>0</td>\n",
       "    </tr>\n",
       "    <tr>\n",
       "      <th>12</th>\n",
       "      <td>1990-12-31</td>\n",
       "      <td>1</td>\n",
       "    </tr>\n",
       "    <tr>\n",
       "      <th>13</th>\n",
       "      <td>1991-01-01</td>\n",
       "      <td>0</td>\n",
       "    </tr>\n",
       "    <tr>\n",
       "      <th>14</th>\n",
       "      <td>1991-01-02</td>\n",
       "      <td>1</td>\n",
       "    </tr>\n",
       "    <tr>\n",
       "      <th>15</th>\n",
       "      <td>1991-01-03</td>\n",
       "      <td>1</td>\n",
       "    </tr>\n",
       "    <tr>\n",
       "      <th>16</th>\n",
       "      <td>1991-01-04</td>\n",
       "      <td>1</td>\n",
       "    </tr>\n",
       "    <tr>\n",
       "      <th>17</th>\n",
       "      <td>1991-01-05</td>\n",
       "      <td>0</td>\n",
       "    </tr>\n",
       "    <tr>\n",
       "      <th>18</th>\n",
       "      <td>1991-01-06</td>\n",
       "      <td>0</td>\n",
       "    </tr>\n",
       "    <tr>\n",
       "      <th>19</th>\n",
       "      <td>1991-01-07</td>\n",
       "      <td>1</td>\n",
       "    </tr>\n",
       "    <tr>\n",
       "      <th>20</th>\n",
       "      <td>1991-01-08</td>\n",
       "      <td>1</td>\n",
       "    </tr>\n",
       "    <tr>\n",
       "      <th>21</th>\n",
       "      <td>1991-01-09</td>\n",
       "      <td>1</td>\n",
       "    </tr>\n",
       "    <tr>\n",
       "      <th>22</th>\n",
       "      <td>1991-01-10</td>\n",
       "      <td>1</td>\n",
       "    </tr>\n",
       "    <tr>\n",
       "      <th>23</th>\n",
       "      <td>1991-01-11</td>\n",
       "      <td>1</td>\n",
       "    </tr>\n",
       "    <tr>\n",
       "      <th>24</th>\n",
       "      <td>1991-01-12</td>\n",
       "      <td>0</td>\n",
       "    </tr>\n",
       "    <tr>\n",
       "      <th>25</th>\n",
       "      <td>1991-01-13</td>\n",
       "      <td>0</td>\n",
       "    </tr>\n",
       "    <tr>\n",
       "      <th>26</th>\n",
       "      <td>1991-01-14</td>\n",
       "      <td>1</td>\n",
       "    </tr>\n",
       "    <tr>\n",
       "      <th>27</th>\n",
       "      <td>1991-01-15</td>\n",
       "      <td>1</td>\n",
       "    </tr>\n",
       "    <tr>\n",
       "      <th>28</th>\n",
       "      <td>1991-01-16</td>\n",
       "      <td>1</td>\n",
       "    </tr>\n",
       "    <tr>\n",
       "      <th>29</th>\n",
       "      <td>1991-01-17</td>\n",
       "      <td>1</td>\n",
       "    </tr>\n",
       "    <tr>\n",
       "      <th>...</th>\n",
       "      <td>...</td>\n",
       "      <td>...</td>\n",
       "    </tr>\n",
       "    <tr>\n",
       "      <th>10210</th>\n",
       "      <td>2018-12-02</td>\n",
       "      <td>0</td>\n",
       "    </tr>\n",
       "    <tr>\n",
       "      <th>10211</th>\n",
       "      <td>2018-12-03</td>\n",
       "      <td>1</td>\n",
       "    </tr>\n",
       "    <tr>\n",
       "      <th>10212</th>\n",
       "      <td>2018-12-04</td>\n",
       "      <td>1</td>\n",
       "    </tr>\n",
       "    <tr>\n",
       "      <th>10213</th>\n",
       "      <td>2018-12-05</td>\n",
       "      <td>1</td>\n",
       "    </tr>\n",
       "    <tr>\n",
       "      <th>10214</th>\n",
       "      <td>2018-12-06</td>\n",
       "      <td>1</td>\n",
       "    </tr>\n",
       "    <tr>\n",
       "      <th>10215</th>\n",
       "      <td>2018-12-07</td>\n",
       "      <td>1</td>\n",
       "    </tr>\n",
       "    <tr>\n",
       "      <th>10216</th>\n",
       "      <td>2018-12-08</td>\n",
       "      <td>0</td>\n",
       "    </tr>\n",
       "    <tr>\n",
       "      <th>10217</th>\n",
       "      <td>2018-12-09</td>\n",
       "      <td>0</td>\n",
       "    </tr>\n",
       "    <tr>\n",
       "      <th>10218</th>\n",
       "      <td>2018-12-10</td>\n",
       "      <td>1</td>\n",
       "    </tr>\n",
       "    <tr>\n",
       "      <th>10219</th>\n",
       "      <td>2018-12-11</td>\n",
       "      <td>1</td>\n",
       "    </tr>\n",
       "    <tr>\n",
       "      <th>10220</th>\n",
       "      <td>2018-12-12</td>\n",
       "      <td>1</td>\n",
       "    </tr>\n",
       "    <tr>\n",
       "      <th>10221</th>\n",
       "      <td>2018-12-13</td>\n",
       "      <td>1</td>\n",
       "    </tr>\n",
       "    <tr>\n",
       "      <th>10222</th>\n",
       "      <td>2018-12-14</td>\n",
       "      <td>1</td>\n",
       "    </tr>\n",
       "    <tr>\n",
       "      <th>10223</th>\n",
       "      <td>2018-12-15</td>\n",
       "      <td>0</td>\n",
       "    </tr>\n",
       "    <tr>\n",
       "      <th>10224</th>\n",
       "      <td>2018-12-16</td>\n",
       "      <td>0</td>\n",
       "    </tr>\n",
       "    <tr>\n",
       "      <th>10225</th>\n",
       "      <td>2018-12-17</td>\n",
       "      <td>1</td>\n",
       "    </tr>\n",
       "    <tr>\n",
       "      <th>10226</th>\n",
       "      <td>2018-12-18</td>\n",
       "      <td>1</td>\n",
       "    </tr>\n",
       "    <tr>\n",
       "      <th>10227</th>\n",
       "      <td>2018-12-19</td>\n",
       "      <td>1</td>\n",
       "    </tr>\n",
       "    <tr>\n",
       "      <th>10228</th>\n",
       "      <td>2018-12-20</td>\n",
       "      <td>1</td>\n",
       "    </tr>\n",
       "    <tr>\n",
       "      <th>10229</th>\n",
       "      <td>2018-12-21</td>\n",
       "      <td>1</td>\n",
       "    </tr>\n",
       "    <tr>\n",
       "      <th>10230</th>\n",
       "      <td>2018-12-22</td>\n",
       "      <td>0</td>\n",
       "    </tr>\n",
       "    <tr>\n",
       "      <th>10231</th>\n",
       "      <td>2018-12-23</td>\n",
       "      <td>0</td>\n",
       "    </tr>\n",
       "    <tr>\n",
       "      <th>10232</th>\n",
       "      <td>2018-12-24</td>\n",
       "      <td>1</td>\n",
       "    </tr>\n",
       "    <tr>\n",
       "      <th>10233</th>\n",
       "      <td>2018-12-25</td>\n",
       "      <td>1</td>\n",
       "    </tr>\n",
       "    <tr>\n",
       "      <th>10234</th>\n",
       "      <td>2018-12-26</td>\n",
       "      <td>1</td>\n",
       "    </tr>\n",
       "    <tr>\n",
       "      <th>10235</th>\n",
       "      <td>2018-12-27</td>\n",
       "      <td>1</td>\n",
       "    </tr>\n",
       "    <tr>\n",
       "      <th>10236</th>\n",
       "      <td>2018-12-28</td>\n",
       "      <td>1</td>\n",
       "    </tr>\n",
       "    <tr>\n",
       "      <th>10237</th>\n",
       "      <td>2018-12-29</td>\n",
       "      <td>0</td>\n",
       "    </tr>\n",
       "    <tr>\n",
       "      <th>10238</th>\n",
       "      <td>2018-12-30</td>\n",
       "      <td>0</td>\n",
       "    </tr>\n",
       "    <tr>\n",
       "      <th>10239</th>\n",
       "      <td>2018-12-31</td>\n",
       "      <td>1</td>\n",
       "    </tr>\n",
       "  </tbody>\n",
       "</table>\n",
       "<p>10240 rows × 2 columns</p>\n",
       "</div>"
      ],
      "text/plain": [
       "      calendarDate  isOpen\n",
       "0       1990-12-19       1\n",
       "1       1990-12-20       1\n",
       "2       1990-12-21       1\n",
       "3       1990-12-22       0\n",
       "4       1990-12-23       0\n",
       "5       1990-12-24       1\n",
       "6       1990-12-25       1\n",
       "7       1990-12-26       1\n",
       "8       1990-12-27       1\n",
       "9       1990-12-28       1\n",
       "10      1990-12-29       0\n",
       "11      1990-12-30       0\n",
       "12      1990-12-31       1\n",
       "13      1991-01-01       0\n",
       "14      1991-01-02       1\n",
       "15      1991-01-03       1\n",
       "16      1991-01-04       1\n",
       "17      1991-01-05       0\n",
       "18      1991-01-06       0\n",
       "19      1991-01-07       1\n",
       "20      1991-01-08       1\n",
       "21      1991-01-09       1\n",
       "22      1991-01-10       1\n",
       "23      1991-01-11       1\n",
       "24      1991-01-12       0\n",
       "25      1991-01-13       0\n",
       "26      1991-01-14       1\n",
       "27      1991-01-15       1\n",
       "28      1991-01-16       1\n",
       "29      1991-01-17       1\n",
       "...            ...     ...\n",
       "10210   2018-12-02       0\n",
       "10211   2018-12-03       1\n",
       "10212   2018-12-04       1\n",
       "10213   2018-12-05       1\n",
       "10214   2018-12-06       1\n",
       "10215   2018-12-07       1\n",
       "10216   2018-12-08       0\n",
       "10217   2018-12-09       0\n",
       "10218   2018-12-10       1\n",
       "10219   2018-12-11       1\n",
       "10220   2018-12-12       1\n",
       "10221   2018-12-13       1\n",
       "10222   2018-12-14       1\n",
       "10223   2018-12-15       0\n",
       "10224   2018-12-16       0\n",
       "10225   2018-12-17       1\n",
       "10226   2018-12-18       1\n",
       "10227   2018-12-19       1\n",
       "10228   2018-12-20       1\n",
       "10229   2018-12-21       1\n",
       "10230   2018-12-22       0\n",
       "10231   2018-12-23       0\n",
       "10232   2018-12-24       1\n",
       "10233   2018-12-25       1\n",
       "10234   2018-12-26       1\n",
       "10235   2018-12-27       1\n",
       "10236   2018-12-28       1\n",
       "10237   2018-12-29       0\n",
       "10238   2018-12-30       0\n",
       "10239   2018-12-31       1\n",
       "\n",
       "[10240 rows x 2 columns]"
      ]
     },
     "execution_count": 23,
     "metadata": {},
     "output_type": "execute_result"
    }
   ],
   "source": [
    "trade_cal"
   ]
  },
  {
   "cell_type": "code",
   "execution_count": 6,
   "metadata": {},
   "outputs": [
    {
     "name": "stdout",
     "output_type": "stream",
     "text": [
      "Help on class timedelta in module datetime:\n",
      "\n",
      "class timedelta(builtins.object)\n",
      " |  Difference between two datetime values.\n",
      " |  \n",
      " |  Methods defined here:\n",
      " |  \n",
      " |  __abs__(self, /)\n",
      " |      abs(self)\n",
      " |  \n",
      " |  __add__(self, value, /)\n",
      " |      Return self+value.\n",
      " |  \n",
      " |  __bool__(self, /)\n",
      " |      self != 0\n",
      " |  \n",
      " |  __divmod__(self, value, /)\n",
      " |      Return divmod(self, value).\n",
      " |  \n",
      " |  __eq__(self, value, /)\n",
      " |      Return self==value.\n",
      " |  \n",
      " |  __floordiv__(self, value, /)\n",
      " |      Return self//value.\n",
      " |  \n",
      " |  __ge__(self, value, /)\n",
      " |      Return self>=value.\n",
      " |  \n",
      " |  __getattribute__(self, name, /)\n",
      " |      Return getattr(self, name).\n",
      " |  \n",
      " |  __gt__(self, value, /)\n",
      " |      Return self>value.\n",
      " |  \n",
      " |  __hash__(self, /)\n",
      " |      Return hash(self).\n",
      " |  \n",
      " |  __le__(self, value, /)\n",
      " |      Return self<=value.\n",
      " |  \n",
      " |  __lt__(self, value, /)\n",
      " |      Return self<value.\n",
      " |  \n",
      " |  __mod__(self, value, /)\n",
      " |      Return self%value.\n",
      " |  \n",
      " |  __mul__(self, value, /)\n",
      " |      Return self*value.\n",
      " |  \n",
      " |  __ne__(self, value, /)\n",
      " |      Return self!=value.\n",
      " |  \n",
      " |  __neg__(self, /)\n",
      " |      -self\n",
      " |  \n",
      " |  __new__(*args, **kwargs) from builtins.type\n",
      " |      Create and return a new object.  See help(type) for accurate signature.\n",
      " |  \n",
      " |  __pos__(self, /)\n",
      " |      +self\n",
      " |  \n",
      " |  __radd__(self, value, /)\n",
      " |      Return value+self.\n",
      " |  \n",
      " |  __rdivmod__(self, value, /)\n",
      " |      Return divmod(value, self).\n",
      " |  \n",
      " |  __reduce__(...)\n",
      " |      __reduce__() -> (cls, state)\n",
      " |  \n",
      " |  __repr__(self, /)\n",
      " |      Return repr(self).\n",
      " |  \n",
      " |  __rfloordiv__(self, value, /)\n",
      " |      Return value//self.\n",
      " |  \n",
      " |  __rmod__(self, value, /)\n",
      " |      Return value%self.\n",
      " |  \n",
      " |  __rmul__(self, value, /)\n",
      " |      Return value*self.\n",
      " |  \n",
      " |  __rsub__(self, value, /)\n",
      " |      Return value-self.\n",
      " |  \n",
      " |  __rtruediv__(self, value, /)\n",
      " |      Return value/self.\n",
      " |  \n",
      " |  __str__(self, /)\n",
      " |      Return str(self).\n",
      " |  \n",
      " |  __sub__(self, value, /)\n",
      " |      Return self-value.\n",
      " |  \n",
      " |  __truediv__(self, value, /)\n",
      " |      Return self/value.\n",
      " |  \n",
      " |  total_seconds(...)\n",
      " |      Total seconds in the duration.\n",
      " |  \n",
      " |  ----------------------------------------------------------------------\n",
      " |  Data descriptors defined here:\n",
      " |  \n",
      " |  days\n",
      " |      Number of days.\n",
      " |  \n",
      " |  microseconds\n",
      " |      Number of microseconds (>= 0 and less than 1 second).\n",
      " |  \n",
      " |  seconds\n",
      " |      Number of seconds (>= 0 and less than 1 day).\n",
      " |  \n",
      " |  ----------------------------------------------------------------------\n",
      " |  Data and other attributes defined here:\n",
      " |  \n",
      " |  max = datetime.timedelta(999999999, 86399, 999999)\n",
      " |  \n",
      " |  min = datetime.timedelta(-999999999)\n",
      " |  \n",
      " |  resolution = datetime.timedelta(0, 0, 1)\n",
      "\n"
     ]
    }
   ],
   "source": [
    "help(datetime.timedelta)"
   ]
  },
  {
   "cell_type": "code",
   "execution_count": 149,
   "metadata": {
    "collapsed": true
   },
   "outputs": [],
   "source": [
    "first_all_data = config_dict['first_all_data']"
   ]
  },
  {
   "cell_type": "code",
   "execution_count": 163,
   "metadata": {
    "collapsed": true
   },
   "outputs": [],
   "source": [
    "close_data = config_dict['close_data']\n",
    "close_data = pd.read_json(close_data)"
   ]
  },
  {
   "cell_type": "code",
   "execution_count": 167,
   "metadata": {
    "collapsed": true
   },
   "outputs": [],
   "source": [
    "close_data = close_data.sort_index()"
   ]
  },
  {
   "cell_type": "code",
   "execution_count": 170,
   "metadata": {
    "collapsed": true
   },
   "outputs": [],
   "source": [
    "close_data = close_data['close']"
   ]
  },
  {
   "cell_type": "code",
   "execution_count": 165,
   "metadata": {
    "collapsed": true
   },
   "outputs": [],
   "source": [
    "close_data.index = close_data['date']"
   ]
  },
  {
   "cell_type": "code",
   "execution_count": 150,
   "metadata": {
    "collapsed": true
   },
   "outputs": [],
   "source": [
    "first_all_data = pd.read_json(first_all_data)"
   ]
  },
  {
   "cell_type": "code",
   "execution_count": 12,
   "metadata": {
    "collapsed": true
   },
   "outputs": [],
   "source": [
    "temp = first_all_data.sort_index(ascending=False)"
   ]
  },
  {
   "cell_type": "code",
   "execution_count": 173,
   "metadata": {
    "collapsed": true
   },
   "outputs": [],
   "source": [
    "second_all_data = config_dict['second_all_data']"
   ]
  },
  {
   "cell_type": "code",
   "execution_count": 174,
   "metadata": {
    "collapsed": true
   },
   "outputs": [],
   "source": [
    "second_all_data = pd.read_json(second_all_data)"
   ]
  },
  {
   "cell_type": "code",
   "execution_count": 156,
   "metadata": {},
   "outputs": [
    {
     "data": {
      "text/plain": [
       "'2018-06-11'"
      ]
     },
     "execution_count": 156,
     "metadata": {},
     "output_type": "execute_result"
    }
   ],
   "source": [
    "second_all_data.index[0].date().isoformat()"
   ]
  },
  {
   "cell_type": "code",
   "execution_count": 27,
   "metadata": {},
   "outputs": [
    {
     "data": {
      "text/plain": [
       "True"
      ]
     },
     "execution_count": 27,
     "metadata": {},
     "output_type": "execute_result"
    }
   ],
   "source": [
    "np.issubdtype(second_all_data.iloc[:,40],np.object_)"
   ]
  },
  {
   "cell_type": "code",
   "execution_count": 41,
   "metadata": {
    "collapsed": true
   },
   "outputs": [],
   "source": [
    "temp = second_all_data.sort_values(second_all_data.index[0],axis=1,ascending=False)"
   ]
  },
  {
   "cell_type": "code",
   "execution_count": 48,
   "metadata": {},
   "outputs": [
    {
     "data": {
      "text/plain": [
       "<matplotlib.axes._subplots.AxesSubplot at 0x25706c8dac8>"
      ]
     },
     "execution_count": 48,
     "metadata": {},
     "output_type": "execute_result"
    }
   ],
   "source": [
    "second_all_data.iloc[:,0:10].plot()"
   ]
  },
  {
   "cell_type": "code",
   "execution_count": 73,
   "metadata": {},
   "outputs": [
    {
     "data": {
      "text/plain": [
       "<matplotlib.figure.Figure at 0x2570734de10>"
      ]
     },
     "metadata": {},
     "output_type": "display_data"
    }
   ],
   "source": [
    "plt.savefig('002.png')"
   ]
  },
  {
   "cell_type": "code",
   "execution_count": 86,
   "metadata": {
    "collapsed": true
   },
   "outputs": [],
   "source": [
    "name_dict = config_dict['name_dict']"
   ]
  },
  {
   "cell_type": "code",
   "execution_count": 87,
   "metadata": {
    "collapsed": true
   },
   "outputs": [],
   "source": [
    "close_data = config_dict['close_data']"
   ]
  },
  {
   "cell_type": "code",
   "execution_count": 88,
   "metadata": {
    "collapsed": true
   },
   "outputs": [],
   "source": [
    "close_data = pd.read_json(close_data)"
   ]
  },
  {
   "cell_type": "code",
   "execution_count": 91,
   "metadata": {
    "collapsed": true
   },
   "outputs": [],
   "source": [
    "close_data.index = close_data['date']"
   ]
  },
  {
   "cell_type": "code",
   "execution_count": 102,
   "metadata": {
    "collapsed": true
   },
   "outputs": [],
   "source": [
    "close_data = close_data.sort_index()"
   ]
  },
  {
   "cell_type": "code",
   "execution_count": 103,
   "metadata": {
    "collapsed": true
   },
   "outputs": [],
   "source": [
    "l2 = close_data['close']"
   ]
  },
  {
   "cell_type": "code",
   "execution_count": 14,
   "metadata": {
    "collapsed": true
   },
   "outputs": [],
   "source": [
    "temp1 = temp.to_json()"
   ]
  },
  {
   "cell_type": "code",
   "execution_count": 17,
   "metadata": {
    "collapsed": true
   },
   "outputs": [],
   "source": [
    "temp2 = pd.read_json(temp1)"
   ]
  },
  {
   "cell_type": "code",
   "execution_count": 36,
   "metadata": {
    "collapsed": true
   },
   "outputs": [],
   "source": [
    "s1 = pd.DataFrame([1,2,3])"
   ]
  },
  {
   "cell_type": "code",
   "execution_count": 39,
   "metadata": {
    "collapsed": true
   },
   "outputs": [],
   "source": [
    "config_dict = {}"
   ]
  },
  {
   "cell_type": "code",
   "execution_count": 40,
   "metadata": {
    "collapsed": true
   },
   "outputs": [],
   "source": [
    "config_dict['test'] = s1"
   ]
  },
  {
   "cell_type": "code",
   "execution_count": 16,
   "metadata": {
    "collapsed": true
   },
   "outputs": [],
   "source": [
    "temp_html = soup.find(\"table\",{\"id\":{\"participantShareholdingList\"}})\n",
    "temp_html = temp_html.find_all('tr')"
   ]
  },
  {
   "cell_type": "code",
   "execution_count": 17,
   "metadata": {
    "collapsed": true
   },
   "outputs": [],
   "source": [
    "row_number = len(temp_html)\n",
    "col_number = len(temp_html[0].find_all('td'))"
   ]
  },
  {
   "cell_type": "code",
   "execution_count": 22,
   "metadata": {
    "collapsed": true
   },
   "outputs": [],
   "source": [
    "last_pd = pd.DataFrame(d)"
   ]
  },
  {
   "cell_type": "code",
   "execution_count": 26,
   "metadata": {
    "collapsed": true
   },
   "outputs": [],
   "source": [
    "URL = r'http://www.hkexnews.hk/sdw/search/searchsdw_c.aspx'"
   ]
  },
  {
   "cell_type": "code",
   "execution_count": 27,
   "metadata": {
    "collapsed": true
   },
   "outputs": [],
   "source": [
    "s=requests.Session()"
   ]
  },
  {
   "cell_type": "code",
   "execution_count": 28,
   "metadata": {
    "collapsed": true
   },
   "outputs": [],
   "source": [
    "r=s.get(URL)"
   ]
  },
  {
   "cell_type": "code",
   "execution_count": 9,
   "metadata": {
    "collapsed": true
   },
   "outputs": [],
   "source": [
    "soup=BeautifulSoup(r.content,'html.parser')"
   ]
  },
  {
   "cell_type": "code",
   "execution_count": 10,
   "metadata": {},
   "outputs": [
    {
     "name": "stdout",
     "output_type": "stream",
     "text": [
      "Ckzs+VaFUEDBzZtKQjL8H1DdOd0DKk5HSQ32/tzS8gH+TO1W2S8tjyZf6hmXM7avS2T/u2jdQlJ5D4T/t0hkQaQlfrd8hQKfLvJKZTYFV9m/kkOQVXsunk3uLA6HnJSrYgJAaXQdxh6mR7NrKIXPi+WK3sSA2FiV36I//ZNpgbyoOW6Cd6NncSNgKzmpxEciVxxErw==\n"
     ]
    }
   ],
   "source": [
    "VIEWSTATE=soup.find(id=\"__VIEWSTATE\")['value']\n",
    "print(VIEWSTATE)"
   ]
  },
  {
   "cell_type": "code",
   "execution_count": 11,
   "metadata": {},
   "outputs": [
    {
     "name": "stdout",
     "output_type": "stream",
     "text": [
      "3B50BBBD\n"
     ]
    }
   ],
   "source": [
    "VIEWSTATEGENERATOR=soup.find(id=\"__VIEWSTATEGENERATOR\")['value']\n",
    "print(VIEWSTATEGENERATOR)"
   ]
  },
  {
   "cell_type": "code",
   "execution_count": 12,
   "metadata": {},
   "outputs": [
    {
     "name": "stdout",
     "output_type": "stream",
     "text": [
      "EDddx7fxnrdp/107CfB06ZyVcpdsQh9RV/LJjPEi4kbot5/97UrfaR99PeyxiM0tTpGLNDIJOMduS3rr1uXADZL/I2jcKp2Sj3Mw4wy1o0XeVqPB+Ph1C8fhhgd8YsPk4GZnMDLxjMhsp29QaVP7k4kgI427pwByQ4jjfdTmtMVNMDW4Ip435K0JLZTw0EauEs7LL627OdvXycUt/qQDkxj3drqss2VFubwySNJUsGfq7+nJmfikzGY2kyzMkC21ZtlCTUZBRtI/eHCl1WLrI/PPw3gKGf98ZuCRX2Wkg4FPsclYQhpCJEVKstDgaTzvDjy2RovMl2XKnR+nasAkeJUtCjx3AV4icTybEjerLsC5bsaRh+bR9UwQim4oQgqgV7Y4dOlrMrW0xCJjAmXOAEQ/V2+5ur8+kcQDLxkD3OiVCSLeasSxnqujO0cjNpe+IkKom0hI+C/j8mN5K4u/e+b5O/SI+a9yuHJfm6ONpNNPmP2aqiW3Dx0diudOvUfsRFC1dS7RTejDbrDPhCiHsIYGJF6CodoqNBjJjAZAoe8Tjsmif4eUn3c/VWKDUC9b8ZjYfjmWEn3TIyhb7Oiq8tKsZtlVhqWh716Rpi5o1uFyztFtd7lBF9DsHh1dv0kGxDbksZj3pI/hgWy2k80vpVilcqaawVmNZqR+PPA/UT97dUANMB6njkPxbwP8p2xRTyQDWZB1z9XAbgBBlPtmdp2RZUH37OWrC44938bj0dJyG3YyRQ2VsdZfGWuU9vgC4S11UlVlqh/+1woZytJmPOgUUd2La1v3fOAmgOTr1AHvZjIUesJVmQPtYpNW6wuIWPIh8ybAg1Ph560omCqiZVswSANAvcJKMEhO3hCUhcapl4Bq1Sh5kCv4p2YCtTuP9i5HRbn/kfLnBhE+bfila3hbMp2roKj8kk0uKeASpfeXbnZgvIbr713fEUnTj9LjcTZ2WLJ0dvLE/xgoLNaoOQyx1wyPyh61Yur4Dkiha9FMqvEvET4fErlBidW2NNcZ36uS2G+UBZxf/aMnXKgnRdSOTIXwmb6dPb76zWKz7cJRIzAzpMndmY58oeH/qq0amhRS91IfEq7fqOY7OyJOmy5KAuczJN3JjxJA0rS43jwjk4d6G5nWr/zy7HrBmm+it1wRVhNXHymT+JsOxQqDt6rRdeFiIs/cY4I2Ycq6o8K4EHeQ/4QzL1jLw/2beUFEYhaV7wddOGAtY9F3u3PG2FX46gYBNkzWsb+QzUpfa1ckOBPsgIx/gbEAXwa/Dv5LyrJ6zQ==\n"
     ]
    }
   ],
   "source": [
    "EVENTVALIDATION=soup.find(id=\"__EVENTVALIDATION\")['value']\n",
    "print(EVENTVALIDATION)"
   ]
  },
  {
   "cell_type": "code",
   "execution_count": 13,
   "metadata": {
    "collapsed": true
   },
   "outputs": [],
   "source": [
    "login_data={\n",
    "\"__VIEWSTATE\":VIEWSTATE,\n",
    "\"__VIEWSTATEGENERATOR\":VIEWSTATEGENERATOR,\n",
    "\"__EVENTVALIDATION\":EVENTVALIDATION,\n",
    "\"ddlShareholdingDay\":'21',\n",
    "\"ddlShareholdingMonth\":'06',\n",
    "\"ddlShareholdingYear\":\"2018\",\n",
    "'txtStockCode':'91888'\n",
    "           }\n"
   ]
  },
  {
   "cell_type": "code",
   "execution_count": 14,
   "metadata": {
    "collapsed": true
   },
   "outputs": [],
   "source": [
    "r=s.post(URL, data=login_data)"
   ]
  },
  {
   "cell_type": "code",
   "execution_count": 35,
   "metadata": {},
   "outputs": [
    {
     "name": "stdout",
     "output_type": "stream",
     "text": [
      "Here is some important text you want to retrieve!\n",
      "A button to click!\n"
     ]
    }
   ],
   "source": [
    "print(driver.find_element_by_id(\"content\").text)"
   ]
  },
  {
   "cell_type": "code",
   "execution_count": 4,
   "metadata": {
    "collapsed": true
   },
   "outputs": [],
   "source": [
    "browser = webdriver.Chrome()"
   ]
  },
  {
   "cell_type": "code",
   "execution_count": 13,
   "metadata": {
    "collapsed": true
   },
   "outputs": [],
   "source": [
    "browser.get(\"http://www.hkexnews.hk/sdw/search/searchsdw_c.aspx\")"
   ]
  },
  {
   "cell_type": "code",
   "execution_count": 11,
   "metadata": {
    "collapsed": true
   },
   "outputs": [],
   "source": [
    "from selenium.webdriver.common.keys import Keys"
   ]
  },
  {
   "cell_type": "code",
   "execution_count": 15,
   "metadata": {
    "collapsed": true
   },
   "outputs": [],
   "source": [
    "element = browser.find_element_by_id(\"ddlShareholdingDay\")"
   ]
  },
  {
   "cell_type": "code",
   "execution_count": 18,
   "metadata": {
    "collapsed": true
   },
   "outputs": [],
   "source": [
    "element = browser.find_element_by_xpath(\"//select[@name='ddlShareholdingDay']\")"
   ]
  },
  {
   "cell_type": "code",
   "execution_count": 20,
   "metadata": {
    "collapsed": true
   },
   "outputs": [],
   "source": [
    "all_options = element.find_elements_by_tag_name(\"option\")"
   ]
  },
  {
   "cell_type": "code",
   "execution_count": 31,
   "metadata": {
    "collapsed": true
   },
   "outputs": [],
   "source": [
    "browser.find_element_by_id(\"btnSearch\").click()"
   ]
  },
  {
   "cell_type": "code",
   "execution_count": 35,
   "metadata": {
    "collapsed": true
   },
   "outputs": [],
   "source": [
    "html_txt = browser.page_source"
   ]
  },
  {
   "cell_type": "code",
   "execution_count": 36,
   "metadata": {
    "collapsed": true
   },
   "outputs": [],
   "source": [
    "soup = BeautifulSoup(html_txt,'html.parser')"
   ]
  },
  {
   "cell_type": "code",
   "execution_count": 37,
   "metadata": {},
   "outputs": [
    {
     "name": "stdout",
     "output_type": "stream",
     "text": [
      "{'last_date': '2018-06-20', 'stock_code': '91888', 'stock_name': '中國國旅'}\n"
     ]
    }
   ],
   "source": [
    "first_part = get_first_part()\n",
    "print(first_part)"
   ]
  },
  {
   "cell_type": "code",
   "execution_count": 40,
   "metadata": {
    "collapsed": true
   },
   "outputs": [],
   "source": [
    "browser.get(\"http://www.hkexnews.hk/sdw/search/searchsdw_c.aspx\")"
   ]
  },
  {
   "cell_type": "code",
   "execution_count": 43,
   "metadata": {
    "collapsed": true
   },
   "outputs": [],
   "source": [
    "browser.back()"
   ]
  },
  {
   "cell_type": "code",
   "execution_count": 83,
   "metadata": {
    "collapsed": true
   },
   "outputs": [],
   "source": [
    "browser = webdriver.Chrome()\n",
    "browser.get(\"http://www.hkexnews.hk/sdw/search/searchsdw_c.aspx\")"
   ]
  },
  {
   "cell_type": "code",
   "execution_count": 6,
   "metadata": {
    "collapsed": true
   },
   "outputs": [],
   "source": [
    "browser.get(\"http://www.hkexnews.hk/sdw/search/searchsdw_c.aspx\")"
   ]
  }
 ],
 "metadata": {
  "kernelspec": {
   "display_name": "Python 3",
   "language": "python",
   "name": "python3"
  },
  "language_info": {
   "codemirror_mode": {
    "name": "ipython",
    "version": 3
   },
   "file_extension": ".py",
   "mimetype": "text/x-python",
   "name": "python",
   "nbconvert_exporter": "python",
   "pygments_lexer": "ipython3",
   "version": "3.6.1"
  }
 },
 "nbformat": 4,
 "nbformat_minor": 2
}
