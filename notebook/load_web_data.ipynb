{
 "cells": [
  {
   "cell_type": "code",
   "execution_count": 1,
   "metadata": {
    "collapsed": true
   },
   "outputs": [],
   "source": [
    "from urllib.request import urlopen\n",
    "from bs4 import BeautifulSoup\n",
    "import pandas as pd\n",
    "import requests"
   ]
  },
  {
   "cell_type": "code",
   "execution_count": 3,
   "metadata": {},
   "outputs": [],
   "source": [
    "with open(r'D:\\test\\__ HKEX __ HKEXnews __.html','r',encoding=\"utf-8\") as f:\n",
    "    html_txt = f.read()"
   ]
  },
  {
   "cell_type": "code",
   "execution_count": 5,
   "metadata": {
    "collapsed": true
   },
   "outputs": [],
   "source": [
    "soup = BeautifulSoup(html_txt,'html.parser')"
   ]
  },
  {
   "cell_type": "code",
   "execution_count": 6,
   "metadata": {},
   "outputs": [
    {
     "name": "stdout",
     "output_type": "stream",
     "text": [
      "{'last_date': '08/06/2018', 'stock_code': '91888', 'stock_name': '中國國旅'}\n"
     ]
    }
   ],
   "source": [
    "temp_html = soup.find(\"table\",{\"id\":\"Table5\"})\n",
    "temp_html = temp_html.find_all('td',{\"class\":\"arial12black\"})\n",
    "\n",
    "first_dict = {}\n",
    "first_dict['last_date'] = temp_html[1].get_text().strip()\n",
    "first_dict['stock_code'] = temp_html[3].get_text().strip()\n",
    "first_dict['stock_name'] = temp_html[5].get_text().strip()\n",
    "\n",
    "print(first_dict)"
   ]
  },
  {
   "cell_type": "code",
   "execution_count": 7,
   "metadata": {},
   "outputs": [
    {
     "name": "stdout",
     "output_type": "stream",
     "text": [
      "{'hold_volumn': '219,209,091', 'people_number': '51', 'hold_precent': '11.22%', 'all_volumn': '1,952,475,544'}\n"
     ]
    }
   ],
   "source": [
    "temp_html = soup.find(\"div\",{\"id\":{\"pnlResultSummary\"}})\n",
    "temp_html = temp_html.find_all(\"span\",{\"class\":\"mobilezoom\"})\n",
    "\n",
    "second_dict = {}\n",
    "second_dict['hold_volumn'] = temp_html[0].get_text().strip()\n",
    "second_dict['people_number'] = temp_html[1].get_text().strip()\n",
    "second_dict['hold_precent'] = temp_html[2].get_text().strip()\n",
    "second_dict['all_volumn'] = temp_html[6].get_text().strip()\n",
    "print(second_dict)"
   ]
  },
  {
   "cell_type": "code",
   "execution_count": 8,
   "metadata": {
    "collapsed": true
   },
   "outputs": [],
   "source": [
    "temp_html = soup.find(\"table\",{\"id\":{\"participantShareholdingList\"}})\n",
    "temp_html = temp_html.find_all('tr')\n",
    "\n",
    "row_number = len(temp_html)\n",
    "col_number = len(temp_html[0].find_all('td'))\n",
    "\n",
    "d = {}\n",
    "for i in range(col_number):\n",
    "    d[i] = []\n",
    "\n",
    "for i in range(1,row_number):\n",
    "    temp_tr = temp_html[i]\n",
    "    temp_td = temp_tr.find_all('td')\n",
    "    \n",
    "    if len(temp_td) != col_number:\n",
    "        continue\n",
    "        \n",
    "    for j in range(col_number):\n",
    "        temp_string = temp_td[j].get_text().strip()\n",
    "        d[j].append(temp_string)\n",
    "\n",
    "last_pd = pd.DataFrame(d)\n",
    "    \n",
    "last_dict = {}\n",
    "for i in range(len(last_pd)):\n",
    "    last_dict[last_pd.iat[i,0]] = last_pd.iat[i,1]\n",
    "\n",
    "new_pd = pd.DataFrame(last_pd[3])\n",
    "new_pd = new_pd.T\n",
    "new_pd.columns = last_pd[0]"
   ]
  },
  {
   "cell_type": "code",
   "execution_count": 9,
   "metadata": {},
   "outputs": [
    {
     "data": {
      "text/html": [
       "<div>\n",
       "<style>\n",
       "    .dataframe thead tr:only-child th {\n",
       "        text-align: right;\n",
       "    }\n",
       "\n",
       "    .dataframe thead th {\n",
       "        text-align: left;\n",
       "    }\n",
       "\n",
       "    .dataframe tbody tr th {\n",
       "        vertical-align: top;\n",
       "    }\n",
       "</style>\n",
       "<table border=\"1\" class=\"dataframe\">\n",
       "  <thead>\n",
       "    <tr style=\"text-align: right;\">\n",
       "      <th></th>\n",
       "      <th>C00019</th>\n",
       "      <th>C00039</th>\n",
       "      <th>C00010</th>\n",
       "      <th>C00100</th>\n",
       "      <th>B01161</th>\n",
       "      <th>C00093</th>\n",
       "      <th>B01110</th>\n",
       "      <th>B01565</th>\n",
       "      <th>B01274</th>\n",
       "      <th>B01654</th>\n",
       "      <th>...</th>\n",
       "      <th>B01971</th>\n",
       "      <th>B01372</th>\n",
       "      <th>B01695</th>\n",
       "      <th>B01825</th>\n",
       "      <th>B01947</th>\n",
       "      <th>C00036</th>\n",
       "      <th>B01353</th>\n",
       "      <th>C00042</th>\n",
       "      <th>B01818</th>\n",
       "      <th>B01967</th>\n",
       "    </tr>\n",
       "  </thead>\n",
       "  <tbody>\n",
       "    <tr>\n",
       "      <th>3</th>\n",
       "      <td>56,833,993</td>\n",
       "      <td>36,810,697</td>\n",
       "      <td>28,684,648</td>\n",
       "      <td>26,046,799</td>\n",
       "      <td>14,929,404</td>\n",
       "      <td>10,643,006</td>\n",
       "      <td>10,585,731</td>\n",
       "      <td>8,684,492</td>\n",
       "      <td>6,159,277</td>\n",
       "      <td>5,929,803</td>\n",
       "      <td>...</td>\n",
       "      <td>3,200</td>\n",
       "      <td>3,000</td>\n",
       "      <td>2,000</td>\n",
       "      <td>2,000</td>\n",
       "      <td>1,700</td>\n",
       "      <td>1,600</td>\n",
       "      <td>1,100</td>\n",
       "      <td>1,000</td>\n",
       "      <td>300</td>\n",
       "      <td>100</td>\n",
       "    </tr>\n",
       "  </tbody>\n",
       "</table>\n",
       "<p>1 rows × 51 columns</p>\n",
       "</div>"
      ],
      "text/plain": [
       "0      C00019      C00039      C00010      C00100      B01161      C00093  \\\n",
       "3  56,833,993  36,810,697  28,684,648  26,046,799  14,929,404  10,643,006   \n",
       "\n",
       "0      B01110     B01565     B01274     B01654  ...   B01971 B01372 B01695  \\\n",
       "3  10,585,731  8,684,492  6,159,277  5,929,803  ...    3,200  3,000  2,000   \n",
       "\n",
       "0 B01825 B01947 C00036 B01353 C00042 B01818 B01967  \n",
       "3  2,000  1,700  1,600  1,100  1,000    300    100  \n",
       "\n",
       "[1 rows x 51 columns]"
      ]
     },
     "execution_count": 9,
     "metadata": {},
     "output_type": "execute_result"
    }
   ],
   "source": [
    "new_pd"
   ]
  },
  {
   "cell_type": "code",
   "execution_count": 10,
   "metadata": {
    "collapsed": true
   },
   "outputs": [],
   "source": [
    "new_pd.index = {first_dict['last_date']}"
   ]
  },
  {
   "cell_type": "code",
   "execution_count": 11,
   "metadata": {
    "collapsed": true
   },
   "outputs": [],
   "source": [
    "merge_pd = new_pd"
   ]
  },
  {
   "cell_type": "code",
   "execution_count": 12,
   "metadata": {},
   "outputs": [
    {
     "data": {
      "text/html": [
       "<div>\n",
       "<style>\n",
       "    .dataframe thead tr:only-child th {\n",
       "        text-align: right;\n",
       "    }\n",
       "\n",
       "    .dataframe thead th {\n",
       "        text-align: left;\n",
       "    }\n",
       "\n",
       "    .dataframe tbody tr th {\n",
       "        vertical-align: top;\n",
       "    }\n",
       "</style>\n",
       "<table border=\"1\" class=\"dataframe\">\n",
       "  <thead>\n",
       "    <tr style=\"text-align: right;\">\n",
       "      <th></th>\n",
       "      <th>C00019</th>\n",
       "      <th>C00039</th>\n",
       "      <th>C00010</th>\n",
       "      <th>C00100</th>\n",
       "      <th>B01161</th>\n",
       "      <th>C00093</th>\n",
       "      <th>B01110</th>\n",
       "      <th>B01565</th>\n",
       "      <th>B01274</th>\n",
       "      <th>B01654</th>\n",
       "      <th>...</th>\n",
       "      <th>B01971</th>\n",
       "      <th>B01372</th>\n",
       "      <th>B01695</th>\n",
       "      <th>B01825</th>\n",
       "      <th>B01947</th>\n",
       "      <th>C00036</th>\n",
       "      <th>B01353</th>\n",
       "      <th>C00042</th>\n",
       "      <th>B01818</th>\n",
       "      <th>B01967</th>\n",
       "    </tr>\n",
       "  </thead>\n",
       "  <tbody>\n",
       "    <tr>\n",
       "      <th>08/06/2018</th>\n",
       "      <td>56,833,993</td>\n",
       "      <td>36,810,697</td>\n",
       "      <td>28,684,648</td>\n",
       "      <td>26,046,799</td>\n",
       "      <td>14,929,404</td>\n",
       "      <td>10,643,006</td>\n",
       "      <td>10,585,731</td>\n",
       "      <td>8,684,492</td>\n",
       "      <td>6,159,277</td>\n",
       "      <td>5,929,803</td>\n",
       "      <td>...</td>\n",
       "      <td>3,200</td>\n",
       "      <td>3,000</td>\n",
       "      <td>2,000</td>\n",
       "      <td>2,000</td>\n",
       "      <td>1,700</td>\n",
       "      <td>1,600</td>\n",
       "      <td>1,100</td>\n",
       "      <td>1,000</td>\n",
       "      <td>300</td>\n",
       "      <td>100</td>\n",
       "    </tr>\n",
       "  </tbody>\n",
       "</table>\n",
       "<p>1 rows × 51 columns</p>\n",
       "</div>"
      ],
      "text/plain": [
       "0               C00019      C00039      C00010      C00100      B01161  \\\n",
       "08/06/2018  56,833,993  36,810,697  28,684,648  26,046,799  14,929,404   \n",
       "\n",
       "0               C00093      B01110     B01565     B01274     B01654  ...    \\\n",
       "08/06/2018  10,643,006  10,585,731  8,684,492  6,159,277  5,929,803  ...     \n",
       "\n",
       "0          B01971 B01372 B01695 B01825 B01947 C00036 B01353 C00042 B01818  \\\n",
       "08/06/2018  3,200  3,000  2,000  2,000  1,700  1,600  1,100  1,000    300   \n",
       "\n",
       "0          B01967  \n",
       "08/06/2018    100  \n",
       "\n",
       "[1 rows x 51 columns]"
      ]
     },
     "execution_count": 12,
     "metadata": {},
     "output_type": "execute_result"
    }
   ],
   "source": [
    "merge_pd"
   ]
  },
  {
   "cell_type": "code",
   "execution_count": 13,
   "metadata": {
    "collapsed": true
   },
   "outputs": [],
   "source": [
    "s1 = merge_pd.to_json()"
   ]
  },
  {
   "cell_type": "code",
   "execution_count": 14,
   "metadata": {
    "collapsed": true
   },
   "outputs": [],
   "source": [
    "s2 = pd.read_json(s1)"
   ]
  },
  {
   "cell_type": "code",
   "execution_count": 15,
   "metadata": {},
   "outputs": [
    {
     "data": {
      "text/html": [
       "<div>\n",
       "<style>\n",
       "    .dataframe thead tr:only-child th {\n",
       "        text-align: right;\n",
       "    }\n",
       "\n",
       "    .dataframe thead th {\n",
       "        text-align: left;\n",
       "    }\n",
       "\n",
       "    .dataframe tbody tr th {\n",
       "        vertical-align: top;\n",
       "    }\n",
       "</style>\n",
       "<table border=\"1\" class=\"dataframe\">\n",
       "  <thead>\n",
       "    <tr style=\"text-align: right;\">\n",
       "      <th></th>\n",
       "      <th>B01086</th>\n",
       "      <th>B01110</th>\n",
       "      <th>B01115</th>\n",
       "      <th>B01121</th>\n",
       "      <th>B01130</th>\n",
       "      <th>B01138</th>\n",
       "      <th>B01143</th>\n",
       "      <th>B01161</th>\n",
       "      <th>B01224</th>\n",
       "      <th>B01228</th>\n",
       "      <th>...</th>\n",
       "      <th>B01967</th>\n",
       "      <th>B01971</th>\n",
       "      <th>C00010</th>\n",
       "      <th>C00019</th>\n",
       "      <th>C00033</th>\n",
       "      <th>C00036</th>\n",
       "      <th>C00039</th>\n",
       "      <th>C00042</th>\n",
       "      <th>C00093</th>\n",
       "      <th>C00100</th>\n",
       "    </tr>\n",
       "  </thead>\n",
       "  <tbody>\n",
       "    <tr>\n",
       "      <th>2018-08-06</th>\n",
       "      <td>25,400</td>\n",
       "      <td>10,585,731</td>\n",
       "      <td>33,800</td>\n",
       "      <td>447,344</td>\n",
       "      <td>533,809</td>\n",
       "      <td>195,825</td>\n",
       "      <td>458,707</td>\n",
       "      <td>14,929,404</td>\n",
       "      <td>3,214,655</td>\n",
       "      <td>15,400</td>\n",
       "      <td>...</td>\n",
       "      <td>100</td>\n",
       "      <td>3,200</td>\n",
       "      <td>28,684,648</td>\n",
       "      <td>56,833,993</td>\n",
       "      <td>400,309</td>\n",
       "      <td>1,600</td>\n",
       "      <td>36,810,697</td>\n",
       "      <td>1,000</td>\n",
       "      <td>10,643,006</td>\n",
       "      <td>26,046,799</td>\n",
       "    </tr>\n",
       "  </tbody>\n",
       "</table>\n",
       "<p>1 rows × 51 columns</p>\n",
       "</div>"
      ],
      "text/plain": [
       "            B01086      B01110  B01115   B01121   B01130   B01138   B01143  \\\n",
       "2018-08-06  25,400  10,585,731  33,800  447,344  533,809  195,825  458,707   \n",
       "\n",
       "                B01161     B01224  B01228     ...     B01967 B01971  \\\n",
       "2018-08-06  14,929,404  3,214,655  15,400     ...        100  3,200   \n",
       "\n",
       "                C00010      C00019   C00033 C00036      C00039 C00042  \\\n",
       "2018-08-06  28,684,648  56,833,993  400,309  1,600  36,810,697  1,000   \n",
       "\n",
       "                C00093      C00100  \n",
       "2018-08-06  10,643,006  26,046,799  \n",
       "\n",
       "[1 rows x 51 columns]"
      ]
     },
     "execution_count": 15,
     "metadata": {},
     "output_type": "execute_result"
    }
   ],
   "source": [
    "s2"
   ]
  },
  {
   "cell_type": "code",
   "execution_count": null,
   "metadata": {
    "collapsed": true
   },
   "outputs": [],
   "source": [
    "merge_pd = pd.concat([old_pd,new_pd])\n",
    "name_dict.update(last_dict)\n",
    "\n",
    "store['name_dict'] = name_dict\n",
    "store['old_pd'] = merge_pd\n"
   ]
  },
  {
   "cell_type": "code",
   "execution_count": 28,
   "metadata": {
    "collapsed": true
   },
   "outputs": [],
   "source": [
    "import openpyxl as oxl"
   ]
  },
  {
   "cell_type": "code",
   "execution_count": 37,
   "metadata": {
    "collapsed": true
   },
   "outputs": [],
   "source": [
    "wb = oxl.Workbook()"
   ]
  },
  {
   "cell_type": "code",
   "execution_count": 38,
   "metadata": {
    "collapsed": true
   },
   "outputs": [],
   "source": [
    "ws = wb.create_sheet(index=0,title='oxl-sheet')"
   ]
  },
  {
   "cell_type": "code",
   "execution_count": 39,
   "metadata": {
    "collapsed": true
   },
   "outputs": [],
   "source": [
    "ws.cell(row=1,column=1).value = '持股日期'\n",
    "ws.cell(row=1,column=2).value = first_dict['last_date']\n",
    "\n",
    "ws.cell(row=1,column=3).value = '股票代码'\n",
    "ws.cell(row=1,column=4).value = first_dict['stock_code']\n",
    "\n",
    "ws.cell(row=1,column=5).value = '股票名称'\n",
    "ws.cell(row=1,column=6).value = first_dict['stock_name']"
   ]
  },
  {
   "cell_type": "code",
   "execution_count": 43,
   "metadata": {
    "collapsed": true
   },
   "outputs": [],
   "source": [
    "ws.cell(row=3,column=1).value = '中央结算系统持股量'\n",
    "ws.cell(row=4,column=1).value = second_dict['hold_volumn']\n",
    "\n",
    "ws.cell(row=3,column=2).value = '参与者数目'\n",
    "ws.cell(row=4,column=2).value = second_dict['people_number']\n",
    "\n",
    "ws.cell(row=3,column=3).value = '总数百分比'\n",
    "ws.cell(row=4,column=3).value = second_dict['hold_precent']\n",
    "\n",
    "ws.cell(row=3,column=4).value = '全部持股量'\n",
    "ws.cell(row=4,column=4).value = second_dict['all_volumn']"
   ]
  },
  {
   "cell_type": "code",
   "execution_count": 54,
   "metadata": {
    "collapsed": true
   },
   "outputs": [],
   "source": [
    "columns = merge_pd.columns\n",
    "columns_name = []\n",
    "\n",
    "for i in range(len(columns)):\n",
    "    columns_name.append(last_dict[columns[i]])"
   ]
  },
  {
   "cell_type": "code",
   "execution_count": 66,
   "metadata": {
    "collapsed": true
   },
   "outputs": [],
   "source": [
    "for i in range(len(columns)):\n",
    "    ws.cell(row=7,column=i+3).value = columns_name[i]"
   ]
  },
  {
   "cell_type": "code",
   "execution_count": 67,
   "metadata": {
    "collapsed": true
   },
   "outputs": [],
   "source": [
    "ws.cell(row=8,column=1).value = '日期'\n",
    "ws.cell(row=8,column=2).value = '收盘价'"
   ]
  },
  {
   "cell_type": "code",
   "execution_count": 87,
   "metadata": {
    "collapsed": true
   },
   "outputs": [],
   "source": [
    "index = merge_pd.index"
   ]
  },
  {
   "cell_type": "code",
   "execution_count": 62,
   "metadata": {
    "collapsed": true
   },
   "outputs": [],
   "source": [
    "row_number = len(index)\n",
    "col_number = len(columns)"
   ]
  },
  {
   "cell_type": "code",
   "execution_count": 145,
   "metadata": {
    "collapsed": true
   },
   "outputs": [],
   "source": [
    "for i in range(row_number):\n",
    "    ws.cell(row=i+9,column=1).value = index[i]\n",
    "    ws.cell(row=i+9,column=2).value = close_data[index[i]]"
   ]
  },
  {
   "cell_type": "code",
   "execution_count": 65,
   "metadata": {
    "collapsed": true
   },
   "outputs": [],
   "source": [
    "for i in range(col_number):\n",
    "    ws.cell(row=8,column=i+3).value = columns[i]"
   ]
  },
  {
   "cell_type": "code",
   "execution_count": 78,
   "metadata": {
    "collapsed": true
   },
   "outputs": [],
   "source": [
    "for i in range(row_number):\n",
    "    for j in range(col_number):\n",
    "        ws.cell(row=9+i,column=j+3).value = merge_pd.iat[i,j]"
   ]
  },
  {
   "cell_type": "code",
   "execution_count": 71,
   "metadata": {
    "collapsed": true
   },
   "outputs": [],
   "source": [
    "import tushare as ts"
   ]
  },
  {
   "cell_type": "code",
   "execution_count": 144,
   "metadata": {
    "collapsed": true
   },
   "outputs": [],
   "source": [
    "close_data = OrderedDict()\n",
    "for i in range(row_number):\n",
    "    temp_s = index[i]\n",
    "    temp_str = datetime.datetime.strptime(temp_s,'%d/%m/%Y').date().isoformat()\n",
    "    \n",
    "    if not temp_s in close_data:\n",
    "        temp_df = ts.get_k_data('601888',start=temp_str,end=temp_str,ktype='D')\n",
    "        if temp_df.empty:\n",
    "            close_data[temp_s] = list(close_data.values())[-1]\n",
    "        else:\n",
    "            close_data[temp_s] = temp_df.iat[-1,2]\n",
    "    "
   ]
  },
  {
   "cell_type": "code",
   "execution_count": null,
   "metadata": {
    "collapsed": true
   },
   "outputs": [],
   "source": [
    "for i in range(row_number):\n",
    "    ws.cell(row=i+9,column=2).value = close_data[i]"
   ]
  },
  {
   "cell_type": "code",
   "execution_count": 103,
   "metadata": {
    "collapsed": true
   },
   "outputs": [],
   "source": [
    "temp_str = index[i]"
   ]
  },
  {
   "cell_type": "code",
   "execution_count": 147,
   "metadata": {
    "collapsed": true
   },
   "outputs": [],
   "source": [
    "from collections import OrderedDict"
   ]
  },
  {
   "cell_type": "code",
   "execution_count": 142,
   "metadata": {},
   "outputs": [
    {
     "data": {
      "text/plain": [
       "OrderedDict([('2018-06-13', 66.819999999999993)])"
      ]
     },
     "execution_count": 142,
     "metadata": {},
     "output_type": "execute_result"
    }
   ],
   "source": [
    "close_data"
   ]
  },
  {
   "cell_type": "code",
   "execution_count": 93,
   "metadata": {
    "collapsed": true
   },
   "outputs": [],
   "source": [
    "import datetime"
   ]
  },
  {
   "cell_type": "code",
   "execution_count": 104,
   "metadata": {
    "collapsed": true
   },
   "outputs": [],
   "source": [
    "temp_str = datetime.datetime.strptime(temp_str,'%d/%m/%Y').date().isoformat()"
   ]
  },
  {
   "cell_type": "code",
   "execution_count": 121,
   "metadata": {
    "collapsed": true
   },
   "outputs": [],
   "source": [
    "temp_df = ts.get_k_data('601888',start=temp_str,end=temp_str,ktype='D')"
   ]
  },
  {
   "cell_type": "code",
   "execution_count": 128,
   "metadata": {
    "collapsed": true
   },
   "outputs": [],
   "source": [
    "close_data[temp_str] = temp_df.iat[-1,2]"
   ]
  },
  {
   "cell_type": "code",
   "execution_count": 139,
   "metadata": {},
   "outputs": [
    {
     "data": {
      "text/plain": [
       "66.819999999999993"
      ]
     },
     "execution_count": 139,
     "metadata": {},
     "output_type": "execute_result"
    }
   ],
   "source": [
    "list(close_data.values())[-1]"
   ]
  },
  {
   "cell_type": "code",
   "execution_count": 109,
   "metadata": {},
   "outputs": [
    {
     "data": {
      "text/plain": [
       "66.819999999999993"
      ]
     },
     "execution_count": 109,
     "metadata": {},
     "output_type": "execute_result"
    }
   ],
   "source": [
    "temp_df.iat[-1,2]"
   ]
  },
  {
   "cell_type": "code",
   "execution_count": 146,
   "metadata": {
    "collapsed": true
   },
   "outputs": [],
   "source": [
    "wb.save('test.xlsx')"
   ]
  },
  {
   "cell_type": "code",
   "execution_count": 11,
   "metadata": {
    "collapsed": true
   },
   "outputs": [],
   "source": [
    "params = {'ddlShareholdingDay':'20','ddlShareholdingMonth':'6','ddlShareholdingYear':2018,'txtStockCode':91888}"
   ]
  },
  {
   "cell_type": "code",
   "execution_count": 14,
   "metadata": {
    "collapsed": true
   },
   "outputs": [],
   "source": [
    "get_html = requests.post(\"http://www.hkexnews.hk/sdw/search/searchsdw_c.aspx\")"
   ]
  },
  {
   "cell_type": "code",
   "execution_count": 12,
   "metadata": {},
   "outputs": [
    {
     "ename": "ConnectionError",
     "evalue": "HTTPConnectionPool(host='www.hkexnews.hk', port=80): Max retries exceeded with url: /sdw/search/searchsdw_c.aspx (Caused by NewConnectionError('<requests.packages.urllib3.connection.HTTPConnection object at 0x000000000AC834E0>: Failed to establish a new connection: [WinError 10061] 由于目标计算机积极拒绝，无法连接。',))",
     "output_type": "error",
     "traceback": [
      "\u001b[1;31m---------------------------------------------------------------------------\u001b[0m",
      "\u001b[1;31mConnectionRefusedError\u001b[0m                    Traceback (most recent call last)",
      "\u001b[1;32mC:\\Anaconda3\\lib\\site-packages\\requests\\packages\\urllib3\\connection.py\u001b[0m in \u001b[0;36m_new_conn\u001b[1;34m(self)\u001b[0m\n\u001b[0;32m    140\u001b[0m             conn = connection.create_connection(\n\u001b[1;32m--> 141\u001b[1;33m                 (self.host, self.port), self.timeout, **extra_kw)\n\u001b[0m\u001b[0;32m    142\u001b[0m \u001b[1;33m\u001b[0m\u001b[0m\n",
      "\u001b[1;32mC:\\Anaconda3\\lib\\site-packages\\requests\\packages\\urllib3\\util\\connection.py\u001b[0m in \u001b[0;36mcreate_connection\u001b[1;34m(address, timeout, source_address, socket_options)\u001b[0m\n\u001b[0;32m     82\u001b[0m     \u001b[1;32mif\u001b[0m \u001b[0merr\u001b[0m \u001b[1;32mis\u001b[0m \u001b[1;32mnot\u001b[0m \u001b[1;32mNone\u001b[0m\u001b[1;33m:\u001b[0m\u001b[1;33m\u001b[0m\u001b[0m\n\u001b[1;32m---> 83\u001b[1;33m         \u001b[1;32mraise\u001b[0m \u001b[0merr\u001b[0m\u001b[1;33m\u001b[0m\u001b[0m\n\u001b[0m\u001b[0;32m     84\u001b[0m \u001b[1;33m\u001b[0m\u001b[0m\n",
      "\u001b[1;32mC:\\Anaconda3\\lib\\site-packages\\requests\\packages\\urllib3\\util\\connection.py\u001b[0m in \u001b[0;36mcreate_connection\u001b[1;34m(address, timeout, source_address, socket_options)\u001b[0m\n\u001b[0;32m     72\u001b[0m                 \u001b[0msock\u001b[0m\u001b[1;33m.\u001b[0m\u001b[0mbind\u001b[0m\u001b[1;33m(\u001b[0m\u001b[0msource_address\u001b[0m\u001b[1;33m)\u001b[0m\u001b[1;33m\u001b[0m\u001b[0m\n\u001b[1;32m---> 73\u001b[1;33m             \u001b[0msock\u001b[0m\u001b[1;33m.\u001b[0m\u001b[0mconnect\u001b[0m\u001b[1;33m(\u001b[0m\u001b[0msa\u001b[0m\u001b[1;33m)\u001b[0m\u001b[1;33m\u001b[0m\u001b[0m\n\u001b[0m\u001b[0;32m     74\u001b[0m             \u001b[1;32mreturn\u001b[0m \u001b[0msock\u001b[0m\u001b[1;33m\u001b[0m\u001b[0m\n",
      "\u001b[1;31mConnectionRefusedError\u001b[0m: [WinError 10061] 由于目标计算机积极拒绝，无法连接。",
      "\nDuring handling of the above exception, another exception occurred:\n",
      "\u001b[1;31mNewConnectionError\u001b[0m                        Traceback (most recent call last)",
      "\u001b[1;32mC:\\Anaconda3\\lib\\site-packages\\requests\\packages\\urllib3\\connectionpool.py\u001b[0m in \u001b[0;36murlopen\u001b[1;34m(self, method, url, body, headers, retries, redirect, assert_same_host, timeout, pool_timeout, release_conn, chunked, body_pos, **response_kw)\u001b[0m\n\u001b[0;32m    599\u001b[0m                                                   \u001b[0mbody\u001b[0m\u001b[1;33m=\u001b[0m\u001b[0mbody\u001b[0m\u001b[1;33m,\u001b[0m \u001b[0mheaders\u001b[0m\u001b[1;33m=\u001b[0m\u001b[0mheaders\u001b[0m\u001b[1;33m,\u001b[0m\u001b[1;33m\u001b[0m\u001b[0m\n\u001b[1;32m--> 600\u001b[1;33m                                                   chunked=chunked)\n\u001b[0m\u001b[0;32m    601\u001b[0m \u001b[1;33m\u001b[0m\u001b[0m\n",
      "\u001b[1;32mC:\\Anaconda3\\lib\\site-packages\\requests\\packages\\urllib3\\connectionpool.py\u001b[0m in \u001b[0;36m_make_request\u001b[1;34m(self, conn, method, url, timeout, chunked, **httplib_request_kw)\u001b[0m\n\u001b[0;32m    355\u001b[0m         \u001b[1;32melse\u001b[0m\u001b[1;33m:\u001b[0m\u001b[1;33m\u001b[0m\u001b[0m\n\u001b[1;32m--> 356\u001b[1;33m             \u001b[0mconn\u001b[0m\u001b[1;33m.\u001b[0m\u001b[0mrequest\u001b[0m\u001b[1;33m(\u001b[0m\u001b[0mmethod\u001b[0m\u001b[1;33m,\u001b[0m \u001b[0murl\u001b[0m\u001b[1;33m,\u001b[0m \u001b[1;33m**\u001b[0m\u001b[0mhttplib_request_kw\u001b[0m\u001b[1;33m)\u001b[0m\u001b[1;33m\u001b[0m\u001b[0m\n\u001b[0m\u001b[0;32m    357\u001b[0m \u001b[1;33m\u001b[0m\u001b[0m\n",
      "\u001b[1;32mC:\\Anaconda3\\lib\\http\\client.py\u001b[0m in \u001b[0;36mrequest\u001b[1;34m(self, method, url, body, headers, encode_chunked)\u001b[0m\n\u001b[0;32m   1238\u001b[0m         \u001b[1;34m\"\"\"Send a complete request to the server.\"\"\"\u001b[0m\u001b[1;33m\u001b[0m\u001b[0m\n\u001b[1;32m-> 1239\u001b[1;33m         \u001b[0mself\u001b[0m\u001b[1;33m.\u001b[0m\u001b[0m_send_request\u001b[0m\u001b[1;33m(\u001b[0m\u001b[0mmethod\u001b[0m\u001b[1;33m,\u001b[0m \u001b[0murl\u001b[0m\u001b[1;33m,\u001b[0m \u001b[0mbody\u001b[0m\u001b[1;33m,\u001b[0m \u001b[0mheaders\u001b[0m\u001b[1;33m,\u001b[0m \u001b[0mencode_chunked\u001b[0m\u001b[1;33m)\u001b[0m\u001b[1;33m\u001b[0m\u001b[0m\n\u001b[0m\u001b[0;32m   1240\u001b[0m \u001b[1;33m\u001b[0m\u001b[0m\n",
      "\u001b[1;32mC:\\Anaconda3\\lib\\http\\client.py\u001b[0m in \u001b[0;36m_send_request\u001b[1;34m(self, method, url, body, headers, encode_chunked)\u001b[0m\n\u001b[0;32m   1284\u001b[0m             \u001b[0mbody\u001b[0m \u001b[1;33m=\u001b[0m \u001b[0m_encode\u001b[0m\u001b[1;33m(\u001b[0m\u001b[0mbody\u001b[0m\u001b[1;33m,\u001b[0m \u001b[1;34m'body'\u001b[0m\u001b[1;33m)\u001b[0m\u001b[1;33m\u001b[0m\u001b[0m\n\u001b[1;32m-> 1285\u001b[1;33m         \u001b[0mself\u001b[0m\u001b[1;33m.\u001b[0m\u001b[0mendheaders\u001b[0m\u001b[1;33m(\u001b[0m\u001b[0mbody\u001b[0m\u001b[1;33m,\u001b[0m \u001b[0mencode_chunked\u001b[0m\u001b[1;33m=\u001b[0m\u001b[0mencode_chunked\u001b[0m\u001b[1;33m)\u001b[0m\u001b[1;33m\u001b[0m\u001b[0m\n\u001b[0m\u001b[0;32m   1286\u001b[0m \u001b[1;33m\u001b[0m\u001b[0m\n",
      "\u001b[1;32mC:\\Anaconda3\\lib\\http\\client.py\u001b[0m in \u001b[0;36mendheaders\u001b[1;34m(self, message_body, encode_chunked)\u001b[0m\n\u001b[0;32m   1233\u001b[0m             \u001b[1;32mraise\u001b[0m \u001b[0mCannotSendHeader\u001b[0m\u001b[1;33m(\u001b[0m\u001b[1;33m)\u001b[0m\u001b[1;33m\u001b[0m\u001b[0m\n\u001b[1;32m-> 1234\u001b[1;33m         \u001b[0mself\u001b[0m\u001b[1;33m.\u001b[0m\u001b[0m_send_output\u001b[0m\u001b[1;33m(\u001b[0m\u001b[0mmessage_body\u001b[0m\u001b[1;33m,\u001b[0m \u001b[0mencode_chunked\u001b[0m\u001b[1;33m=\u001b[0m\u001b[0mencode_chunked\u001b[0m\u001b[1;33m)\u001b[0m\u001b[1;33m\u001b[0m\u001b[0m\n\u001b[0m\u001b[0;32m   1235\u001b[0m \u001b[1;33m\u001b[0m\u001b[0m\n",
      "\u001b[1;32mC:\\Anaconda3\\lib\\http\\client.py\u001b[0m in \u001b[0;36m_send_output\u001b[1;34m(self, message_body, encode_chunked)\u001b[0m\n\u001b[0;32m   1025\u001b[0m         \u001b[1;32mdel\u001b[0m \u001b[0mself\u001b[0m\u001b[1;33m.\u001b[0m\u001b[0m_buffer\u001b[0m\u001b[1;33m[\u001b[0m\u001b[1;33m:\u001b[0m\u001b[1;33m]\u001b[0m\u001b[1;33m\u001b[0m\u001b[0m\n\u001b[1;32m-> 1026\u001b[1;33m         \u001b[0mself\u001b[0m\u001b[1;33m.\u001b[0m\u001b[0msend\u001b[0m\u001b[1;33m(\u001b[0m\u001b[0mmsg\u001b[0m\u001b[1;33m)\u001b[0m\u001b[1;33m\u001b[0m\u001b[0m\n\u001b[0m\u001b[0;32m   1027\u001b[0m \u001b[1;33m\u001b[0m\u001b[0m\n",
      "\u001b[1;32mC:\\Anaconda3\\lib\\http\\client.py\u001b[0m in \u001b[0;36msend\u001b[1;34m(self, data)\u001b[0m\n\u001b[0;32m    963\u001b[0m             \u001b[1;32mif\u001b[0m \u001b[0mself\u001b[0m\u001b[1;33m.\u001b[0m\u001b[0mauto_open\u001b[0m\u001b[1;33m:\u001b[0m\u001b[1;33m\u001b[0m\u001b[0m\n\u001b[1;32m--> 964\u001b[1;33m                 \u001b[0mself\u001b[0m\u001b[1;33m.\u001b[0m\u001b[0mconnect\u001b[0m\u001b[1;33m(\u001b[0m\u001b[1;33m)\u001b[0m\u001b[1;33m\u001b[0m\u001b[0m\n\u001b[0m\u001b[0;32m    965\u001b[0m             \u001b[1;32melse\u001b[0m\u001b[1;33m:\u001b[0m\u001b[1;33m\u001b[0m\u001b[0m\n",
      "\u001b[1;32mC:\\Anaconda3\\lib\\site-packages\\requests\\packages\\urllib3\\connection.py\u001b[0m in \u001b[0;36mconnect\u001b[1;34m(self)\u001b[0m\n\u001b[0;32m    165\u001b[0m     \u001b[1;32mdef\u001b[0m \u001b[0mconnect\u001b[0m\u001b[1;33m(\u001b[0m\u001b[0mself\u001b[0m\u001b[1;33m)\u001b[0m\u001b[1;33m:\u001b[0m\u001b[1;33m\u001b[0m\u001b[0m\n\u001b[1;32m--> 166\u001b[1;33m         \u001b[0mconn\u001b[0m \u001b[1;33m=\u001b[0m \u001b[0mself\u001b[0m\u001b[1;33m.\u001b[0m\u001b[0m_new_conn\u001b[0m\u001b[1;33m(\u001b[0m\u001b[1;33m)\u001b[0m\u001b[1;33m\u001b[0m\u001b[0m\n\u001b[0m\u001b[0;32m    167\u001b[0m         \u001b[0mself\u001b[0m\u001b[1;33m.\u001b[0m\u001b[0m_prepare_conn\u001b[0m\u001b[1;33m(\u001b[0m\u001b[0mconn\u001b[0m\u001b[1;33m)\u001b[0m\u001b[1;33m\u001b[0m\u001b[0m\n",
      "\u001b[1;32mC:\\Anaconda3\\lib\\site-packages\\requests\\packages\\urllib3\\connection.py\u001b[0m in \u001b[0;36m_new_conn\u001b[1;34m(self)\u001b[0m\n\u001b[0;32m    149\u001b[0m             raise NewConnectionError(\n\u001b[1;32m--> 150\u001b[1;33m                 self, \"Failed to establish a new connection: %s\" % e)\n\u001b[0m\u001b[0;32m    151\u001b[0m \u001b[1;33m\u001b[0m\u001b[0m\n",
      "\u001b[1;31mNewConnectionError\u001b[0m: <requests.packages.urllib3.connection.HTTPConnection object at 0x000000000AC834E0>: Failed to establish a new connection: [WinError 10061] 由于目标计算机积极拒绝，无法连接。",
      "\nDuring handling of the above exception, another exception occurred:\n",
      "\u001b[1;31mMaxRetryError\u001b[0m                             Traceback (most recent call last)",
      "\u001b[1;32mC:\\Anaconda3\\lib\\site-packages\\requests\\adapters.py\u001b[0m in \u001b[0;36msend\u001b[1;34m(self, request, stream, timeout, verify, cert, proxies)\u001b[0m\n\u001b[0;32m    437\u001b[0m                     \u001b[0mretries\u001b[0m\u001b[1;33m=\u001b[0m\u001b[0mself\u001b[0m\u001b[1;33m.\u001b[0m\u001b[0mmax_retries\u001b[0m\u001b[1;33m,\u001b[0m\u001b[1;33m\u001b[0m\u001b[0m\n\u001b[1;32m--> 438\u001b[1;33m                     \u001b[0mtimeout\u001b[0m\u001b[1;33m=\u001b[0m\u001b[0mtimeout\u001b[0m\u001b[1;33m\u001b[0m\u001b[0m\n\u001b[0m\u001b[0;32m    439\u001b[0m                 )\n",
      "\u001b[1;32mC:\\Anaconda3\\lib\\site-packages\\requests\\packages\\urllib3\\connectionpool.py\u001b[0m in \u001b[0;36murlopen\u001b[1;34m(self, method, url, body, headers, retries, redirect, assert_same_host, timeout, pool_timeout, release_conn, chunked, body_pos, **response_kw)\u001b[0m\n\u001b[0;32m    648\u001b[0m             retries = retries.increment(method, url, error=e, _pool=self,\n\u001b[1;32m--> 649\u001b[1;33m                                         _stacktrace=sys.exc_info()[2])\n\u001b[0m\u001b[0;32m    650\u001b[0m             \u001b[0mretries\u001b[0m\u001b[1;33m.\u001b[0m\u001b[0msleep\u001b[0m\u001b[1;33m(\u001b[0m\u001b[1;33m)\u001b[0m\u001b[1;33m\u001b[0m\u001b[0m\n",
      "\u001b[1;32mC:\\Anaconda3\\lib\\site-packages\\requests\\packages\\urllib3\\util\\retry.py\u001b[0m in \u001b[0;36mincrement\u001b[1;34m(self, method, url, response, error, _pool, _stacktrace)\u001b[0m\n\u001b[0;32m    387\u001b[0m         \u001b[1;32mif\u001b[0m \u001b[0mnew_retry\u001b[0m\u001b[1;33m.\u001b[0m\u001b[0mis_exhausted\u001b[0m\u001b[1;33m(\u001b[0m\u001b[1;33m)\u001b[0m\u001b[1;33m:\u001b[0m\u001b[1;33m\u001b[0m\u001b[0m\n\u001b[1;32m--> 388\u001b[1;33m             \u001b[1;32mraise\u001b[0m \u001b[0mMaxRetryError\u001b[0m\u001b[1;33m(\u001b[0m\u001b[0m_pool\u001b[0m\u001b[1;33m,\u001b[0m \u001b[0murl\u001b[0m\u001b[1;33m,\u001b[0m \u001b[0merror\u001b[0m \u001b[1;32mor\u001b[0m \u001b[0mResponseError\u001b[0m\u001b[1;33m(\u001b[0m\u001b[0mcause\u001b[0m\u001b[1;33m)\u001b[0m\u001b[1;33m)\u001b[0m\u001b[1;33m\u001b[0m\u001b[0m\n\u001b[0m\u001b[0;32m    389\u001b[0m \u001b[1;33m\u001b[0m\u001b[0m\n",
      "\u001b[1;31mMaxRetryError\u001b[0m: HTTPConnectionPool(host='www.hkexnews.hk', port=80): Max retries exceeded with url: /sdw/search/searchsdw_c.aspx (Caused by NewConnectionError('<requests.packages.urllib3.connection.HTTPConnection object at 0x000000000AC834E0>: Failed to establish a new connection: [WinError 10061] 由于目标计算机积极拒绝，无法连接。',))",
      "\nDuring handling of the above exception, another exception occurred:\n",
      "\u001b[1;31mConnectionError\u001b[0m                           Traceback (most recent call last)",
      "\u001b[1;32m<ipython-input-12-2317ab6b0206>\u001b[0m in \u001b[0;36m<module>\u001b[1;34m()\u001b[0m\n\u001b[1;32m----> 1\u001b[1;33m \u001b[0mget_html\u001b[0m \u001b[1;33m=\u001b[0m \u001b[0mrequests\u001b[0m\u001b[1;33m.\u001b[0m\u001b[0mpost\u001b[0m\u001b[1;33m(\u001b[0m\u001b[1;34m\"http://www.hkexnews.hk/sdw/search/searchsdw_c.aspx\"\u001b[0m\u001b[1;33m,\u001b[0m\u001b[0mdata\u001b[0m\u001b[1;33m=\u001b[0m\u001b[0mparams\u001b[0m\u001b[1;33m)\u001b[0m\u001b[1;33m\u001b[0m\u001b[0m\n\u001b[0m",
      "\u001b[1;32mC:\\Anaconda3\\lib\\site-packages\\requests\\api.py\u001b[0m in \u001b[0;36mpost\u001b[1;34m(url, data, json, **kwargs)\u001b[0m\n\u001b[0;32m    110\u001b[0m     \"\"\"\n\u001b[0;32m    111\u001b[0m \u001b[1;33m\u001b[0m\u001b[0m\n\u001b[1;32m--> 112\u001b[1;33m     \u001b[1;32mreturn\u001b[0m \u001b[0mrequest\u001b[0m\u001b[1;33m(\u001b[0m\u001b[1;34m'post'\u001b[0m\u001b[1;33m,\u001b[0m \u001b[0murl\u001b[0m\u001b[1;33m,\u001b[0m \u001b[0mdata\u001b[0m\u001b[1;33m=\u001b[0m\u001b[0mdata\u001b[0m\u001b[1;33m,\u001b[0m \u001b[0mjson\u001b[0m\u001b[1;33m=\u001b[0m\u001b[0mjson\u001b[0m\u001b[1;33m,\u001b[0m \u001b[1;33m**\u001b[0m\u001b[0mkwargs\u001b[0m\u001b[1;33m)\u001b[0m\u001b[1;33m\u001b[0m\u001b[0m\n\u001b[0m\u001b[0;32m    113\u001b[0m \u001b[1;33m\u001b[0m\u001b[0m\n\u001b[0;32m    114\u001b[0m \u001b[1;33m\u001b[0m\u001b[0m\n",
      "\u001b[1;32mC:\\Anaconda3\\lib\\site-packages\\requests\\api.py\u001b[0m in \u001b[0;36mrequest\u001b[1;34m(method, url, **kwargs)\u001b[0m\n\u001b[0;32m     56\u001b[0m     \u001b[1;31m# cases, and look like a memory leak in others.\u001b[0m\u001b[1;33m\u001b[0m\u001b[1;33m\u001b[0m\u001b[0m\n\u001b[0;32m     57\u001b[0m     \u001b[1;32mwith\u001b[0m \u001b[0msessions\u001b[0m\u001b[1;33m.\u001b[0m\u001b[0mSession\u001b[0m\u001b[1;33m(\u001b[0m\u001b[1;33m)\u001b[0m \u001b[1;32mas\u001b[0m \u001b[0msession\u001b[0m\u001b[1;33m:\u001b[0m\u001b[1;33m\u001b[0m\u001b[0m\n\u001b[1;32m---> 58\u001b[1;33m         \u001b[1;32mreturn\u001b[0m \u001b[0msession\u001b[0m\u001b[1;33m.\u001b[0m\u001b[0mrequest\u001b[0m\u001b[1;33m(\u001b[0m\u001b[0mmethod\u001b[0m\u001b[1;33m=\u001b[0m\u001b[0mmethod\u001b[0m\u001b[1;33m,\u001b[0m \u001b[0murl\u001b[0m\u001b[1;33m=\u001b[0m\u001b[0murl\u001b[0m\u001b[1;33m,\u001b[0m \u001b[1;33m**\u001b[0m\u001b[0mkwargs\u001b[0m\u001b[1;33m)\u001b[0m\u001b[1;33m\u001b[0m\u001b[0m\n\u001b[0m\u001b[0;32m     59\u001b[0m \u001b[1;33m\u001b[0m\u001b[0m\n\u001b[0;32m     60\u001b[0m \u001b[1;33m\u001b[0m\u001b[0m\n",
      "\u001b[1;32mC:\\Anaconda3\\lib\\site-packages\\requests\\sessions.py\u001b[0m in \u001b[0;36mrequest\u001b[1;34m(self, method, url, params, data, headers, cookies, files, auth, timeout, allow_redirects, proxies, hooks, stream, verify, cert, json)\u001b[0m\n\u001b[0;32m    516\u001b[0m         }\n\u001b[0;32m    517\u001b[0m         \u001b[0msend_kwargs\u001b[0m\u001b[1;33m.\u001b[0m\u001b[0mupdate\u001b[0m\u001b[1;33m(\u001b[0m\u001b[0msettings\u001b[0m\u001b[1;33m)\u001b[0m\u001b[1;33m\u001b[0m\u001b[0m\n\u001b[1;32m--> 518\u001b[1;33m         \u001b[0mresp\u001b[0m \u001b[1;33m=\u001b[0m \u001b[0mself\u001b[0m\u001b[1;33m.\u001b[0m\u001b[0msend\u001b[0m\u001b[1;33m(\u001b[0m\u001b[0mprep\u001b[0m\u001b[1;33m,\u001b[0m \u001b[1;33m**\u001b[0m\u001b[0msend_kwargs\u001b[0m\u001b[1;33m)\u001b[0m\u001b[1;33m\u001b[0m\u001b[0m\n\u001b[0m\u001b[0;32m    519\u001b[0m \u001b[1;33m\u001b[0m\u001b[0m\n\u001b[0;32m    520\u001b[0m         \u001b[1;32mreturn\u001b[0m \u001b[0mresp\u001b[0m\u001b[1;33m\u001b[0m\u001b[0m\n",
      "\u001b[1;32mC:\\Anaconda3\\lib\\site-packages\\requests\\sessions.py\u001b[0m in \u001b[0;36msend\u001b[1;34m(self, request, **kwargs)\u001b[0m\n\u001b[0;32m    637\u001b[0m \u001b[1;33m\u001b[0m\u001b[0m\n\u001b[0;32m    638\u001b[0m         \u001b[1;31m# Send the request\u001b[0m\u001b[1;33m\u001b[0m\u001b[1;33m\u001b[0m\u001b[0m\n\u001b[1;32m--> 639\u001b[1;33m         \u001b[0mr\u001b[0m \u001b[1;33m=\u001b[0m \u001b[0madapter\u001b[0m\u001b[1;33m.\u001b[0m\u001b[0msend\u001b[0m\u001b[1;33m(\u001b[0m\u001b[0mrequest\u001b[0m\u001b[1;33m,\u001b[0m \u001b[1;33m**\u001b[0m\u001b[0mkwargs\u001b[0m\u001b[1;33m)\u001b[0m\u001b[1;33m\u001b[0m\u001b[0m\n\u001b[0m\u001b[0;32m    640\u001b[0m \u001b[1;33m\u001b[0m\u001b[0m\n\u001b[0;32m    641\u001b[0m         \u001b[1;31m# Total elapsed time of the request (approximately)\u001b[0m\u001b[1;33m\u001b[0m\u001b[1;33m\u001b[0m\u001b[0m\n",
      "\u001b[1;32mC:\\Anaconda3\\lib\\site-packages\\requests\\adapters.py\u001b[0m in \u001b[0;36msend\u001b[1;34m(self, request, stream, timeout, verify, cert, proxies)\u001b[0m\n\u001b[0;32m    500\u001b[0m                 \u001b[1;32mraise\u001b[0m \u001b[0mProxyError\u001b[0m\u001b[1;33m(\u001b[0m\u001b[0me\u001b[0m\u001b[1;33m,\u001b[0m \u001b[0mrequest\u001b[0m\u001b[1;33m=\u001b[0m\u001b[0mrequest\u001b[0m\u001b[1;33m)\u001b[0m\u001b[1;33m\u001b[0m\u001b[0m\n\u001b[0;32m    501\u001b[0m \u001b[1;33m\u001b[0m\u001b[0m\n\u001b[1;32m--> 502\u001b[1;33m             \u001b[1;32mraise\u001b[0m \u001b[0mConnectionError\u001b[0m\u001b[1;33m(\u001b[0m\u001b[0me\u001b[0m\u001b[1;33m,\u001b[0m \u001b[0mrequest\u001b[0m\u001b[1;33m=\u001b[0m\u001b[0mrequest\u001b[0m\u001b[1;33m)\u001b[0m\u001b[1;33m\u001b[0m\u001b[0m\n\u001b[0m\u001b[0;32m    503\u001b[0m \u001b[1;33m\u001b[0m\u001b[0m\n\u001b[0;32m    504\u001b[0m         \u001b[1;32mexcept\u001b[0m \u001b[0mClosedPoolError\u001b[0m \u001b[1;32mas\u001b[0m \u001b[0me\u001b[0m\u001b[1;33m:\u001b[0m\u001b[1;33m\u001b[0m\u001b[0m\n",
      "\u001b[1;31mConnectionError\u001b[0m: HTTPConnectionPool(host='www.hkexnews.hk', port=80): Max retries exceeded with url: /sdw/search/searchsdw_c.aspx (Caused by NewConnectionError('<requests.packages.urllib3.connection.HTTPConnection object at 0x000000000AC834E0>: Failed to establish a new connection: [WinError 10061] 由于目标计算机积极拒绝，无法连接。',))"
     ]
    }
   ],
   "source": [
    "get_html = requests.post(\"http://www.hkexnews.hk/sdw/search/searchsdw_c.aspx\",data=params)"
   ]
  },
  {
   "cell_type": "code",
   "execution_count": 15,
   "metadata": {},
   "outputs": [
    {
     "data": {
      "text/plain": [
       "'\\r\\n<!DOCTYPE html PUBLIC \"-//W3C//DTD XHTML 1.0 Transitional//EN\" \"http://www.w3.org/TR/xhtml1/DTD/xhtml1-transitional.dtd\">\\r\\n<html xmlns=\"http://www.w3.org/1999/xhtml\">\\r\\n<head><title>\\r\\n\\t:: HKEX :: HKEXnews ::\\r\\n</title><link href=\"css/hkex_css.css\" rel=\"stylesheet\" type=\"text/css\" />\\r\\n    <script type=\"text/javascript\" src=\"/script/hkex_scripts.js\"></script>\\r\\n    <script type=\"text/javascript\" src=\"/script/hkex_common_c.js\"></script>\\r\\n    <script type=\"text/javascript\" src=\"/script/hkex_setting_c.js\"></script>\\r\\n    <script type=\"text/javascript\" src=\"js/search_form_var_chi.js?v=20150720\"></script>\\r\\n    <script type=\"text/javascript\" src=\"js/search_form.js?v=20150720\"></script>\\r\\n    <script type=\"text/javascript\">\\r\\n        function PopUpStockList() {\\r\\n            shareholdingDate = $(\"select[id$=\\'ddlShareholdingYear\\']\").val() + $(\"select[id$=\\'ddlShareholdingMonth\\']\").val() + $(\"select[id$=\\'ddlShareholdingDay\\']\").val();\\r\\n            window.open(\\'stocklist_c.aspx?SortBy=StockCode&ShareholdingDate=\\' + shareholdingDate, \\'\\', \\'directories=no,menubar=no,scrollbars=yes,status=no,toolbar=no,height=400,width=400\\');\\r\\n            return false;\\r\\n        }\\r\\n        function PopUpParticipantList() {\\r\\n            shareholdingDate = $(\"select[id$=\\'ddlShareholdingYear\\']\").val() + $(\"select[id$=\\'ddlShareholdingMonth\\']\").val() + $(\"select[id$=\\'ddlShareholdingDay\\']\").val();\\r\\n            window.open(\\'partlist_c.aspx?SortBy=PartID&ShareholdingDate=\\' + shareholdingDate, \\'\\', \\'directories=no,menubar=no,scrollbars=yes,status=no,toolbar=no,height=400,width=400\\');\\r\\n            return false;\\r\\n        }\\r\\n        function Re_sort(sortBy) {\\r\\n            $(\"input[id=\\'sortBy\\']\").val(sortBy);\\r\\n            $(\"input[id=\\'btnSearch\\']\").click();\\r\\n        }\\r\\n        var checkShareholdingDate = true;\\r\\n    </script>\\r\\n</head>\\r\\n<body class=\"body1\" style=\"margin: 0px; background-color: #FFFFFF; color: #333333;\"\\r\\n    link=\"#333333\" vlink=\"#336699\">\\r\\n    <script type=\"text/javascript\" src=\"/script/hkex_head_utf_c.js\"></script>\\r\\n    <form name=\"form1\" method=\"post\" action=\"./searchsdw_c.aspx\" id=\"form1\" style=\"text-align: left;\">\\r\\n<input type=\"hidden\" name=\"__VIEWSTATE\" id=\"__VIEWSTATE\" value=\"ayqnp87eNSaSGliyaIJvBPntVZOdRaskIxLn9PihaicmtO4gigYycNbG5QDSrssHjxVvS8w7MSkvev5OtlANumAHzagjZrfEwFUBQqH2wEArtDnDRdwagUc6I6LApwUXzA62v1XXiSnZLKCK+BH7liXfefinN25IyKpZxu9HSCOkN9BebylNGdTPBefy5+9k955BYA==\" />\\r\\n\\r\\n<input type=\"hidden\" name=\"__VIEWSTATEGENERATOR\" id=\"__VIEWSTATEGENERATOR\" value=\"3B50BBBD\" />\\r\\n<input type=\"hidden\" name=\"__EVENTVALIDATION\" id=\"__EVENTVALIDATION\" value=\"J9DcuGtaY0sMN9tURq0mVlIwwpT8fC+AuUauAwa9FzFUuQbPbsiefMBngTKqHfqrmSz+B1/eSdp3TK3mvh5SMm6OH5LJANb3drIuYHu+/LF0VJLzPnankFZ9FCRmu/5tyTjHlpHQH7InqXtcOIRyG9wB0Kc7F/7n06o7FQUCsBMTKVCCJ/8Edi1jBEi4sbh06HiNEkzDP79wmZkLHEhc226yNvh4FZKqpElLfAZRxUPyGPBAxfNLIFJU6+UzPrksyjhAYs/w5CFXcvh86gGFDt2GTlNtbmaojiD4sIj6XCKq5Iu/ge8jVSWaJi1Ux/2b5aFJf+mHPB2qt3/YJQFzRis9ExbvqH19/gbislN3dNSuNFTubCiu20G2CGrM8aMJdXDkg14zlc7nOMrr8c0TIsN8ctcPZqDVQc5G4Kr4qpFiDajBkJJc/LVIXCNb9B08L5vkBHFBoGPkvkdMWCnlbyd1ezGevq0xVPakjRM72vIsNAJZ/vrm6aa5+fM5XlaA1k9JUmBIuHFNqjYBV6cAyMJiH92h54z28mdER7MgfoMnFocCBGXOVIkRG7/L7gB3vl02MbT2wt2GLrfYulHbQ2Kal7bvdjSwSAGiX2DC2lCtclWc23K3WaEDRpG+joBRIAoYgWEPt7yT07M23k7t951rg+U30/snZJyqIAHi52FuE++sQQKvox0ZKX72JBx9DvjeVc92yqiKqkOMq3388WhCnTSZI23uMc6pIlm6GRAZmcYtZmJsIQinrIaD/XX3y7aiqZO58iWMr5WuoxIaIjI3Z/L+Q/8S6ReVo5N6TQanRJCMykjung551XB8Ohu/B5uqQnkUIm/8xoNeCOvSIALzRsIUkse+NEDhgHusTyAWOC3ttthhzyVlznT/Q5uXtfqNwrk+5SIb3J7EVZoSkbUIncVwKLrn7ShSFNFueqKSGCpDVnfcvggpjPOi5UiP0d5oGycq7w/4qKLSwyLuWy32TKxnyOAc+a/awAcGRuxKG7+tAteWxaAjfaOZY/i6hnN7clvWljpBYp2lhAKSknYY0Ik6BDmX0xF1rlgMQ5pbqS+Ms4UFBYYGWozuj5XgPnVn3eXMKmmuw378IkjcKskCM4oCnM4Xg0W5BpGqgr02ILDQuZ7nGpfHOAxdz21ULJu4k5MGZT2fr/vGkCQLBWktcMfx3NJgHzSf1tIehZZKu5ELschnNqOSThEdWMleAp67Tymu/EbH1evDWEhoG/V09Lo5kT/8Sk9Hk17Ixgz5NwpJx2yMWCS5n5z7ZLGfvAw3FA==\" />\\r\\n        <input type=\"hidden\" name=\"today\" id=\"today\" value=\"20180621\" />\\r\\n        <input type=\"hidden\" name=\"sortBy\" id=\"sortBy\" />\\r\\n        <input type=\"hidden\" name=\"selPartID\" id=\"selPartID\" />\\r\\n        <input type=\"hidden\" name=\"alertMsg\" id=\"alertMsg\" />\\r\\n        <div id=\"pnlDisclaimer\">\\r\\n\\t\\r\\n            <table border=\"0\" width=\"100%\" cellspacing=\"0\" cellpadding=\"0\">\\r\\n                <tr>\\r\\n                    <td class=\"table_header\">\\r\\n                        <table width=\"100%\" border=\"0\" cellpadding=\"0\" cellspacing=\"0\">\\r\\n                            <tr>\\r\\n                                <td width=\"8\" align=\"left\" valign=\"top\">\\r\\n                                    <img src=\"../../image/spacer.gif\" alt=\"\" width=\"10\" height=\"10\" />\\r\\n                                </td>\\r\\n                                <td width=\"100%\">\\r\\n                                    <table width=\"100%\" border=\"0\" cellpadding=\"5\" cellspacing=\"0\">\\r\\n                                        <tr>\\r\\n                                            <!-- page title label: CCASS shareholding information Search -->\\r\\n                                            <td nowrap=\"nowrap\">\\r\\n                                                <span class=\"arial12black\"><strong>\\r\\n                                                    中央結算系統持股紀錄查詢服務</strong></span>\\r\\n                                            </td>\\r\\n                                            <td style=\"text-align: right;\" nowrap=\"nowrap\" class=\"arial11black\">\\r\\n                                                請注意本<a href=\"files/Disclaimer%20(C).doc\"\\r\\n                                                    target=\"_blank\">免責聲明</a>。\\r\\n                                            </td>\\r\\n                                        </tr>\\r\\n                                    </table>\\r\\n                                </td>\\r\\n                            </tr>\\r\\n                        </table>\\r\\n                    </td>\\r\\n                </tr>\\r\\n                <tr>\\r\\n                    <td>\\r\\n                        <table width=\"100%\" border=\"0\" cellpadding=\"0\" cellspacing=\"0\">\\r\\n                            <tr>\\r\\n                                <td width=\"8\" align=\"left\" valign=\"top\">\\r\\n                                    <img src=\"../../image/spacer.gif\" alt=\"\" width=\"10\" height=\"10\" />\\r\\n                                </td>\\r\\n                                <td width=\"100%\">\\r\\n                                    <table width=\"100%\" border=\"0\" cellpadding=\"5\" cellspacing=\"0\">\\r\\n                                        <tr>\\r\\n                                            <!-- Explanatory note -->\\r\\n                                            <td>\\r\\n                                                <span class=\"arial12black\">\\r\\n                                                    閣下可査詢過去十二個月的中央結算系統持股紀錄，按閣下選擇的股份及持股日期所顯示的資料乃中央結算系統參與者於該日日終的持股量。如果所選擇的持股日期是星期日或香港公共假期，則會顯示最後一個非星期日或香港公共假期的持股紀錄。\\r\\n<br/><br/>\\r\\n如欲查詢，請選擇持股日期及輸入股份代號或股份名稱；如欲查詢某指定中央結算系統參與者於某日持有某股份的數量，亦可一併輸入該中央結算系統參與者的編號或名稱。\\r\\n<br/><br/>\\r\\n閣下亦可透過 <A HREF=\"\"mailto:psh@hkex.com.hk\"\"><U>psh@hkex.com.hk</U></A> 遞交書面申請以索取過去七年的中央結算系統持股記錄，有關資料將會透過光碟或其他方式發放，並需收取費用。</span>\\r\\n                                            </td>\\r\\n                                        </tr>\\r\\n                                    </table>\\r\\n                                </td>\\r\\n                            </tr>\\r\\n                            <tr>\\r\\n                                <td colspan=\"2\" style=\"background-color: #000000; width: 100%; height: 1px; padding: 0px;\"></td>\\r\\n                            </tr>\\r\\n                        </table>\\r\\n                    </td>\\r\\n                </tr>\\r\\n                <tr>\\r\\n                    <td></td>\\r\\n                </tr>\\r\\n            </table>\\r\\n        \\r\\n</div>\\r\\n        <div id=\"pnlSearch\">\\r\\n\\t\\r\\n            <table width=\"100%\" border=\"0\" cellpadding=\"0\" cellspacing=\"0\" class=\"table_header\">\\r\\n                <tr>\\r\\n                    <td height=\"8\" align=\"left\" valign=\"bottom\" bgcolor=\"#FFFFFF\">\\r\\n                        <!-- Outter Cells  -->\\r\\n                        <table width=\"100%\" border=\"0\" cellpadding=\"0\" cellspacing=\"0\">\\r\\n                            <tr>\\r\\n                                <!-- 1st blink row -->\\r\\n                                <td colspan=\"4\" align=\"left\" valign=\"top\">\\r\\n                                    <img src=\"../../../image/spacer.gif\" width=\"10\" height=\"10\" />\\r\\n                                </td>\\r\\n                            </tr>\\r\\n                            <tr>\\r\\n                                <!-- Shareholding date -->\\r\\n                                <td align=\"left\" valign=\"top\">\\r\\n                                    <img src=\"../../../image/spacer.gif\" width=\"10\" height=\"10\" />\\r\\n                                </td>\\r\\n                                <td align=\"left\">\\r\\n                                    <table border=\"0\" cellspacing=\"0\" cellpadding=\"5\">\\r\\n                                        <tr>\\r\\n                                            <td style=\"text-align: right;\" nowrap=\"nowrap\" class=\"arial12black\">\\r\\n                                                持股日期\\r\\n                                            </td>\\r\\n                                        </tr>\\r\\n                                    </table>\\r\\n                                </td>\\r\\n                                <td width=\"100%\" align=\"left\" valign=\"top\" nowrap=\"nowrap\" class=\"arial12black\">\\r\\n                                    <select name=\"ddlShareholdingDay\" id=\"ddlShareholdingDay\" class=\"arial12black\">\\r\\n\\t\\t<option value=\"01\">01</option>\\r\\n\\t\\t<option value=\"02\">02</option>\\r\\n\\t\\t<option value=\"03\">03</option>\\r\\n\\t\\t<option value=\"04\">04</option>\\r\\n\\t\\t<option value=\"05\">05</option>\\r\\n\\t\\t<option value=\"06\">06</option>\\r\\n\\t\\t<option value=\"07\">07</option>\\r\\n\\t\\t<option value=\"08\">08</option>\\r\\n\\t\\t<option value=\"09\">09</option>\\r\\n\\t\\t<option value=\"10\">10</option>\\r\\n\\t\\t<option value=\"11\">11</option>\\r\\n\\t\\t<option value=\"12\">12</option>\\r\\n\\t\\t<option value=\"13\">13</option>\\r\\n\\t\\t<option value=\"14\">14</option>\\r\\n\\t\\t<option value=\"15\">15</option>\\r\\n\\t\\t<option value=\"16\">16</option>\\r\\n\\t\\t<option value=\"17\">17</option>\\r\\n\\t\\t<option value=\"18\">18</option>\\r\\n\\t\\t<option value=\"19\">19</option>\\r\\n\\t\\t<option selected=\"selected\" value=\"20\">20</option>\\r\\n\\t\\t<option value=\"21\">21</option>\\r\\n\\t\\t<option value=\"22\">22</option>\\r\\n\\t\\t<option value=\"23\">23</option>\\r\\n\\t\\t<option value=\"24\">24</option>\\r\\n\\t\\t<option value=\"25\">25</option>\\r\\n\\t\\t<option value=\"26\">26</option>\\r\\n\\t\\t<option value=\"27\">27</option>\\r\\n\\t\\t<option value=\"28\">28</option>\\r\\n\\t\\t<option value=\"29\">29</option>\\r\\n\\t\\t<option value=\"30\">30</option>\\r\\n\\t\\t<option value=\"31\">31</option>\\r\\n\\r\\n\\t</select>\\r\\n                                    <select name=\"ddlShareholdingMonth\" id=\"ddlShareholdingMonth\" class=\"arial12black\">\\r\\n\\t\\t<option value=\"01\">01</option>\\r\\n\\t\\t<option value=\"02\">02</option>\\r\\n\\t\\t<option value=\"03\">03</option>\\r\\n\\t\\t<option value=\"04\">04</option>\\r\\n\\t\\t<option value=\"05\">05</option>\\r\\n\\t\\t<option selected=\"selected\" value=\"06\">06</option>\\r\\n\\t\\t<option value=\"07\">07</option>\\r\\n\\t\\t<option value=\"08\">08</option>\\r\\n\\t\\t<option value=\"09\">09</option>\\r\\n\\t\\t<option value=\"10\">10</option>\\r\\n\\t\\t<option value=\"11\">11</option>\\r\\n\\t\\t<option value=\"12\">12</option>\\r\\n\\r\\n\\t</select>\\r\\n                                    <select name=\"ddlShareholdingYear\" id=\"ddlShareholdingYear\" class=\"arial12black\">\\r\\n\\t\\t<option selected=\"selected\" value=\"2018\">2018</option>\\r\\n\\t\\t<option value=\"2017\">2017</option>\\r\\n\\r\\n\\t</select>\\r\\n                                </td>\\r\\n                                <td>\\r\\n                                    <img src=\"../../../image/spacer.gif\" width=\"10\" height=\"10\" />\\r\\n                                </td>\\r\\n                            </tr>\\r\\n                            <tr>\\r\\n                                <!-- stock code -->\\r\\n                                <td align=\"left\" valign=\"top\">\\r\\n                                    <img src=\"../../../image/spacer.gif\" width=\"10\" height=\"10\" />\\r\\n                                </td>\\r\\n                                <td align=\"left\">\\r\\n                                    <table border=\"0\" cellspacing=\"0\" cellpadding=\"5\">\\r\\n                                        <tr>\\r\\n                                            <td style=\"text-align: right;\" nowrap=\"nowrap\" class=\"arial12black\">\\r\\n                                                股份代號\\r\\n                                            </td>\\r\\n                                        </tr>\\r\\n                                    </table>\\r\\n                                </td>\\r\\n                                <td width=\"100%\" align=\"left\" valign=\"top\">\\r\\n                                    <table border=\"0\" cellspacing=\"0\" cellpadding=\"2\">\\r\\n                                        <tr>\\r\\n                                            <td nowrap=\"nowrap\">\\r\\n                                                <input name=\"txtStockCode\" type=\"text\" maxlength=\"5\" id=\"txtStockCode\" class=\"arial12black\" size=\"10\" />\\r\\n                                            </td>\\r\\n                                            <td nowrap=\"nowrap\">\\r\\n                                                <a style=\"cursor: pointer;\" onclick=\\'Javascript:PopUpStockList();\\'><span class=\"arial11grey\"\\r\\n                                                    onmouseover=\\'this.style.textDecoration=\"underline\"\\' onmouseout=\\'this.style.textDecoration=\"none\"\\'>\\r\\n                                                    股份名單</span></a>\\r\\n                                            </td>\\r\\n                                        </tr>\\r\\n                                    </table>\\r\\n                                </td>\\r\\n                                <td>\\r\\n                                    <img src=\"../../../image/spacer.gif\" width=\"10\" height=\"10\" />\\r\\n                                </td>\\r\\n                            </tr>\\r\\n                            <tr>\\r\\n                                <!-- Stock name -->\\r\\n                                <td align=\"left\" valign=\"top\">\\r\\n                                    <img src=\"../../../image/spacer.gif\" width=\"10\" height=\"10\" />\\r\\n                                </td>\\r\\n                                <td align=\"left\">\\r\\n                                    <table border=\"0\" cellspacing=\"0\" cellpadding=\"5\">\\r\\n                                        <tr>\\r\\n                                            <td style=\"text-align: right;\" nowrap=\"nowrap\" class=\"arial12black\">\\r\\n                                                股份名稱\\r\\n                                            </td>\\r\\n                                        </tr>\\r\\n                                    </table>\\r\\n                                </td>\\r\\n                                <td width=\"100%\" align=\"left\" valign=\"top\">\\r\\n                                    <table border=\"0\" cellspacing=\"0\" cellpadding=\"2\">\\r\\n                                        <tr>\\r\\n                                            <td nowrap=\"nowrap\">\\r\\n                                                <input name=\"txtStockName\" type=\"text\" maxlength=\"80\" id=\"txtStockName\" class=\"arial12black\" size=\"60\" />\\r\\n                                                \\r\\n                                            </td>\\r\\n                                        </tr>\\r\\n                                    </table>\\r\\n                                </td>\\r\\n                                <td>\\r\\n                                    <img src=\"../../../image/spacer.gif\" width=\"10\" height=\"10\" />\\r\\n                                </td>\\r\\n                            </tr>\\r\\n                            <tr>\\r\\n                                <!-- Partip. ID -->\\r\\n                                <td align=\"left\" valign=\"top\">\\r\\n                                    <img src=\"../../../image/spacer.gif\" width=\"10\" height=\"10\" />\\r\\n                                </td>\\r\\n                                <td align=\"left\">\\r\\n                                    <table border=\"0\" cellspacing=\"0\" cellpadding=\"5\">\\r\\n                                        <tr>\\r\\n                                            <td style=\"text-align: right;\" nowrap=\"nowrap\" class=\"arial12black\">\\r\\n                                                中央結算系統參與者編號\\r\\n                                            </td>\\r\\n                                        </tr>\\r\\n                                    </table>\\r\\n                                </td>\\r\\n                                <td width=\"100%\" align=\"left\" valign=\"top\">\\r\\n                                    <table border=\"0\" cellspacing=\"0\" cellpadding=\"2\">\\r\\n                                        <tr>\\r\\n                                            <td nowrap=\"nowrap\">\\r\\n                                                <input name=\"txtParticipantID\" type=\"text\" maxlength=\"6\" id=\"txtParticipantID\" class=\"arial12black\" size=\"10\" />\\r\\n                                            </td>\\r\\n                                            <td nowrap=\"nowrap\">\\r\\n                                                <a style=\"cursor: pointer;\" onclick=\\'Javascript:PopUpParticipantList();\\'><span class=\"arial11grey\"\\r\\n                                                    onmouseover=\\'this.style.textDecoration=\"underline\"\\' onmouseout=\\'this.style.textDecoration=\"none\"\\'>\\r\\n                                                    中央結算系統參與者名錄(中介人)</span></a>\\r\\n                                            </td>\\r\\n                                        </tr>\\r\\n                                    </table>\\r\\n                                </td>\\r\\n                                <td>\\r\\n                                    <img src=\"../../../image/spacer.gif\" width=\"10\" height=\"10\" />\\r\\n                                </td>\\r\\n                            </tr>\\r\\n                            <tr>\\r\\n                                <!-- Partip. Name -->\\r\\n                                <td align=\"left\" valign=\"top\">\\r\\n                                    <img src=\"../../../image/spacer.gif\" width=\"10\" height=\"10\" />\\r\\n                                </td>\\r\\n                                <td align=\"left\">\\r\\n                                    <table border=\"0\" cellspacing=\"0\" cellpadding=\"5\">\\r\\n                                        <tr>\\r\\n                                            <td style=\"text-align: right;\" nowrap=\"nowrap\" class=\"arial12black\">\\r\\n                                                中央結算系統參與者名稱\\r\\n                                            </td>\\r\\n                                        </tr>\\r\\n                                    </table>\\r\\n                                </td>\\r\\n                                <td width=\"100%\" align=\"left\" valign=\"top\">\\r\\n                                    <table border=\"0\" cellspacing=\"0\" cellpadding=\"2\">\\r\\n                                        <tr>\\r\\n                                            <td nowrap=\"nowrap\">\\r\\n                                                <input name=\"txtParticipantName\" type=\"text\" maxlength=\"80\" id=\"txtParticipantName\" class=\"arial12black\" size=\"60\" />\\r\\n                                                \\r\\n                                            </td>\\r\\n                                        </tr>\\r\\n                                    </table>\\r\\n                                </td>\\r\\n                                <td>\\r\\n                                    <img src=\"../../../image/spacer.gif\" width=\"10\" height=\"10\" />\\r\\n                                </td>\\r\\n                            </tr>\\r\\n                            <tr>\\r\\n                                <!-- blank row-->\\r\\n                                <td height=\"1\" colspan=\"4\" align=\"left\" valign=\"top\">\\r\\n                                    <img src=\"../../../image/spacer.gif\" width=\"10\" height=\"10\" />\\r\\n                                </td>\\r\\n                            </tr>\\r\\n                            <tr>\\r\\n                                <!-- button row  -->\\r\\n                                <td height=\"1\" align=\"left\" valign=\"top\">&nbsp;\\r\\n                                </td>\\r\\n                                <td height=\"1\" align=\"left\" valign=\"top\">&nbsp;\\r\\n                                </td>\\r\\n                                <td height=\"1\" align=\"left\" valign=\"top\">\\r\\n                                    <input type=\"image\" name=\"btnSearch\" id=\"btnSearch\" src=\"../../../image/search_c.gif\" alt=\"Search\" onclick=\"if(!preprocessMainForm(document.form1)) return false;\" border=\"0\" />\\r\\n                                    <a href=\"javascript:location.href=location.href;\">\\r\\n                                        <img src=\"../../../image/clear_c.gif\" border=\"0\" alt=\"clear\" /></a>\\r\\n                                </td>\\r\\n                                <td height=\"1\" align=\"left\" valign=\"top\">&nbsp;\\r\\n                                </td>\\r\\n                            </tr>\\r\\n                        </table>\\r\\n                        <!-- end Outter Cells  -->\\r\\n                    </td>\\r\\n                </tr>\\r\\n            </table>\\r\\n        \\r\\n</div>\\r\\n        \\r\\n    </form>\\r\\n    <script type=\"text/javascript\" src=\"/script/hkex_foot.js\"></script>\\r\\n</body>\\r\\n</html>\\r\\n'"
      ]
     },
     "execution_count": 15,
     "metadata": {},
     "output_type": "execute_result"
    }
   ],
   "source": [
    "get_html.text"
   ]
  },
  {
   "cell_type": "code",
   "execution_count": 8,
   "metadata": {
    "collapsed": true
   },
   "outputs": [],
   "source": [
    "soup1 = BeautifulSoup(get_html.text,'html.parser')"
   ]
  },
  {
   "cell_type": "code",
   "execution_count": 10,
   "metadata": {},
   "outputs": [
    {
     "data": {
      "text/plain": [
       "'01\\n02\\n03\\n04\\n05\\n06\\n07\\n08\\n09\\n10\\n11\\n12\\n13\\n14\\n15\\n16\\n17\\n18\\n19\\n20\\n21\\n22\\n23\\n24\\n25\\n26\\n27\\n28\\n29\\n30\\n31'"
      ]
     },
     "execution_count": 10,
     "metadata": {},
     "output_type": "execute_result"
    }
   ],
   "source": [
    "soup1.find('select',{'name':'ddlShareholdingDay'}).get_text().strip()"
   ]
  }
 ],
 "metadata": {
  "kernelspec": {
   "display_name": "Python 3",
   "language": "python",
   "name": "python3"
  },
  "language_info": {
   "codemirror_mode": {
    "name": "ipython",
    "version": 3
   },
   "file_extension": ".py",
   "mimetype": "text/x-python",
   "name": "python",
   "nbconvert_exporter": "python",
   "pygments_lexer": "ipython3",
   "version": "3.6.1"
  }
 },
 "nbformat": 4,
 "nbformat_minor": 2
}
